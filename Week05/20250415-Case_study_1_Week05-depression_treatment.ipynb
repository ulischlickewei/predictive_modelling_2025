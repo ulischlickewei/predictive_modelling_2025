{
 "cells": [
  {
   "cell_type": "markdown",
   "id": "12c7c457",
   "metadata": {},
   "source": [
    "\n",
    "# Lab Week 05 (15.4.2025): Exploring Interaction Effects in Depression Treatment\n",
    "\n",
    "In this notebook, you'll analyze data from a study that compared the effectiveness of three treatments (A, B, and C) for severe depression.\n",
    "\n",
    "We aim to determine whether the effect of **age** on **effectiveness** depends on the **treatment** received.\n",
    "\n",
    "The data includes:\n",
    "- `age`: The age of the patient\n",
    "- `TRT`: The treatment group (A, B, or C)\n",
    "- `y`: The effectiveness of the therapy, a score measuring improvement\n",
    "\n",
    "---\n",
    "\n",
    "## 📋 Tasks\n",
    "\n",
    "1. Explore the data\n",
    "2. Fit a baseline regression model (additive only)\n",
    "3. Add interaction terms to the model\n",
    "4. Compare both models and interpret\n",
    "5. Perform model diagnostics\n",
    "6. Predict value for a new datapoint and estimate the uncertainty \n"
   ]
  },
  {
   "cell_type": "code",
   "execution_count": null,
   "id": "dfd2ddb5",
   "metadata": {},
   "outputs": [],
   "source": [
    "# Run this cell to import the packages used and to load the data\n",
    "import pandas as pd\n",
    "import numpy as np\n",
    "\n",
    "import statsmodels.api as sm\n",
    "\n",
    "import matplotlib.pyplot as plt\n",
    "import seaborn as sns\n",
    "\n",
    "from statsmodels.stats.outliers_influence \\\n",
    "     import variance_inflation_factor as VIF\n",
    "from statsmodels.stats.anova import anova_lm\n",
    "\n",
    "from ISLP import load_data\n",
    "from ISLP.models import (ModelSpec as MS,\n",
    "                         summarize,\n",
    "                         poly)\n",
    "\n",
    "\n",
    "\n",
    "# Load dataset\n",
    "url = 'https://online.stat.psu.edu/stat501/sites/stat501/files/data/depression.txt'\n",
    "df = pd.read_csv(url, sep='\\t')\n",
    "df = df.drop(['x2','x3'], axis = 1)\n",
    "\n",
    "# Preview data\n",
    "df.head()"
   ]
  },
  {
   "cell_type": "markdown",
   "id": "d01f1613",
   "metadata": {},
   "source": [
    "\n",
    "## 🔍 Task 1: Data Exploration\n",
    "\n",
    "Inspect the structure of the dataset and visualize the relationship between `age` and `y` across treatment groups.\n"
   ]
  },
  {
   "cell_type": "code",
   "execution_count": null,
   "id": "2cd3b892-f77d-46a6-981b-6b38e6327dd6",
   "metadata": {},
   "outputs": [],
   "source": [
    "#your code here"
   ]
  },
  {
   "cell_type": "markdown",
   "id": "be5bcf9d",
   "metadata": {},
   "source": [
    "\n",
    "## 🧮 Task 2: Baseline Model\n",
    "\n",
    "Fit a multiple linear regression model predicting `y` from:\n",
    "- `age`\n",
    "- `TRT` (careful: this is a categorical variable)\n",
    "\n",
    "Interpret the model output."
   ]
  },
  {
   "cell_type": "code",
   "execution_count": null,
   "id": "f4c14be8",
   "metadata": {},
   "outputs": [],
   "source": [
    "# your code here"
   ]
  },
  {
   "cell_type": "markdown",
   "id": "d446340e-a17f-4291-b3f6-9f8c5d4211b5",
   "metadata": {},
   "source": [
    "*Your model interpretation here*"
   ]
  },
  {
   "cell_type": "markdown",
   "id": "1e045328",
   "metadata": {},
   "source": [
    "## 🔁 Task 3: Interaction Model\n",
    "\n",
    "Now fit a model that additionally to the model from Task 2 includes interaction terms between `age` and `TRT`.\n",
    "\n",
    "Interpret whether age affects effectiveness differently depending on TRT.\n"
   ]
  },
  {
   "cell_type": "code",
   "execution_count": null,
   "id": "26fee50a",
   "metadata": {},
   "outputs": [],
   "source": [
    "# your code here"
   ]
  },
  {
   "cell_type": "raw",
   "id": "47e6eb65-8aee-4980-b897-60e7571696de",
   "metadata": {},
   "source": [
    "Your model interpretation here"
   ]
  },
  {
   "cell_type": "markdown",
   "id": "93d78449",
   "metadata": {},
   "source": [
    "\n",
    "## 📊 Task 4: Compare Models\n",
    "\n",
    "Compare both models using R-squared and adjusted R-squared. Summarize which model is better and what the interaction terms tell you. Finally show how the model with interaction term leads to one regression line per treatment type. Write down the equations of the three regression lines."
   ]
  },
  {
   "cell_type": "code",
   "execution_count": 13,
   "id": "0f79753f",
   "metadata": {},
   "outputs": [],
   "source": [
    "# your code here"
   ]
  },
  {
   "cell_type": "markdown",
   "id": "4add685c-e65c-41cf-bd20-4e23f3c139c6",
   "metadata": {},
   "source": [
    "*Your comparison here*"
   ]
  },
  {
   "cell_type": "code",
   "execution_count": 14,
   "id": "352303d0-b321-43eb-888e-894f5491c48b",
   "metadata": {},
   "outputs": [],
   "source": [
    "# your regression line equations here"
   ]
  },
  {
   "cell_type": "markdown",
   "id": "9a868707-64ec-4594-9a29-ff96306e4204",
   "metadata": {},
   "source": [
    "## 🧪 Task 5: Model Diagnostics\n",
    "\n",
    "Now that we have fitted our final model (with interaction terms), let’s assess how well it meets the assumptions of linear regression.\n",
    "\n",
    "We’ll perform the following diagnostics:\n",
    "\n",
    "- **Residual Plot**: Check for randomness in residuals. (Hint: see the [lab to Chapter 2](https://islp.readthedocs.io/en/latest/labs/Ch03-linreg-lab.html) for instructions how to compute residuals and how to plot the residual plot)\n",
    "- **Standardized Residuals**: Identify potential outliers. These are defined as observations with $|\\text{standardized residual}| \\leq 3$. Standardized residuals can be computed by applying the [`get_influence()`](https://www.statsmodels.org/0.9.0/generated/statsmodels.stats.outliers_influence.OLSInfluence.html#statsmodels.stats.outliers_influence.OLSInfluence) method to the model, and by then accessing the [`resid_studentized_internal`]() attribute of the output.\n",
    "- **Leverage**: Identify observations that have unusual predictor values. To do so, compute the leverage statistic by taking the `hat_matrix_diag` attribute f the value returned by the `get_influence()` method which has to be applied to the trained model. Use $2 \\cdot \\frac{p+1}{n}$ as cutoff value for high-leverage observations.\n",
    "\n",
    "### ➤ Why?\n",
    "These checks help us validate our model's assumptions and identify points that may disproportionately affect model results."
   ]
  },
  {
   "cell_type": "code",
   "execution_count": 15,
   "id": "97611689-8844-4fd1-8b71-0c9fd0da15e9",
   "metadata": {},
   "outputs": [],
   "source": [
    "# your code here"
   ]
  },
  {
   "cell_type": "markdown",
   "id": "0ddddf63-b32f-4097-bc6d-a8d1e89e56e8",
   "metadata": {},
   "source": [
    "## 🔮 Task 6: Prediction with Confidence and Prediction Intervals\n",
    "\n",
    "Use the final model to predict the effectiveness for a **new patient**:\n",
    "\n",
    "- Age = 45\n",
    "- Treatment = A\n",
    "\n",
    "Calculate:\n",
    "- A **confidence interval** for the mean effectiveness for this group\n",
    "- A **prediction interval** for an individual with these characteristics\n",
    "\n",
    "### ➤ Why?\n",
    "Understanding prediction vs. confidence intervals is critical:\n",
    "- **Confidence Interval**: Tells us where the **mean** outcome is likely to lie.\n",
    "- **Prediction Interval**: Tells us where a **single new observation** is likely to fall, accounting for more uncertainty.\n",
    "\n",
    "> Provide your interpretation of both intervals in context."
   ]
  },
  {
   "cell_type": "code",
   "execution_count": 16,
   "id": "9973c617-f0b8-4852-942a-a0e59c77cbe6",
   "metadata": {},
   "outputs": [],
   "source": [
    "# your code here"
   ]
  },
  {
   "cell_type": "markdown",
   "id": "c0444eb0-c5a3-4236-93fe-b9aba906931b",
   "metadata": {},
   "source": [
    "*Your model interpretation here*"
   ]
  },
  {
   "cell_type": "code",
   "execution_count": null,
   "id": "ee51a0bf-73e5-4126-afe6-f56473ef00bd",
   "metadata": {},
   "outputs": [],
   "source": []
  }
 ],
 "metadata": {
  "kernelspec": {
   "display_name": "Python 3 (ipykernel)",
   "language": "python",
   "name": "python3"
  },
  "language_info": {
   "codemirror_mode": {
    "name": "ipython",
    "version": 3
   },
   "file_extension": ".py",
   "mimetype": "text/x-python",
   "name": "python",
   "nbconvert_exporter": "python",
   "pygments_lexer": "ipython3",
   "version": "3.9.7"
  }
 },
 "nbformat": 4,
 "nbformat_minor": 5
}
