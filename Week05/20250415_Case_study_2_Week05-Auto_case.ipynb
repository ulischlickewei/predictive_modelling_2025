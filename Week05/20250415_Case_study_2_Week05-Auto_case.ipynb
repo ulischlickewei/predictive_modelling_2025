{
 "cells": [
  {
   "cell_type": "markdown",
   "metadata": {
    "id": "WkrWKXfF5AL3"
   },
   "source": [
    "# Preparing the environment"
   ]
  },
  {
   "cell_type": "code",
   "execution_count": null,
   "metadata": {
    "id": "UO5wcrqe4671"
   },
   "outputs": [],
   "source": [
    "# import all needed packages\n",
    "import numpy as np\n",
    "import pandas as pd\n",
    "\n",
    "import statsmodels.api as sm\n",
    "\n",
    "import matplotlib.pyplot as plt\n",
    "import seaborn as sns\n",
    "\n",
    "from statsmodels.stats.outliers_influence \\\n",
    "     import variance_inflation_factor as VIF\n",
    "from statsmodels.stats.anova import anova_lm\n",
    "\n",
    "from ISLP import load_data\n",
    "from ISLP.models import (ModelSpec as MS,\n",
    "                         summarize,\n",
    "                         poly)"
   ]
  },
  {
   "cell_type": "markdown",
   "metadata": {
    "id": "PmQ-fEimxClo"
   },
   "source": [
    "# A) Case study\n",
    "(see textbook Exercise 3.7.9)\n",
    "\n",
    "*Information on the dataset*\n",
    "\n",
    "Gas mileage, horsepower, and other information for 392 vehicles.\n",
    "\n",
    "A data frame with 392 observations on the following 9 variables.\n",
    "\n",
    "- `mpg`: miles per gallon\n",
    "- `cylinders`: Number of cylinders between 4 and 8\n",
    "- `displacement`: Engine displacement (cu. inches)\n",
    "- `horsepower`: Engine horsepower\n",
    "- `weight`: Vehicle weight (lbs.)\n",
    "- `acceleration`: Time to accelerate from 0 to 60 mph (sec.)\n",
    "- `year`: Model year (modulo 100)\n",
    "- `origin`: Origin of car (1. American, 2. European, 3. Japanese)\n",
    "- `name`: Vehicle name"
   ]
  },
  {
   "cell_type": "code",
   "execution_count": null,
   "metadata": {
    "id": "GOzJ-i9CxFKi"
   },
   "outputs": [],
   "source": [
    "# run this cell to load the data\n",
    "Auto = load_data('Auto')\n",
    "Auto"
   ]
  },
  {
   "cell_type": "markdown",
   "metadata": {
    "id": "rxKG_NJg-qC6"
   },
   "source": [
    "## Task 1\n",
    "Produce a scatterplot matrix which includes all of the variables in the data set."
   ]
  },
  {
   "cell_type": "code",
   "execution_count": null,
   "metadata": {
    "id": "1UYc669H_Ugq"
   },
   "outputs": [],
   "source": [
    "fig, ax = plt.subplots(figsize=(15,15))\n",
    "pd.plotting.scatter_matrix(Auto, ax=ax);"
   ]
  },
  {
   "cell_type": "markdown",
   "metadata": {
    "id": "V43Cz37gIjDz"
   },
   "source": [
    "We observe that all variables seem to be related to `mpg`. This indicates that it might be a good starting point to build a regression model with all possible predictor variables."
   ]
  },
  {
   "cell_type": "markdown",
   "metadata": {
    "id": "vAazknGd_jPs"
   },
   "source": [
    "## Task 2\n",
    "Compute the matrix of correlations between the variables using the `DataFrame.corr()` method."
   ]
  },
  {
   "cell_type": "code",
   "execution_count": null,
   "metadata": {
    "id": "Ufno8tZM_lQX"
   },
   "outputs": [],
   "source": [
    "corrmat = Auto.corr()\n",
    "corrmat"
   ]
  },
  {
   "cell_type": "code",
   "execution_count": null,
   "metadata": {
    "id": "ZB4FX0b2GZgI"
   },
   "outputs": [],
   "source": [
    "# Additional possibility: visualization of correlation matrix using a heatmap\n",
    "import seaborn as sns\n",
    "fig, ax = plt.subplots(figsize=(12,8))\n",
    "sns.heatmap(corrmat)"
   ]
  },
  {
   "cell_type": "markdown",
   "metadata": {
    "id": "bEZkaMLjIyw3"
   },
   "source": [
    "We observe that several of our potential predictor variables are highly correlated, e.g. displacement and weight, displacement and cylinders, displacement and horsepower. It might be a good idea to investigate this in more detail later."
   ]
  },
  {
   "cell_type": "markdown",
   "metadata": {
    "id": "TSMg6KEJ_vDy"
   },
   "source": [
    "## Task 3\n",
    "Use the `sm.OLS()` function to perform a multiple linear regression with `mpg` as the response and all other variables except `name` as the predictors. Use the `summarize()` function to print the results. Comment on the output. For instance:\n",
    "\n",
    "1. Is there a relationship between the predictors and the response? Use the `summary()` function from statsmodels to answer this question.\n",
    "2. Which predictors appear to have a statistically significant relationship to the response?\n",
    "3. What does the coefficient for the `year` variable suggest?"
   ]
  },
  {
   "cell_type": "code",
   "execution_count": null,
   "metadata": {
    "id": "meDcRAddROlh"
   },
   "outputs": [],
   "source": [
    "# change dtype of origin column to make\n",
    "# sure that ModelSpec recognizes origin as\n",
    "# qualitative variable\n",
    "Auto_new = Auto.astype({'origin' : 'category'})"
   ]
  },
  {
   "cell_type": "code",
   "execution_count": null,
   "metadata": {
    "id": "od2KTB01RekO"
   },
   "outputs": [],
   "source": [
    "Auto.dtypes"
   ]
  },
  {
   "cell_type": "code",
   "execution_count": null,
   "metadata": {
    "id": "u9OmBeDURf9J"
   },
   "outputs": [],
   "source": [
    "Auto_new.dtypes"
   ]
  },
  {
   "cell_type": "code",
   "execution_count": null,
   "metadata": {
    "id": "Tdvc7Jqf_w9q"
   },
   "outputs": [],
   "source": [
    "# create design matrix\n",
    "predictors = Auto_new.columns.drop(['name','mpg'])\n",
    "design = MS(predictors).fit(Auto_new)"
   ]
  },
  {
   "cell_type": "code",
   "execution_count": null,
   "metadata": {
    "id": "gslfGXT-OnaB"
   },
   "outputs": [],
   "source": [
    "X = design.transform(Auto_new)\n",
    "X"
   ]
  },
  {
   "cell_type": "code",
   "execution_count": null,
   "metadata": {
    "id": "jEOfKLHyPUQZ"
   },
   "outputs": [],
   "source": [
    "X_manual = Auto.drop(columns=['mpg','name'])\n",
    "X_manual['intercept'] = np.ones(Auto.shape[0])\n",
    "X_manual"
   ]
  },
  {
   "cell_type": "code",
   "execution_count": null,
   "metadata": {
    "id": "z4EJs1VLQz_j",
    "tags": []
   },
   "outputs": [],
   "source": [
    "X_manual.dtypes"
   ]
  },
  {
   "cell_type": "code",
   "execution_count": null,
   "metadata": {
    "id": "KleysTCXM379",
    "tags": []
   },
   "outputs": [],
   "source": [
    "y = Auto.mpg\n",
    "model = sm.OLS(y,X)\n",
    "results=model.fit()\n",
    "summarize(results)"
   ]
  },
  {
   "cell_type": "markdown",
   "metadata": {
    "id": "paAjcY_-ASC8",
    "tags": []
   },
   "source": [
    "### Analysis of the model\n",
    "1. Is there a relationship between the predictors and the response? Use the `summary()` function from statsmodels to answer this question."
   ]
  },
  {
   "cell_type": "code",
   "execution_count": null,
   "metadata": {
    "tags": []
   },
   "outputs": [],
   "source": [
    "# your code here"
   ]
  },
  {
   "cell_type": "markdown",
   "metadata": {},
   "source": [
    "*Your interpretation here*"
   ]
  },
  {
   "cell_type": "markdown",
   "metadata": {},
   "source": [
    "2. Which predictors appear to have a statistically significant relationship to the response?"
   ]
  },
  {
   "cell_type": "markdown",
   "metadata": {},
   "source": [
    "*Your interpretation here*"
   ]
  },
  {
   "cell_type": "markdown",
   "metadata": {},
   "source": [
    "3. What does the coefficient for the `year` variable suggest?"
   ]
  },
  {
   "cell_type": "markdown",
   "metadata": {},
   "source": [
    "*Your interpretation here*"
   ]
  },
  {
   "cell_type": "markdown",
   "metadata": {
    "id": "7jHrZf-8qjNM"
   },
   "source": [
    "## Task 4\n",
    "Produce some of diagnostic plots of the linear regression fit as described in the lab. Comment on any problems you see with the fit. Do the residual plots suggest any unusually large outliers? Does the leverage plot identify any observations with unusually high leverage?"
   ]
  },
  {
   "cell_type": "markdown",
   "metadata": {},
   "source": [
    "### Residual plot"
   ]
  },
  {
   "cell_type": "code",
   "execution_count": 1,
   "metadata": {
    "id": "IOm50p-0rCOW"
   },
   "outputs": [],
   "source": [
    "# your code here"
   ]
  },
  {
   "cell_type": "markdown",
   "metadata": {},
   "source": [
    "*Your interpretation here*"
   ]
  },
  {
   "cell_type": "markdown",
   "metadata": {},
   "source": [
    "### Outlier analysis"
   ]
  },
  {
   "cell_type": "code",
   "execution_count": null,
   "metadata": {
    "tags": []
   },
   "outputs": [],
   "source": [
    "# your code here"
   ]
  },
  {
   "cell_type": "markdown",
   "metadata": {},
   "source": [
    "*Your interpretation here*"
   ]
  },
  {
   "cell_type": "markdown",
   "metadata": {},
   "source": [
    "### Influential observations"
   ]
  },
  {
   "cell_type": "code",
   "execution_count": 2,
   "metadata": {
    "tags": []
   },
   "outputs": [],
   "source": [
    "# your code here"
   ]
  },
  {
   "cell_type": "markdown",
   "metadata": {},
   "source": [
    "*Your interpretation here*"
   ]
  },
  {
   "cell_type": "markdown",
   "metadata": {},
   "source": [
    "### VIF table"
   ]
  },
  {
   "cell_type": "code",
   "execution_count": null,
   "metadata": {
    "tags": []
   },
   "outputs": [],
   "source": [
    "# your code here"
   ]
  },
  {
   "cell_type": "markdown",
   "metadata": {},
   "source": [
    "*Your interpretation here*"
   ]
  },
  {
   "cell_type": "markdown",
   "metadata": {
    "id": "gH7BAdNLAhSi"
   },
   "source": [
    "## Task 5\n",
    "Try a few different transformations of the variables, such as $log(X)$, $\\sqrt{X}$, $X^2$. Comment on your findings."
   ]
  },
  {
   "cell_type": "code",
   "execution_count": null,
   "metadata": {
    "id": "pN_MUvO8AutV"
   },
   "outputs": [],
   "source": [
    "# Your code here"
   ]
  },
  {
   "cell_type": "markdown",
   "metadata": {
    "id": "_0CWxt83AyLh"
   },
   "source": [
    "*Please document your observations here.*"
   ]
  }
 ],
 "metadata": {
  "colab": {
   "authorship_tag": "ABX9TyP6YCcka7bZpm0ECnhACcmG",
   "include_colab_link": true,
   "provenance": [],
   "toc_visible": true
  },
  "kernelspec": {
   "display_name": "Python 3 (ipykernel)",
   "language": "python",
   "name": "python3"
  },
  "language_info": {
   "codemirror_mode": {
    "name": "ipython",
    "version": 3
   },
   "file_extension": ".py",
   "mimetype": "text/x-python",
   "name": "python",
   "nbconvert_exporter": "python",
   "pygments_lexer": "ipython3",
   "version": "3.9.7"
  }
 },
 "nbformat": 4,
 "nbformat_minor": 4
}
