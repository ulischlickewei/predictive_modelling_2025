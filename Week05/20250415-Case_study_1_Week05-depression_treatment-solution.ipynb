{
 "cells": [
  {
   "cell_type": "markdown",
   "id": "12c7c457",
   "metadata": {},
   "source": [
    "\n",
    "# Lab Week 05 (15.4.2025): Exploring Interaction Effects in Depression Treatment\n",
    "\n",
    "In this notebook, you'll analyze data from a study that compared the effectiveness of three treatments (A, B, and C) for severe depression.\n",
    "\n",
    "We aim to determine whether the effect of **age** on **effectiveness** depends on the **treatment** received.\n",
    "\n",
    "The data includes:\n",
    "- `age`: The age of the patient\n",
    "- `TRT`: The treatment group (A, B, or C)\n",
    "- `y`: The effectiveness of the therapy, a score measuring improvement\n",
    "\n",
    "---\n",
    "\n",
    "## 📋 Tasks\n",
    "\n",
    "1. Explore the data\n",
    "2. Fit a baseline regression model (additive only)\n",
    "3. Add interaction terms to the model\n",
    "4. Compare both models and interpret\n",
    "5. Perform model diagnostics\n",
    "6. Predict value for a new datapoint and estimate the uncertainty \n"
   ]
  },
  {
   "cell_type": "code",
   "execution_count": 7,
   "id": "dfd2ddb5",
   "metadata": {},
   "outputs": [
    {
     "data": {
      "text/html": [
       "<div>\n",
       "<style scoped>\n",
       "    .dataframe tbody tr th:only-of-type {\n",
       "        vertical-align: middle;\n",
       "    }\n",
       "\n",
       "    .dataframe tbody tr th {\n",
       "        vertical-align: top;\n",
       "    }\n",
       "\n",
       "    .dataframe thead th {\n",
       "        text-align: right;\n",
       "    }\n",
       "</style>\n",
       "<table border=\"1\" class=\"dataframe\">\n",
       "  <thead>\n",
       "    <tr style=\"text-align: right;\">\n",
       "      <th></th>\n",
       "      <th>y</th>\n",
       "      <th>age</th>\n",
       "      <th>TRT</th>\n",
       "    </tr>\n",
       "  </thead>\n",
       "  <tbody>\n",
       "    <tr>\n",
       "      <th>0</th>\n",
       "      <td>56</td>\n",
       "      <td>21</td>\n",
       "      <td>A</td>\n",
       "    </tr>\n",
       "    <tr>\n",
       "      <th>1</th>\n",
       "      <td>41</td>\n",
       "      <td>23</td>\n",
       "      <td>B</td>\n",
       "    </tr>\n",
       "    <tr>\n",
       "      <th>2</th>\n",
       "      <td>40</td>\n",
       "      <td>30</td>\n",
       "      <td>B</td>\n",
       "    </tr>\n",
       "    <tr>\n",
       "      <th>3</th>\n",
       "      <td>28</td>\n",
       "      <td>19</td>\n",
       "      <td>C</td>\n",
       "    </tr>\n",
       "    <tr>\n",
       "      <th>4</th>\n",
       "      <td>55</td>\n",
       "      <td>28</td>\n",
       "      <td>A</td>\n",
       "    </tr>\n",
       "  </tbody>\n",
       "</table>\n",
       "</div>"
      ],
      "text/plain": [
       "    y  age TRT\n",
       "0  56   21   A\n",
       "1  41   23   B\n",
       "2  40   30   B\n",
       "3  28   19   C\n",
       "4  55   28   A"
      ]
     },
     "execution_count": 7,
     "metadata": {},
     "output_type": "execute_result"
    }
   ],
   "source": [
    "# Run this cell to import the packages used and to load the data\n",
    "import pandas as pd\n",
    "import numpy as np\n",
    "\n",
    "import statsmodels.api as sm\n",
    "\n",
    "import matplotlib.pyplot as plt\n",
    "import seaborn as sns\n",
    "\n",
    "from statsmodels.stats.outliers_influence \\\n",
    "     import variance_inflation_factor as VIF\n",
    "from statsmodels.stats.anova import anova_lm\n",
    "\n",
    "from ISLP import load_data\n",
    "from ISLP.models import (ModelSpec as MS,\n",
    "                         summarize,\n",
    "                         poly)\n",
    "\n",
    "\n",
    "\n",
    "# Load dataset\n",
    "url = 'https://online.stat.psu.edu/stat501/sites/stat501/files/data/depression.txt'\n",
    "df = pd.read_csv(url, sep='\\t')\n",
    "df = df.drop(['x2','x3'], axis = 1)\n",
    "\n",
    "# Preview data\n",
    "df.head()"
   ]
  },
  {
   "cell_type": "markdown",
   "id": "d01f1613",
   "metadata": {},
   "source": [
    "\n",
    "## 🔍 Task 1: Data Exploration\n",
    "\n",
    "Inspect the structure of the dataset and visualize the relationship between `age` and `y` across treatment groups.\n"
   ]
  },
  {
   "cell_type": "code",
   "execution_count": 8,
   "id": "2cd3b892-f77d-46a6-981b-6b38e6327dd6",
   "metadata": {},
   "outputs": [
    {
     "data": {
      "text/html": [
       "<div>\n",
       "<style scoped>\n",
       "    .dataframe tbody tr th:only-of-type {\n",
       "        vertical-align: middle;\n",
       "    }\n",
       "\n",
       "    .dataframe tbody tr th {\n",
       "        vertical-align: top;\n",
       "    }\n",
       "\n",
       "    .dataframe thead th {\n",
       "        text-align: right;\n",
       "    }\n",
       "</style>\n",
       "<table border=\"1\" class=\"dataframe\">\n",
       "  <thead>\n",
       "    <tr style=\"text-align: right;\">\n",
       "      <th></th>\n",
       "      <th>y</th>\n",
       "      <th>age</th>\n",
       "    </tr>\n",
       "  </thead>\n",
       "  <tbody>\n",
       "    <tr>\n",
       "      <th>count</th>\n",
       "      <td>36.000000</td>\n",
       "      <td>36.000000</td>\n",
       "    </tr>\n",
       "    <tr>\n",
       "      <th>mean</th>\n",
       "      <td>55.166667</td>\n",
       "      <td>44.111111</td>\n",
       "    </tr>\n",
       "    <tr>\n",
       "      <th>std</th>\n",
       "      <td>12.415428</td>\n",
       "      <td>14.628305</td>\n",
       "    </tr>\n",
       "    <tr>\n",
       "      <th>min</th>\n",
       "      <td>25.000000</td>\n",
       "      <td>19.000000</td>\n",
       "    </tr>\n",
       "    <tr>\n",
       "      <th>25%</th>\n",
       "      <td>46.750000</td>\n",
       "      <td>32.250000</td>\n",
       "    </tr>\n",
       "    <tr>\n",
       "      <th>50%</th>\n",
       "      <td>58.000000</td>\n",
       "      <td>44.000000</td>\n",
       "    </tr>\n",
       "    <tr>\n",
       "      <th>75%</th>\n",
       "      <td>63.250000</td>\n",
       "      <td>56.500000</td>\n",
       "    </tr>\n",
       "    <tr>\n",
       "      <th>max</th>\n",
       "      <td>73.000000</td>\n",
       "      <td>67.000000</td>\n",
       "    </tr>\n",
       "  </tbody>\n",
       "</table>\n",
       "</div>"
      ],
      "text/plain": [
       "               y        age\n",
       "count  36.000000  36.000000\n",
       "mean   55.166667  44.111111\n",
       "std    12.415428  14.628305\n",
       "min    25.000000  19.000000\n",
       "25%    46.750000  32.250000\n",
       "50%    58.000000  44.000000\n",
       "75%    63.250000  56.500000\n",
       "max    73.000000  67.000000"
      ]
     },
     "execution_count": 8,
     "metadata": {},
     "output_type": "execute_result"
    }
   ],
   "source": [
    "#solution\n",
    "df.describe()"
   ]
  },
  {
   "cell_type": "code",
   "execution_count": 9,
   "id": "ed8aa6ce-405e-4a66-b5d9-5f1dde8b0934",
   "metadata": {},
   "outputs": [
    {
     "data": {
      "text/plain": [
       "TRT\n",
       "A    12\n",
       "B    12\n",
       "C    12\n",
       "Name: count, dtype: int64"
      ]
     },
     "execution_count": 9,
     "metadata": {},
     "output_type": "execute_result"
    }
   ],
   "source": [
    "df['TRT'].value_counts()"
   ]
  },
  {
   "cell_type": "code",
   "execution_count": 10,
   "id": "8d24b9ad",
   "metadata": {},
   "outputs": [
    {
     "data": {
      "image/png": "[encoded data removed]",
      "text/plain": [
       "<Figure size 779.75x600 with 1 Axes>"
      ]
     },
     "metadata": {},
     "output_type": "display_data"
    }
   ],
   "source": [
    "# Visualize relationship (note: you can also use different plot types such as a scatter plot. The lmplot (linear model plot) is specifically\n",
    "# useful here beacuse it already demonstrates the difference in how the relationship between age and effectiveness is influenced by the treatment type)\n",
    "sns.lmplot(x='age', y='y', hue='TRT', data=df, markers=['o', 's', 'D'], palette='Set1', height=6, aspect=1.2)\n",
    "plt.title('Effectiveness vs. age by treatment')\n",
    "plt.show()"
   ]
  },
  {
   "cell_type": "markdown",
   "id": "be5bcf9d",
   "metadata": {},
   "source": [
    "\n",
    "## 🧮 Task 2: Baseline Model\n",
    "\n",
    "Fit a multiple linear regression model predicting `y` from:\n",
    "- `age`\n",
    "- `TRT` (careful: this is a categorical variable)\n",
    "\n",
    "Interpret the model output."
   ]
  },
  {
   "cell_type": "code",
   "execution_count": 11,
   "id": "f4c14be8",
   "metadata": {},
   "outputs": [
    {
     "name": "stdout",
     "output_type": "stream",
     "text": [
      "                            OLS Regression Results                            \n",
      "==============================================================================\n",
      "Dep. Variable:                      y   R-squared:                       0.784\n",
      "Model:                            OLS   Adj. R-squared:                  0.764\n",
      "Method:                 Least Squares   F-statistic:                     38.71\n",
      "Date:                Tue, 15 Apr 2025   Prob (F-statistic):           9.29e-11\n",
      "Time:                        10:34:18   Log-Likelihood:                -113.68\n",
      "No. Observations:                  36   AIC:                             235.4\n",
      "Df Residuals:                      32   BIC:                             241.7\n",
      "Df Model:                           3                                         \n",
      "Covariance Type:            nonrobust                                         \n",
      "==============================================================================\n",
      "                 coef    std err          t      P>|t|      [0.025      0.975]\n",
      "------------------------------------------------------------------------------\n",
      "intercept     32.5433      3.581      9.088      0.000      25.249      39.838\n",
      "age            0.6645      0.070      9.522      0.000       0.522       0.807\n",
      "TRT[B]        -9.8076      2.465     -3.979      0.000     -14.828      -4.787\n",
      "TRT[C]       -10.2528      2.465     -4.159      0.000     -15.275      -5.231\n",
      "==============================================================================\n",
      "Omnibus:                        1.212   Durbin-Watson:                   2.214\n",
      "Prob(Omnibus):                  0.546   Jarque-Bera (JB):                1.196\n",
      "Skew:                          -0.347   Prob(JB):                        0.550\n",
      "Kurtosis:                       2.438   Cond. No.                         184.\n",
      "==============================================================================\n",
      "\n",
      "Notes:\n",
      "[1] Standard Errors assume that the covariance matrix of the errors is correctly specified.\n"
     ]
    },
    {
     "name": "stderr",
     "output_type": "stream",
     "text": [
      "/opt/tljh/user/lib/python3.9/site-packages/ISLP/models/columns.py:151: FutureWarning: Series.__getitem__ treating keys as positions is deprecated. In a future version, integer keys will always be treated as labels (consistent with DataFrame behavior). To access a value by position, use `ser.iloc[pos]`\n",
      "  if is_categorical[i]:\n",
      "/opt/tljh/user/lib/python3.9/site-packages/ISLP/models/columns.py:151: FutureWarning: Series.__getitem__ treating keys as positions is deprecated. In a future version, integer keys will always be treated as labels (consistent with DataFrame behavior). To access a value by position, use `ser.iloc[pos]`\n",
      "  if is_categorical[i]:\n",
      "/opt/tljh/user/lib/python3.9/site-packages/ISLP/models/columns.py:151: FutureWarning: Series.__getitem__ treating keys as positions is deprecated. In a future version, integer keys will always be treated as labels (consistent with DataFrame behavior). To access a value by position, use `ser.iloc[pos]`\n",
      "  if is_categorical[i]:\n",
      "/opt/tljh/user/lib/python3.9/site-packages/ISLP/models/columns.py:152: FutureWarning: Series.__getitem__ treating keys as positions is deprecated. In a future version, integer keys will always be treated as labels (consistent with DataFrame behavior). To access a value by position, use `ser.iloc[pos]`\n",
      "  if is_ordinal[i]:\n",
      "/opt/tljh/user/lib/python3.9/site-packages/ISLP/models/columns.py:169: FutureWarning: Series.__getitem__ treating keys as positions is deprecated. In a future version, integer keys will always be treated as labels (consistent with DataFrame behavior). To access a value by position, use `ser.iloc[pos]`\n",
      "  is_categorical[i],\n",
      "/opt/tljh/user/lib/python3.9/site-packages/ISLP/models/columns.py:170: FutureWarning: Series.__getitem__ treating keys as positions is deprecated. In a future version, integer keys will always be treated as labels (consistent with DataFrame behavior). To access a value by position, use `ser.iloc[pos]`\n",
      "  is_ordinal[i],\n"
     ]
    }
   ],
   "source": [
    "# solution\n",
    "\n",
    "# Transform treatment datatype to category\n",
    "df['TRT'] = df['TRT'].astype('category')\n",
    "\n",
    "# Fit baseline model\n",
    "design_baseline = MS(['age','TRT']).fit(df)\n",
    "X_baseline = design_baseline.transform(df)\n",
    "y = df['y']\n",
    "model_baseline = sm.OLS(y,X_baseline).fit()\n",
    "print(model_baseline.summary())\n"
   ]
  },
  {
   "cell_type": "markdown",
   "id": "828ec38f-579d-4040-87b6-80ac5f590664",
   "metadata": {},
   "source": [
    "The model explains 78.4% of the variation in the effectiveness of the treatment which is a reasonable value. The F-statistic and its associated P-value show that the model is overall significant. The model suggests that age contributes positively to the effectiveness of the treatment, similarly the positive coefficients of both treatment coefficients indicate that they have a negative influence to the therapy effectiveness compared to treatment A.\n",
    "\n",
    "All model coefficients are significant."
   ]
  },
  {
   "cell_type": "markdown",
   "id": "1e045328",
   "metadata": {},
   "source": [
    "## 🔁 Task 3: Interaction Model\n",
    "\n",
    "Now fit a model that additionally to the model from Task 2 includes interaction terms between `age` and `TRT`.\n",
    "\n",
    "Interpret whether age affects effectiveness differently depending on TRT.\n"
   ]
  },
  {
   "cell_type": "code",
   "execution_count": 12,
   "id": "26fee50a",
   "metadata": {},
   "outputs": [
    {
     "name": "stdout",
     "output_type": "stream",
     "text": [
      "                            OLS Regression Results                            \n",
      "==============================================================================\n",
      "Dep. Variable:                      y   R-squared:                       0.914\n",
      "Model:                            OLS   Adj. R-squared:                  0.900\n",
      "Method:                 Least Squares   F-statistic:                     64.04\n",
      "Date:                Tue, 15 Apr 2025   Prob (F-statistic):           4.26e-15\n",
      "Time:                        10:34:18   Log-Likelihood:                -97.024\n",
      "No. Observations:                  36   AIC:                             206.0\n",
      "Df Residuals:                      30   BIC:                             215.5\n",
      "Df Model:                           5                                         \n",
      "Covariance Type:            nonrobust                                         \n",
      "==============================================================================\n",
      "                 coef    std err          t      P>|t|      [0.025      0.975]\n",
      "------------------------------------------------------------------------------\n",
      "intercept     47.5156      3.825     12.422      0.000      39.703      55.328\n",
      "age            0.3305      0.081      4.056      0.000       0.164       0.497\n",
      "TRT[B]       -18.5974      5.416     -3.434      0.002     -29.658      -7.537\n",
      "TRT[C]       -41.3042      5.085     -8.124      0.000     -51.688     -30.920\n",
      "age:TRT[B]     0.1932      0.117      1.657      0.108      -0.045       0.431\n",
      "age:TRT[C]     0.7029      0.109      6.451      0.000       0.480       0.925\n",
      "==============================================================================\n",
      "Omnibus:                        2.593   Durbin-Watson:                   1.633\n",
      "Prob(Omnibus):                  0.273   Jarque-Bera (JB):                1.475\n",
      "Skew:                          -0.183   Prob(JB):                        0.478\n",
      "Kurtosis:                       2.079   Cond. No.                         577.\n",
      "==============================================================================\n",
      "\n",
      "Notes:\n",
      "[1] Standard Errors assume that the covariance matrix of the errors is correctly specified.\n"
     ]
    },
    {
     "name": "stderr",
     "output_type": "stream",
     "text": [
      "/opt/tljh/user/lib/python3.9/site-packages/ISLP/models/columns.py:151: FutureWarning: Series.__getitem__ treating keys as positions is deprecated. In a future version, integer keys will always be treated as labels (consistent with DataFrame behavior). To access a value by position, use `ser.iloc[pos]`\n",
      "  if is_categorical[i]:\n",
      "/opt/tljh/user/lib/python3.9/site-packages/ISLP/models/columns.py:151: FutureWarning: Series.__getitem__ treating keys as positions is deprecated. In a future version, integer keys will always be treated as labels (consistent with DataFrame behavior). To access a value by position, use `ser.iloc[pos]`\n",
      "  if is_categorical[i]:\n",
      "/opt/tljh/user/lib/python3.9/site-packages/ISLP/models/columns.py:151: FutureWarning: Series.__getitem__ treating keys as positions is deprecated. In a future version, integer keys will always be treated as labels (consistent with DataFrame behavior). To access a value by position, use `ser.iloc[pos]`\n",
      "  if is_categorical[i]:\n",
      "/opt/tljh/user/lib/python3.9/site-packages/ISLP/models/columns.py:152: FutureWarning: Series.__getitem__ treating keys as positions is deprecated. In a future version, integer keys will always be treated as labels (consistent with DataFrame behavior). To access a value by position, use `ser.iloc[pos]`\n",
      "  if is_ordinal[i]:\n",
      "/opt/tljh/user/lib/python3.9/site-packages/ISLP/models/columns.py:169: FutureWarning: Series.__getitem__ treating keys as positions is deprecated. In a future version, integer keys will always be treated as labels (consistent with DataFrame behavior). To access a value by position, use `ser.iloc[pos]`\n",
      "  is_categorical[i],\n",
      "/opt/tljh/user/lib/python3.9/site-packages/ISLP/models/columns.py:170: FutureWarning: Series.__getitem__ treating keys as positions is deprecated. In a future version, integer keys will always be treated as labels (consistent with DataFrame behavior). To access a value by position, use `ser.iloc[pos]`\n",
      "  is_ordinal[i],\n"
     ]
    }
   ],
   "source": [
    "# solution\n",
    "\n",
    "#create design matrix\n",
    "design_interaction = MS(['age','TRT',('age', 'TRT')]).fit(df)\n",
    "X_interaction = design_interaction.transform(df)\n",
    "\n",
    "# Fit interaction model\n",
    "model_interaction = sm.OLS(y,X_interaction).fit()\n",
    "print(model_interaction.summary())\n"
   ]
  },
  {
   "cell_type": "markdown",
   "id": "1b56181d-3a48-4959-86e4-19a5f0f46a1c",
   "metadata": {},
   "source": [
    "The interaction model explains 91.4% of the variation in treatment effectiveness, an improvement over the baseline model. The model is statistically significant overall, as indicated by the F-statistic and its low P-value.\n",
    "\n",
    "This model allows the effect of age to vary by treatment group. The significant interaction terms indicate that the relationship between age and treatment effectiveness is not the same across groups.\n",
    "\n",
    "- For example, the interaction term for Age × Treatment A suggests that age has a different impact on effectiveness for patients in Treatment A compared to the reference group (Treatment C).\n",
    "- Likewise, the interaction with Treatment B captures a distinct age effect in that group.\n",
    "\n",
    "All main effects and interaction terms are significant, suggesting that both treatment type and age, as well as their interaction, contribute meaningfully to explaining treatment effectiveness."
   ]
  },
  {
   "cell_type": "markdown",
   "id": "93d78449",
   "metadata": {},
   "source": [
    "\n",
    "## 📊 Task 4: Compare Models\n",
    "\n",
    "Compare both models using R-squared and adjusted R-squared. Summarize which model is better and what the interaction terms tell you. Finally show how the model with interaction term leads to one regression line per treatment type. Write down the equations of the three regression lines."
   ]
  },
  {
   "cell_type": "code",
   "execution_count": 13,
   "id": "0f79753f",
   "metadata": {},
   "outputs": [
    {
     "data": {
      "text/html": [
       "<div>\n",
       "<style scoped>\n",
       "    .dataframe tbody tr th:only-of-type {\n",
       "        vertical-align: middle;\n",
       "    }\n",
       "\n",
       "    .dataframe tbody tr th {\n",
       "        vertical-align: top;\n",
       "    }\n",
       "\n",
       "    .dataframe thead th {\n",
       "        text-align: right;\n",
       "    }\n",
       "</style>\n",
       "<table border=\"1\" class=\"dataframe\">\n",
       "  <thead>\n",
       "    <tr style=\"text-align: right;\">\n",
       "      <th></th>\n",
       "      <th>Model</th>\n",
       "      <th>R-squared</th>\n",
       "      <th>Adj. R-squared</th>\n",
       "    </tr>\n",
       "  </thead>\n",
       "  <tbody>\n",
       "    <tr>\n",
       "      <th>0</th>\n",
       "      <td>Baseline</td>\n",
       "      <td>0.783953</td>\n",
       "      <td>0.763698</td>\n",
       "    </tr>\n",
       "    <tr>\n",
       "      <th>1</th>\n",
       "      <td>Interaction</td>\n",
       "      <td>0.914338</td>\n",
       "      <td>0.900061</td>\n",
       "    </tr>\n",
       "  </tbody>\n",
       "</table>\n",
       "</div>"
      ],
      "text/plain": [
       "         Model  R-squared  Adj. R-squared\n",
       "0     Baseline   0.783953        0.763698\n",
       "1  Interaction   0.914338        0.900061"
      ]
     },
     "execution_count": 13,
     "metadata": {},
     "output_type": "execute_result"
    }
   ],
   "source": [
    "\n",
    "comparison = pd.DataFrame({\n",
    "    \"Model\": [\"Baseline\", \"Interaction\"],\n",
    "    \"R-squared\": [model_baseline.rsquared, model_interaction.rsquared],\n",
    "    \"Adj. R-squared\": [model_baseline.rsquared_adj, model_interaction.rsquared_adj]\n",
    "})\n",
    "comparison\n"
   ]
  },
  {
   "cell_type": "markdown",
   "id": "4add685c-e65c-41cf-bd20-4e23f3c139c6",
   "metadata": {},
   "source": [
    "When comparing the two models, the **interaction model** shows a **higher R-squared (83.2%) and adjusted R-squared** than the baseline additive model (78.4%), indicating it explains more variation in the outcome. These improvements indicate that including interaction terms leads to a **statistically and practically better model**. It reveals that the **effect of age on effectiveness is treatment-dependent**, which the additive model cannot capture. In conclusion, the interaction model not only fits the data better, but also provides a **more nuanced understanding** of how treatment and age interact to influence therapy outcomes.\n",
    "\n",
    "The equations of lines are computed below:"
   ]
  },
  {
   "cell_type": "code",
   "execution_count": 14,
   "id": "352303d0-b321-43eb-888e-894f5491c48b",
   "metadata": {},
   "outputs": [
    {
     "name": "stdout",
     "output_type": "stream",
     "text": [
      "Effectivity of treatment A:          y =  47.51559132059187  +  0.33050725678976955  * age\n",
      "Effectivity of treatment B:          y =  28.91820610256229  +  0.5236841115166102  * age\n",
      "Effectivity of treatment C:          y =  6.211381193582369  +  1.033390871275358  * age\n"
     ]
    }
   ],
   "source": [
    "print('Effectivity of treatment A:          y = ', model_interaction.params['intercept'], ' + ', model_interaction.params['age'], ' * age') \n",
    "print('Effectivity of treatment B:          y = ', model_interaction.params['intercept'] + model_interaction.params['TRT[B]'], ' + ', model_interaction.params['age'] + model_interaction.params['age:TRT[B]'], ' * age') \n",
    "print('Effectivity of treatment C:          y = ', model_interaction.params['intercept'] + model_interaction.params['TRT[C]'], ' + ', model_interaction.params['age'] + model_interaction.params['age:TRT[C]'], ' * age')"
   ]
  },
  {
   "cell_type": "markdown",
   "id": "9a868707-64ec-4594-9a29-ff96306e4204",
   "metadata": {},
   "source": [
    "## 🧪 Task 5: Model Diagnostics\n",
    "\n",
    "Now that we have fitted our final model (with interaction terms), let’s assess how well it meets the assumptions of linear regression.\n",
    "\n",
    "We’ll perform the following diagnostics:\n",
    "\n",
    "- **Residual Plot**: Check for randomness in residuals. (Hint: see the [lab to Chapter 2](https://islp.readthedocs.io/en/latest/labs/Ch03-linreg-lab.html) for instructions how to compute residuals and how to plot the residual plot)\n",
    "- **Standardized Residuals**: Identify potential outliers. These are defined as observations with $|\\text{standardized residual}| \\leq 3$. Standardized residuals can be computed by applying the [`get_influence()`](https://www.statsmodels.org/0.9.0/generated/statsmodels.stats.outliers_influence.OLSInfluence.html#statsmodels.stats.outliers_influence.OLSInfluence) method to the model, and by then accessing the [`resid_studentized_internal`]() attribute of the output.\n",
    "- **Leverage**: Identify observations that have unusual predictor values. To do so, compute the leverage statistic by taking the `hat_matrix_diag` attribute f the value returned by the `get_influence()` method which has to be applied to the trained model. Use $2 \\cdot \\frac{p+1}{n}$ as cutoff value for high-leverage observations.\n",
    "\n",
    "### ➤ Why?\n",
    "These checks help us validate our model's assumptions and identify points that may disproportionately affect model results."
   ]
  },
  {
   "cell_type": "code",
   "execution_count": 15,
   "id": "97611689-8844-4fd1-8b71-0c9fd0da15e9",
   "metadata": {},
   "outputs": [
    {
     "data": {
      "image/png": "[encoded data removed]",
      "text/plain": [
       "<Figure size 800x500 with 1 Axes>"
      ]
     },
     "metadata": {},
     "output_type": "display_data"
    }
   ],
   "source": [
    "# solution\n",
    "\n",
    "# Residuals and fitted values\n",
    "fitted_vals = model_interaction.fittedvalues\n",
    "residuals = model_interaction.resid\n",
    "standardized_resid = model_interaction.get_influence().resid_studentized_internal\n",
    "\n",
    "# Residual Plot (note: here we use sns.residplot which leads to somewhat more functionality and a somewhat more appealing plot than a mere scatter plot as in the lab. The latter would be totally fine though)\n",
    "plt.figure(figsize=(8, 5))\n",
    "sns.residplot(x=fitted_vals, y=residuals, lowess=True)\n",
    "plt.xlabel(\"Fitted Values\")\n",
    "plt.ylabel(\"Residuals\")\n",
    "plt.title(\"Residuals vs Fitted Values\")\n",
    "plt.show()"
   ]
  },
  {
   "cell_type": "code",
   "execution_count": 16,
   "id": "854c1e59-f652-4a10-9d32-ef46afbaba53",
   "metadata": {},
   "outputs": [
    {
     "name": "stdout",
     "output_type": "stream",
     "text": [
      "Number of potential outliers (|standardized residual| > 3): 0\n"
     ]
    },
    {
     "data": {
      "text/html": [
       "<div>\n",
       "<style scoped>\n",
       "    .dataframe tbody tr th:only-of-type {\n",
       "        vertical-align: middle;\n",
       "    }\n",
       "\n",
       "    .dataframe tbody tr th {\n",
       "        vertical-align: top;\n",
       "    }\n",
       "\n",
       "    .dataframe thead th {\n",
       "        text-align: right;\n",
       "    }\n",
       "</style>\n",
       "<table border=\"1\" class=\"dataframe\">\n",
       "  <thead>\n",
       "    <tr style=\"text-align: right;\">\n",
       "      <th></th>\n",
       "      <th>y</th>\n",
       "      <th>age</th>\n",
       "      <th>TRT</th>\n",
       "    </tr>\n",
       "  </thead>\n",
       "  <tbody>\n",
       "  </tbody>\n",
       "</table>\n",
       "</div>"
      ],
      "text/plain": [
       "Empty DataFrame\n",
       "Columns: [y, age, TRT]\n",
       "Index: []"
      ]
     },
     "execution_count": 16,
     "metadata": {},
     "output_type": "execute_result"
    }
   ],
   "source": [
    "# solution\n",
    "# Outlier detection\n",
    "outliers = df[np.abs(standardized_resid) > 3]\n",
    "print(f\"Number of potential outliers (|standardized residual| > 3): {len(outliers)}\")\n",
    "outliers"
   ]
  },
  {
   "cell_type": "code",
   "execution_count": 17,
   "id": "275ca156-b4fe-4f4b-9e49-5d64fc0a9263",
   "metadata": {},
   "outputs": [
    {
     "name": "stdout",
     "output_type": "stream",
     "text": [
      "Cutoff for high leverage: 0.333\n",
      "Number of high leverage points: 0\n"
     ]
    },
    {
     "data": {
      "text/html": [
       "<div>\n",
       "<style scoped>\n",
       "    .dataframe tbody tr th:only-of-type {\n",
       "        vertical-align: middle;\n",
       "    }\n",
       "\n",
       "    .dataframe tbody tr th {\n",
       "        vertical-align: top;\n",
       "    }\n",
       "\n",
       "    .dataframe thead th {\n",
       "        text-align: right;\n",
       "    }\n",
       "</style>\n",
       "<table border=\"1\" class=\"dataframe\">\n",
       "  <thead>\n",
       "    <tr style=\"text-align: right;\">\n",
       "      <th></th>\n",
       "      <th>y</th>\n",
       "      <th>age</th>\n",
       "      <th>TRT</th>\n",
       "    </tr>\n",
       "  </thead>\n",
       "  <tbody>\n",
       "  </tbody>\n",
       "</table>\n",
       "</div>"
      ],
      "text/plain": [
       "Empty DataFrame\n",
       "Columns: [y, age, TRT]\n",
       "Index: []"
      ]
     },
     "execution_count": 17,
     "metadata": {},
     "output_type": "execute_result"
    }
   ],
   "source": [
    "# solution\n",
    "# Leverage analysis\n",
    "influence = model_interaction.get_influence()\n",
    "leverage = influence.hat_matrix_diag\n",
    "cutoff = 2 * (model_interaction.df_model + 1) / len(df)\n",
    "high_leverage = df[leverage > cutoff]\n",
    "\n",
    "print(f\"Cutoff for high leverage: {cutoff:.3f}\")\n",
    "print(f\"Number of high leverage points: {len(high_leverage)}\")\n",
    "high_leverage"
   ]
  },
  {
   "cell_type": "markdown",
   "id": "0ddddf63-b32f-4097-bc6d-a8d1e89e56e8",
   "metadata": {},
   "source": [
    "## 🔮 Task 6: Prediction with Confidence and Prediction Intervals\n",
    "\n",
    "Use the final model to predict the effectiveness for a **new patient**:\n",
    "\n",
    "- Age = 45\n",
    "- Treatment = A\n",
    "\n",
    "Calculate:\n",
    "- A **confidence interval** for the mean effectiveness for this group\n",
    "- A **prediction interval** for an individual with these characteristics\n",
    "\n",
    "### ➤ Why?\n",
    "Understanding prediction vs. confidence intervals is critical:\n",
    "- **Confidence Interval**: Tells us where the **mean** outcome is likely to lie.\n",
    "- **Prediction Interval**: Tells us where a **single new observation** is likely to fall, accounting for more uncertainty.\n",
    "\n",
    "> Provide your interpretation of both intervals in context."
   ]
  },
  {
   "cell_type": "code",
   "execution_count": 20,
   "id": "abd3acbe-ffca-4ec3-866c-bc23145b4939",
   "metadata": {},
   "outputs": [
    {
     "data": {
      "text/html": [
       "<div>\n",
       "<style scoped>\n",
       "    .dataframe tbody tr th:only-of-type {\n",
       "        vertical-align: middle;\n",
       "    }\n",
       "\n",
       "    .dataframe tbody tr th {\n",
       "        vertical-align: top;\n",
       "    }\n",
       "\n",
       "    .dataframe thead th {\n",
       "        text-align: right;\n",
       "    }\n",
       "</style>\n",
       "<table border=\"1\" class=\"dataframe\">\n",
       "  <thead>\n",
       "    <tr style=\"text-align: right;\">\n",
       "      <th></th>\n",
       "      <th>intercept</th>\n",
       "      <th>age</th>\n",
       "      <th>TRT[B]</th>\n",
       "      <th>TRT[C]</th>\n",
       "      <th>age:TRT[B]</th>\n",
       "      <th>age:TRT[C]</th>\n",
       "    </tr>\n",
       "  </thead>\n",
       "  <tbody>\n",
       "    <tr>\n",
       "      <th>0</th>\n",
       "      <td>1.0</td>\n",
       "      <td>45</td>\n",
       "      <td>0.0</td>\n",
       "      <td>0.0</td>\n",
       "      <td>0.0</td>\n",
       "      <td>0.0</td>\n",
       "    </tr>\n",
       "  </tbody>\n",
       "</table>\n",
       "</div>"
      ],
      "text/plain": [
       "   intercept  age  TRT[B]  TRT[C]  age:TRT[B]  age:TRT[C]\n",
       "0        1.0   45     0.0     0.0         0.0         0.0"
      ]
     },
     "execution_count": 20,
     "metadata": {},
     "output_type": "execute_result"
    }
   ],
   "source": [
    "new_patient"
   ]
  },
  {
   "cell_type": "code",
   "execution_count": 19,
   "id": "2d965cf8-10b2-4654-b659-53f69a77945f",
   "metadata": {},
   "outputs": [
    {
     "data": {
      "text/html": [
       "<div>\n",
       "<style scoped>\n",
       "    .dataframe tbody tr th:only-of-type {\n",
       "        vertical-align: middle;\n",
       "    }\n",
       "\n",
       "    .dataframe tbody tr th {\n",
       "        vertical-align: top;\n",
       "    }\n",
       "\n",
       "    .dataframe thead th {\n",
       "        text-align: right;\n",
       "    }\n",
       "</style>\n",
       "<table border=\"1\" class=\"dataframe\">\n",
       "  <thead>\n",
       "    <tr style=\"text-align: right;\">\n",
       "      <th></th>\n",
       "      <th>age</th>\n",
       "      <th>TRT</th>\n",
       "    </tr>\n",
       "  </thead>\n",
       "  <tbody>\n",
       "    <tr>\n",
       "      <th>0</th>\n",
       "      <td>45</td>\n",
       "      <td>A</td>\n",
       "    </tr>\n",
       "  </tbody>\n",
       "</table>\n",
       "</div>"
      ],
      "text/plain": [
       "   age TRT\n",
       "0   45   A"
      ]
     },
     "execution_count": 19,
     "metadata": {},
     "output_type": "execute_result"
    }
   ],
   "source": [
    "new_patient_raw"
   ]
  },
  {
   "cell_type": "code",
   "execution_count": 18,
   "id": "9973c617-f0b8-4852-942a-a0e59c77cbe6",
   "metadata": {},
   "outputs": [
    {
     "data": {
      "text/html": [
       "<div>\n",
       "<style scoped>\n",
       "    .dataframe tbody tr th:only-of-type {\n",
       "        vertical-align: middle;\n",
       "    }\n",
       "\n",
       "    .dataframe tbody tr th {\n",
       "        vertical-align: top;\n",
       "    }\n",
       "\n",
       "    .dataframe thead th {\n",
       "        text-align: right;\n",
       "    }\n",
       "</style>\n",
       "<table border=\"1\" class=\"dataframe\">\n",
       "  <thead>\n",
       "    <tr style=\"text-align: right;\">\n",
       "      <th></th>\n",
       "      <th>mean</th>\n",
       "      <th>mean_se</th>\n",
       "      <th>mean_ci_lower</th>\n",
       "      <th>mean_ci_upper</th>\n",
       "      <th>obs_ci_lower</th>\n",
       "      <th>obs_ci_upper</th>\n",
       "    </tr>\n",
       "  </thead>\n",
       "  <tbody>\n",
       "    <tr>\n",
       "      <th>0</th>\n",
       "      <td>62.388418</td>\n",
       "      <td>1.133106</td>\n",
       "      <td>60.074308</td>\n",
       "      <td>64.702528</td>\n",
       "      <td>54.045328</td>\n",
       "      <td>70.731508</td>\n",
       "    </tr>\n",
       "  </tbody>\n",
       "</table>\n",
       "</div>"
      ],
      "text/plain": [
       "        mean   mean_se  mean_ci_lower  mean_ci_upper  obs_ci_lower  \\\n",
       "0  62.388418  1.133106      60.074308      64.702528     54.045328   \n",
       "\n",
       "   obs_ci_upper  \n",
       "0     70.731508  "
      ]
     },
     "execution_count": 18,
     "metadata": {},
     "output_type": "execute_result"
    }
   ],
   "source": [
    "# solution\n",
    "# Create new patient\n",
    "new_patient_raw = pd.DataFrame({'age': [45], 'TRT': ['A']})\n",
    "new_patient_raw['TRT'] = new_patient_raw['TRT'].astype('category')\n",
    "new_patient = design_interaction.transform(new_patient_raw)\n",
    "\n",
    "# Predict\n",
    "prediction = model_interaction.get_prediction(new_patient)\n",
    "summary = prediction.summary_frame(alpha=0.05)\n",
    "summary"
   ]
  },
  {
   "cell_type": "markdown",
   "id": "c0444eb0-c5a3-4236-93fe-b9aba906931b",
   "metadata": {},
   "source": [
    "*Solution*\n",
    "### 🧠 Interpretation\n",
    "\n",
    "- **Confidence Interval**: Range for the **mean effectiveness** of similar patients receiving treatment A at age 45.\n",
    "- **Prediction Interval**: Wider range for the **effectiveness of a single individual** with those characteristics.\n",
    "\n",
    "Prediction intervals are always wider than confidence intervals due to extra uncertainty in individual outcomes."
   ]
  },
  {
   "cell_type": "code",
   "execution_count": null,
   "id": "099c01f1-a6a5-4151-8583-c6985990a366",
   "metadata": {},
   "outputs": [],
   "source": []
  }
 ],
 "metadata": {
  "kernelspec": {
   "display_name": "Python 3 (ipykernel)",
   "language": "python",
   "name": "python3"
  },
  "language_info": {
   "codemirror_mode": {
    "name": "ipython",
    "version": 3
   },
   "file_extension": ".py",
   "mimetype": "text/x-python",
   "name": "python",
   "nbconvert_exporter": "python",
   "pygments_lexer": "ipython3",
   "version": "3.9.7"
  }
 },
 "nbformat": 4,
 "nbformat_minor": 5
}
