{
 "cells": [
  {
   "cell_type": "markdown",
   "id": "2eeb1ec4-82f9-40e4-b16d-3468980670f8",
   "metadata": {},
   "source": [
    "# Part 1: Cross validation"
   ]
  },
  {
   "cell_type": "code",
   "execution_count": 2,
   "id": "fe6c8919-3445-43b8-a26c-f0b16e5eb6eb",
   "metadata": {},
   "outputs": [],
   "source": [
    "import numpy as np\n",
    "import pandas as pd\n",
    "import matplotlib.pyplot as plt\n",
    "import seaborn as sns\n",
    "import statsmodels.api as sm\n",
    "from ISLP import load_data\n",
    "from ISLP.models import (ModelSpec as MS,\n",
    "                         summarize,\n",
    "                         poly)\n",
    "from sklearn.model_selection import train_test_split\n",
    "from functools import partial\n",
    "from sklearn.model_selection import \\\n",
    "     (cross_validate,\n",
    "      KFold,\n",
    "      ShuffleSplit)\n",
    "from sklearn.base import clone\n",
    "from ISLP.models import sklearn_sm"
   ]
  },
  {
   "cell_type": "code",
   "execution_count": 3,
   "id": "cf2c30f4-852b-4370-beb5-71fe23129186",
   "metadata": {},
   "outputs": [],
   "source": [
    "import warnings\n",
    "warnings.filterwarnings('ignore')"
   ]
  },
  {
   "cell_type": "markdown",
   "id": "a6658e92-57c5-4a9b-aab5-6cfecab57823",
   "metadata": {},
   "source": [
    "In this part we follow the first part of the lab of Section 4 of our textbook to learn how to implement cross validation in Python (see [here](https://islp.readthedocs.io/en/latest/labs/Ch05-resample-lab.html) for the original version of the Lab)\n"
   ]
  },
  {
   "cell_type": "markdown",
   "id": "96850968-33fe-4daa-bf81-2f86895c55d3",
   "metadata": {},
   "source": [
    "## 1a) Validation set approach\n",
    "\n",
    "**Objective of part 1a)**: Use the validation set approach to evaluate the performance of a model predicting `mpg` in the `Auto` dataset based on predictor `horsepower`."
   ]
  },
  {
   "cell_type": "code",
   "execution_count": 3,
   "id": "4457e761-a423-4dee-8356-d10e3f4542cf",
   "metadata": {},
   "outputs": [],
   "source": [
    "# Run this cell to load the dataset\n",
    "Auto =  load_data('Auto')"
   ]
  },
  {
   "cell_type": "markdown",
   "id": "087e9761-f72a-4ce0-9723-080b5a3171f9",
   "metadata": {},
   "source": [
    "### Task 1.1: \n",
    "Split the dataset into a train and a test part. Your test set should have 196 samples."
   ]
  },
  {
   "cell_type": "code",
   "execution_count": 4,
   "id": "1d36d2ee-a8e5-4158-9ee5-733b9a51366b",
   "metadata": {},
   "outputs": [],
   "source": [
    "train, validation = train_test_split(Auto, test_size=196)"
   ]
  },
  {
   "cell_type": "code",
   "execution_count": 5,
   "id": "18cbaa86-66fd-4a23-be60-5443d89c1156",
   "metadata": {},
   "outputs": [
    {
     "data": {
      "text/html": [
       "<div>\n",
       "<style scoped>\n",
       "    .dataframe tbody tr th:only-of-type {\n",
       "        vertical-align: middle;\n",
       "    }\n",
       "\n",
       "    .dataframe tbody tr th {\n",
       "        vertical-align: top;\n",
       "    }\n",
       "\n",
       "    .dataframe thead th {\n",
       "        text-align: right;\n",
       "    }\n",
       "</style>\n",
       "<table border=\"1\" class=\"dataframe\">\n",
       "  <thead>\n",
       "    <tr style=\"text-align: right;\">\n",
       "      <th></th>\n",
       "      <th>mpg</th>\n",
       "      <th>cylinders</th>\n",
       "      <th>displacement</th>\n",
       "      <th>horsepower</th>\n",
       "      <th>weight</th>\n",
       "      <th>acceleration</th>\n",
       "      <th>year</th>\n",
       "      <th>origin</th>\n",
       "      <th>name</th>\n",
       "    </tr>\n",
       "  </thead>\n",
       "  <tbody>\n",
       "    <tr>\n",
       "      <th>109</th>\n",
       "      <td>22.0</td>\n",
       "      <td>4</td>\n",
       "      <td>108.0</td>\n",
       "      <td>94</td>\n",
       "      <td>2379</td>\n",
       "      <td>16.5</td>\n",
       "      <td>73</td>\n",
       "      <td>3</td>\n",
       "      <td>datsun 610</td>\n",
       "    </tr>\n",
       "    <tr>\n",
       "      <th>390</th>\n",
       "      <td>28.0</td>\n",
       "      <td>4</td>\n",
       "      <td>120.0</td>\n",
       "      <td>79</td>\n",
       "      <td>2625</td>\n",
       "      <td>18.6</td>\n",
       "      <td>82</td>\n",
       "      <td>1</td>\n",
       "      <td>ford ranger</td>\n",
       "    </tr>\n",
       "    <tr>\n",
       "      <th>218</th>\n",
       "      <td>33.5</td>\n",
       "      <td>4</td>\n",
       "      <td>85.0</td>\n",
       "      <td>70</td>\n",
       "      <td>1945</td>\n",
       "      <td>16.8</td>\n",
       "      <td>77</td>\n",
       "      <td>3</td>\n",
       "      <td>datsun f-10 hatchback</td>\n",
       "    </tr>\n",
       "    <tr>\n",
       "      <th>7</th>\n",
       "      <td>14.0</td>\n",
       "      <td>8</td>\n",
       "      <td>440.0</td>\n",
       "      <td>215</td>\n",
       "      <td>4312</td>\n",
       "      <td>8.5</td>\n",
       "      <td>70</td>\n",
       "      <td>1</td>\n",
       "      <td>plymouth fury iii</td>\n",
       "    </tr>\n",
       "    <tr>\n",
       "      <th>387</th>\n",
       "      <td>27.0</td>\n",
       "      <td>4</td>\n",
       "      <td>140.0</td>\n",
       "      <td>86</td>\n",
       "      <td>2790</td>\n",
       "      <td>15.6</td>\n",
       "      <td>82</td>\n",
       "      <td>1</td>\n",
       "      <td>ford mustang gl</td>\n",
       "    </tr>\n",
       "    <tr>\n",
       "      <th>...</th>\n",
       "      <td>...</td>\n",
       "      <td>...</td>\n",
       "      <td>...</td>\n",
       "      <td>...</td>\n",
       "      <td>...</td>\n",
       "      <td>...</td>\n",
       "      <td>...</td>\n",
       "      <td>...</td>\n",
       "      <td>...</td>\n",
       "    </tr>\n",
       "    <tr>\n",
       "      <th>147</th>\n",
       "      <td>24.0</td>\n",
       "      <td>4</td>\n",
       "      <td>120.0</td>\n",
       "      <td>97</td>\n",
       "      <td>2489</td>\n",
       "      <td>15.0</td>\n",
       "      <td>74</td>\n",
       "      <td>3</td>\n",
       "      <td>honda civic</td>\n",
       "    </tr>\n",
       "    <tr>\n",
       "      <th>168</th>\n",
       "      <td>23.0</td>\n",
       "      <td>4</td>\n",
       "      <td>140.0</td>\n",
       "      <td>78</td>\n",
       "      <td>2592</td>\n",
       "      <td>18.5</td>\n",
       "      <td>75</td>\n",
       "      <td>1</td>\n",
       "      <td>pontiac astro</td>\n",
       "    </tr>\n",
       "    <tr>\n",
       "      <th>349</th>\n",
       "      <td>33.0</td>\n",
       "      <td>4</td>\n",
       "      <td>105.0</td>\n",
       "      <td>74</td>\n",
       "      <td>2190</td>\n",
       "      <td>14.2</td>\n",
       "      <td>81</td>\n",
       "      <td>2</td>\n",
       "      <td>volkswagen jetta</td>\n",
       "    </tr>\n",
       "    <tr>\n",
       "      <th>352</th>\n",
       "      <td>32.9</td>\n",
       "      <td>4</td>\n",
       "      <td>119.0</td>\n",
       "      <td>100</td>\n",
       "      <td>2615</td>\n",
       "      <td>14.8</td>\n",
       "      <td>81</td>\n",
       "      <td>3</td>\n",
       "      <td>datsun 200sx</td>\n",
       "    </tr>\n",
       "    <tr>\n",
       "      <th>149</th>\n",
       "      <td>31.0</td>\n",
       "      <td>4</td>\n",
       "      <td>79.0</td>\n",
       "      <td>67</td>\n",
       "      <td>2000</td>\n",
       "      <td>16.0</td>\n",
       "      <td>74</td>\n",
       "      <td>2</td>\n",
       "      <td>fiat x1.9</td>\n",
       "    </tr>\n",
       "  </tbody>\n",
       "</table>\n",
       "<p>196 rows × 9 columns</p>\n",
       "</div>"
      ],
      "text/plain": [
       "      mpg  cylinders  displacement  horsepower  weight  acceleration  year  \\\n",
       "109  22.0          4         108.0          94    2379          16.5    73   \n",
       "390  28.0          4         120.0          79    2625          18.6    82   \n",
       "218  33.5          4          85.0          70    1945          16.8    77   \n",
       "7    14.0          8         440.0         215    4312           8.5    70   \n",
       "387  27.0          4         140.0          86    2790          15.6    82   \n",
       "..    ...        ...           ...         ...     ...           ...   ...   \n",
       "147  24.0          4         120.0          97    2489          15.0    74   \n",
       "168  23.0          4         140.0          78    2592          18.5    75   \n",
       "349  33.0          4         105.0          74    2190          14.2    81   \n",
       "352  32.9          4         119.0         100    2615          14.8    81   \n",
       "149  31.0          4          79.0          67    2000          16.0    74   \n",
       "\n",
       "     origin                   name  \n",
       "109       3             datsun 610  \n",
       "390       1            ford ranger  \n",
       "218       3  datsun f-10 hatchback  \n",
       "7         1      plymouth fury iii  \n",
       "387       1        ford mustang gl  \n",
       "..      ...                    ...  \n",
       "147       3            honda civic  \n",
       "168       1          pontiac astro  \n",
       "349       2       volkswagen jetta  \n",
       "352       3           datsun 200sx  \n",
       "149       2              fiat x1.9  \n",
       "\n",
       "[196 rows x 9 columns]"
      ]
     },
     "execution_count": 5,
     "metadata": {},
     "output_type": "execute_result"
    }
   ],
   "source": [
    "train"
   ]
  },
  {
   "cell_type": "code",
   "execution_count": 6,
   "id": "0cee215e-c079-458e-87ea-a3c2ec6eefd2",
   "metadata": {},
   "outputs": [
    {
     "data": {
      "text/html": [
       "<div>\n",
       "<style scoped>\n",
       "    .dataframe tbody tr th:only-of-type {\n",
       "        vertical-align: middle;\n",
       "    }\n",
       "\n",
       "    .dataframe tbody tr th {\n",
       "        vertical-align: top;\n",
       "    }\n",
       "\n",
       "    .dataframe thead th {\n",
       "        text-align: right;\n",
       "    }\n",
       "</style>\n",
       "<table border=\"1\" class=\"dataframe\">\n",
       "  <thead>\n",
       "    <tr style=\"text-align: right;\">\n",
       "      <th></th>\n",
       "      <th>mpg</th>\n",
       "      <th>cylinders</th>\n",
       "      <th>displacement</th>\n",
       "      <th>horsepower</th>\n",
       "      <th>weight</th>\n",
       "      <th>acceleration</th>\n",
       "      <th>year</th>\n",
       "      <th>origin</th>\n",
       "      <th>name</th>\n",
       "    </tr>\n",
       "  </thead>\n",
       "  <tbody>\n",
       "    <tr>\n",
       "      <th>359</th>\n",
       "      <td>26.6</td>\n",
       "      <td>8</td>\n",
       "      <td>350.0</td>\n",
       "      <td>105</td>\n",
       "      <td>3725</td>\n",
       "      <td>19.0</td>\n",
       "      <td>81</td>\n",
       "      <td>1</td>\n",
       "      <td>oldsmobile cutlass ls</td>\n",
       "    </tr>\n",
       "    <tr>\n",
       "      <th>351</th>\n",
       "      <td>32.4</td>\n",
       "      <td>4</td>\n",
       "      <td>108.0</td>\n",
       "      <td>75</td>\n",
       "      <td>2350</td>\n",
       "      <td>16.8</td>\n",
       "      <td>81</td>\n",
       "      <td>3</td>\n",
       "      <td>toyota corolla</td>\n",
       "    </tr>\n",
       "    <tr>\n",
       "      <th>21</th>\n",
       "      <td>24.0</td>\n",
       "      <td>4</td>\n",
       "      <td>107.0</td>\n",
       "      <td>90</td>\n",
       "      <td>2430</td>\n",
       "      <td>14.5</td>\n",
       "      <td>70</td>\n",
       "      <td>2</td>\n",
       "      <td>audi 100 ls</td>\n",
       "    </tr>\n",
       "    <tr>\n",
       "      <th>344</th>\n",
       "      <td>37.7</td>\n",
       "      <td>4</td>\n",
       "      <td>89.0</td>\n",
       "      <td>62</td>\n",
       "      <td>2050</td>\n",
       "      <td>17.3</td>\n",
       "      <td>81</td>\n",
       "      <td>3</td>\n",
       "      <td>toyota tercel</td>\n",
       "    </tr>\n",
       "    <tr>\n",
       "      <th>12</th>\n",
       "      <td>15.0</td>\n",
       "      <td>8</td>\n",
       "      <td>400.0</td>\n",
       "      <td>150</td>\n",
       "      <td>3761</td>\n",
       "      <td>9.5</td>\n",
       "      <td>70</td>\n",
       "      <td>1</td>\n",
       "      <td>chevrolet monte carlo</td>\n",
       "    </tr>\n",
       "    <tr>\n",
       "      <th>...</th>\n",
       "      <td>...</td>\n",
       "      <td>...</td>\n",
       "      <td>...</td>\n",
       "      <td>...</td>\n",
       "      <td>...</td>\n",
       "      <td>...</td>\n",
       "      <td>...</td>\n",
       "      <td>...</td>\n",
       "      <td>...</td>\n",
       "    </tr>\n",
       "    <tr>\n",
       "      <th>228</th>\n",
       "      <td>15.5</td>\n",
       "      <td>8</td>\n",
       "      <td>350.0</td>\n",
       "      <td>170</td>\n",
       "      <td>4165</td>\n",
       "      <td>11.4</td>\n",
       "      <td>77</td>\n",
       "      <td>1</td>\n",
       "      <td>chevrolet monte carlo landau</td>\n",
       "    </tr>\n",
       "    <tr>\n",
       "      <th>322</th>\n",
       "      <td>40.8</td>\n",
       "      <td>4</td>\n",
       "      <td>85.0</td>\n",
       "      <td>65</td>\n",
       "      <td>2110</td>\n",
       "      <td>19.2</td>\n",
       "      <td>80</td>\n",
       "      <td>3</td>\n",
       "      <td>datsun 210</td>\n",
       "    </tr>\n",
       "    <tr>\n",
       "      <th>293</th>\n",
       "      <td>35.7</td>\n",
       "      <td>4</td>\n",
       "      <td>98.0</td>\n",
       "      <td>80</td>\n",
       "      <td>1915</td>\n",
       "      <td>14.4</td>\n",
       "      <td>79</td>\n",
       "      <td>1</td>\n",
       "      <td>dodge colt hatchback custom</td>\n",
       "    </tr>\n",
       "    <tr>\n",
       "      <th>280</th>\n",
       "      <td>22.3</td>\n",
       "      <td>4</td>\n",
       "      <td>140.0</td>\n",
       "      <td>88</td>\n",
       "      <td>2890</td>\n",
       "      <td>17.3</td>\n",
       "      <td>79</td>\n",
       "      <td>1</td>\n",
       "      <td>ford fairmont 4</td>\n",
       "    </tr>\n",
       "    <tr>\n",
       "      <th>140</th>\n",
       "      <td>26.0</td>\n",
       "      <td>4</td>\n",
       "      <td>79.0</td>\n",
       "      <td>67</td>\n",
       "      <td>1963</td>\n",
       "      <td>15.5</td>\n",
       "      <td>74</td>\n",
       "      <td>2</td>\n",
       "      <td>volkswagen dasher</td>\n",
       "    </tr>\n",
       "  </tbody>\n",
       "</table>\n",
       "<p>196 rows × 9 columns</p>\n",
       "</div>"
      ],
      "text/plain": [
       "      mpg  cylinders  displacement  horsepower  weight  acceleration  year  \\\n",
       "359  26.6          8         350.0         105    3725          19.0    81   \n",
       "351  32.4          4         108.0          75    2350          16.8    81   \n",
       "21   24.0          4         107.0          90    2430          14.5    70   \n",
       "344  37.7          4          89.0          62    2050          17.3    81   \n",
       "12   15.0          8         400.0         150    3761           9.5    70   \n",
       "..    ...        ...           ...         ...     ...           ...   ...   \n",
       "228  15.5          8         350.0         170    4165          11.4    77   \n",
       "322  40.8          4          85.0          65    2110          19.2    80   \n",
       "293  35.7          4          98.0          80    1915          14.4    79   \n",
       "280  22.3          4         140.0          88    2890          17.3    79   \n",
       "140  26.0          4          79.0          67    1963          15.5    74   \n",
       "\n",
       "     origin                          name  \n",
       "359       1         oldsmobile cutlass ls  \n",
       "351       3                toyota corolla  \n",
       "21        2                   audi 100 ls  \n",
       "344       3                 toyota tercel  \n",
       "12        1         chevrolet monte carlo  \n",
       "..      ...                           ...  \n",
       "228       1  chevrolet monte carlo landau  \n",
       "322       3                    datsun 210  \n",
       "293       1   dodge colt hatchback custom  \n",
       "280       1               ford fairmont 4  \n",
       "140       2             volkswagen dasher  \n",
       "\n",
       "[196 rows x 9 columns]"
      ]
     },
     "execution_count": 6,
     "metadata": {},
     "output_type": "execute_result"
    }
   ],
   "source": [
    "validation"
   ]
  },
  {
   "cell_type": "markdown",
   "id": "23d2b39b-7599-439b-ac63-c2479a53528f",
   "metadata": {},
   "source": [
    "### Task 1.2:\n",
    "Train a simple linear regression model on the training set which predicts `mpg` based on the unique predictor `horsepower`. Make sure to use the training set to train your model."
   ]
  },
  {
   "cell_type": "code",
   "execution_count": 7,
   "id": "8b0b44d2-9f57-413f-99f2-6d15d510fce1",
   "metadata": {},
   "outputs": [
    {
     "data": {
      "text/html": [
       "<div>\n",
       "<style scoped>\n",
       "    .dataframe tbody tr th:only-of-type {\n",
       "        vertical-align: middle;\n",
       "    }\n",
       "\n",
       "    .dataframe tbody tr th {\n",
       "        vertical-align: top;\n",
       "    }\n",
       "\n",
       "    .dataframe thead th {\n",
       "        text-align: right;\n",
       "    }\n",
       "</style>\n",
       "<table border=\"1\" class=\"dataframe\">\n",
       "  <thead>\n",
       "    <tr style=\"text-align: right;\">\n",
       "      <th></th>\n",
       "      <th>intercept</th>\n",
       "      <th>horsepower</th>\n",
       "    </tr>\n",
       "  </thead>\n",
       "  <tbody>\n",
       "    <tr>\n",
       "      <th>109</th>\n",
       "      <td>1.0</td>\n",
       "      <td>94</td>\n",
       "    </tr>\n",
       "    <tr>\n",
       "      <th>390</th>\n",
       "      <td>1.0</td>\n",
       "      <td>79</td>\n",
       "    </tr>\n",
       "    <tr>\n",
       "      <th>218</th>\n",
       "      <td>1.0</td>\n",
       "      <td>70</td>\n",
       "    </tr>\n",
       "    <tr>\n",
       "      <th>7</th>\n",
       "      <td>1.0</td>\n",
       "      <td>215</td>\n",
       "    </tr>\n",
       "    <tr>\n",
       "      <th>387</th>\n",
       "      <td>1.0</td>\n",
       "      <td>86</td>\n",
       "    </tr>\n",
       "    <tr>\n",
       "      <th>...</th>\n",
       "      <td>...</td>\n",
       "      <td>...</td>\n",
       "    </tr>\n",
       "    <tr>\n",
       "      <th>147</th>\n",
       "      <td>1.0</td>\n",
       "      <td>97</td>\n",
       "    </tr>\n",
       "    <tr>\n",
       "      <th>168</th>\n",
       "      <td>1.0</td>\n",
       "      <td>78</td>\n",
       "    </tr>\n",
       "    <tr>\n",
       "      <th>349</th>\n",
       "      <td>1.0</td>\n",
       "      <td>74</td>\n",
       "    </tr>\n",
       "    <tr>\n",
       "      <th>352</th>\n",
       "      <td>1.0</td>\n",
       "      <td>100</td>\n",
       "    </tr>\n",
       "    <tr>\n",
       "      <th>149</th>\n",
       "      <td>1.0</td>\n",
       "      <td>67</td>\n",
       "    </tr>\n",
       "  </tbody>\n",
       "</table>\n",
       "<p>196 rows × 2 columns</p>\n",
       "</div>"
      ],
      "text/plain": [
       "     intercept  horsepower\n",
       "109        1.0          94\n",
       "390        1.0          79\n",
       "218        1.0          70\n",
       "7          1.0         215\n",
       "387        1.0          86\n",
       "..         ...         ...\n",
       "147        1.0          97\n",
       "168        1.0          78\n",
       "349        1.0          74\n",
       "352        1.0         100\n",
       "149        1.0          67\n",
       "\n",
       "[196 rows x 2 columns]"
      ]
     },
     "execution_count": 7,
     "metadata": {},
     "output_type": "execute_result"
    }
   ],
   "source": [
    "design = MS(['horsepower']).fit(train)\n",
    "X_train = design.transform(train)\n",
    "X_train"
   ]
  },
  {
   "cell_type": "code",
   "execution_count": 8,
   "id": "3c5a6ba3-72ee-4888-a78f-c562ea2a3d2d",
   "metadata": {},
   "outputs": [],
   "source": [
    "y_train = train['mpg']"
   ]
  },
  {
   "cell_type": "code",
   "execution_count": 9,
   "id": "c2aa2bdf-bd80-4562-9ffa-2cd30759328c",
   "metadata": {},
   "outputs": [
    {
     "data": {
      "text/html": [
       "<div>\n",
       "<style scoped>\n",
       "    .dataframe tbody tr th:only-of-type {\n",
       "        vertical-align: middle;\n",
       "    }\n",
       "\n",
       "    .dataframe tbody tr th {\n",
       "        vertical-align: top;\n",
       "    }\n",
       "\n",
       "    .dataframe thead th {\n",
       "        text-align: right;\n",
       "    }\n",
       "</style>\n",
       "<table border=\"1\" class=\"dataframe\">\n",
       "  <thead>\n",
       "    <tr style=\"text-align: right;\">\n",
       "      <th></th>\n",
       "      <th>coef</th>\n",
       "      <th>std err</th>\n",
       "      <th>t</th>\n",
       "      <th>P&gt;|t|</th>\n",
       "    </tr>\n",
       "  </thead>\n",
       "  <tbody>\n",
       "    <tr>\n",
       "      <th>intercept</th>\n",
       "      <td>38.7652</td>\n",
       "      <td>1.005</td>\n",
       "      <td>38.567</td>\n",
       "      <td>0.0</td>\n",
       "    </tr>\n",
       "    <tr>\n",
       "      <th>horsepower</th>\n",
       "      <td>-0.1470</td>\n",
       "      <td>0.009</td>\n",
       "      <td>-16.256</td>\n",
       "      <td>0.0</td>\n",
       "    </tr>\n",
       "  </tbody>\n",
       "</table>\n",
       "</div>"
      ],
      "text/plain": [
       "               coef  std err       t  P>|t|\n",
       "intercept   38.7652    1.005  38.567    0.0\n",
       "horsepower  -0.1470    0.009 -16.256    0.0"
      ]
     },
     "execution_count": 9,
     "metadata": {},
     "output_type": "execute_result"
    }
   ],
   "source": [
    "model = sm.OLS(y_train,X_train)\n",
    "results = model.fit()\n",
    "summarize(results)"
   ]
  },
  {
   "cell_type": "markdown",
   "id": "dafa26e0-358f-45b7-8369-f8bde3e86490",
   "metadata": {},
   "source": [
    "### Task 1.3: \n",
    "Now use the validation set to compute an estimate for the model's MSE (mean squared error)."
   ]
  },
  {
   "cell_type": "code",
   "execution_count": 11,
   "id": "46c5f8e8-3d24-474a-ad60-2745370bc90f",
   "metadata": {},
   "outputs": [
    {
     "data": {
      "text/plain": [
       "23.753178493666372"
      ]
     },
     "execution_count": 11,
     "metadata": {},
     "output_type": "execute_result"
    }
   ],
   "source": [
    "y_valid = validation.mpg\n",
    "X_valid = design.transform(validation)\n",
    "y_valid_predicted = results.predict(X_valid)\n",
    "MSE = np.mean((y_valid - y_valid_predicted)**2)\n",
    "MSE"
   ]
  },
  {
   "cell_type": "markdown",
   "id": "e314e11d-62cb-4628-9732-84bec212d1ef",
   "metadata": {},
   "source": [
    "### Task 1.4:\n",
    "Below you find a preimplemented function `evalMSE()`. Explain what this function does (what are the arguments, what is the output)?"
   ]
  },
  {
   "cell_type": "code",
   "execution_count": 12,
   "id": "a30a5c7f-e682-4878-a276-9ecd4d89c89e",
   "metadata": {},
   "outputs": [],
   "source": [
    "def evalMSE(predictors,\n",
    "           train,\n",
    "           validation):\n",
    "    # build design matrix and response vector\n",
    "    design = MS(predictors).fit(train)\n",
    "    X_train = design.transform(train)\n",
    "    y_train = train.mpg \n",
    "\n",
    "    # train model\n",
    "    model = sm.OLS(y_train,X_train)\n",
    "    results = model.fit()\n",
    "\n",
    "    # compute MSE\n",
    "    y_valid_actual = validation.mpg\n",
    "    X_validation = design.transform(validation)\n",
    "    y_valid_predicted = results.predict(X_validation)\n",
    "    MSE = np.mean((y_valid_actual - y_valid_predicted)**2)\n",
    "    return MSE"
   ]
  },
  {
   "cell_type": "code",
   "execution_count": 13,
   "id": "97e191ba-e982-49d9-8ab6-08049617d9d4",
   "metadata": {},
   "outputs": [
    {
     "data": {
      "text/plain": [
       "23.753178493666372"
      ]
     },
     "execution_count": 13,
     "metadata": {},
     "output_type": "execute_result"
    }
   ],
   "source": [
    "evalMSE(['horsepower'], train, validation)"
   ]
  },
  {
   "cell_type": "markdown",
   "id": "1a5a5417-6aa1-4e53-8236-6f3e892a5578",
   "metadata": {},
   "source": [
    "*Your explanation here*"
   ]
  },
  {
   "cell_type": "markdown",
   "id": "82c61267-f21a-4fd4-9a65-5eeb6f23e66c",
   "metadata": {},
   "source": [
    "### Task 1.5:"
   ]
  },
  {
   "cell_type": "markdown",
   "id": "ae4f91f4-2687-4f2f-a70c-fc3ff9244364",
   "metadata": {},
   "source": [
    "Use the function `evalMSE()` to estimate the MSE on the validation set for linear regression models including successively higher polynomial terms of `horsepower` ranging from degree 1 to degree 3."
   ]
  },
  {
   "cell_type": "code",
   "execution_count": 14,
   "id": "62b00966-81a0-42e0-9fb4-fffc45eae41b",
   "metadata": {},
   "outputs": [],
   "source": [
    "from ISLP.models import poly\n",
    "MSE = []\n",
    "for i in range(1,4):\n",
    "    predictors = [poly('horsepower',degree=i)]\n",
    "    err = evalMSE(predictors, train, validation)\n",
    "    MSE.append(err)"
   ]
  },
  {
   "cell_type": "code",
   "execution_count": 15,
   "id": "aa354b40-ee8e-4c0b-ae27-7e9002fd3644",
   "metadata": {},
   "outputs": [
    {
     "data": {
      "text/plain": [
       "[23.753178493666372, 19.039544233087433, 18.998421414459045]"
      ]
     },
     "execution_count": 15,
     "metadata": {},
     "output_type": "execute_result"
    }
   ],
   "source": [
    "MSE"
   ]
  },
  {
   "cell_type": "markdown",
   "id": "93e4fc03-91ec-4082-a410-10be246d127a",
   "metadata": {},
   "source": [
    "## 1b) Cross validation"
   ]
  },
  {
   "cell_type": "markdown",
   "id": "6c2bc1aa-9654-41b3-a459-69777ab0f732",
   "metadata": {},
   "source": [
    "Cross validation is implemented most comfortably in `scikit-learn`. In order to use the `scikit-learn` implementation of cross validation with our `statsmodels` linear model, we use the wrapper `sklearn_sm` provided by the `ISLP` library. From the lab in Chapter 5:\n",
    "\n",
    "\"The class `sklearn_sm()` has as its first argument a model from `statsmodels`. It can take two additional optional arguments: `model_str` which can be used to specify a formula, and `model_args` which should be a dictionary of additional arguments used when fitting the model. For example, to fit a logistic regression model we have to specify a family argument. This is passed as `model_args={'family':sm.families.Binomial()}`.\"\n",
    "\n",
    "After specifying our design matrix `X` and the vector `y` we call the `scikit-learn` function `cross_validate` (see [documentation](https://scikit-learn.org/stable/modules/generated/sklearn.model_selection.cross_validate.html)).\n",
    "\n",
    "The result is a dictionary which among others contains the `test_score` which we are interested when we use cross validation to estimate the test error."
   ]
  },
  {
   "cell_type": "markdown",
   "id": "094c8355-3688-4337-85c5-fc83214929a7",
   "metadata": {},
   "source": [
    "### Task 1.6:\n",
    "Run the following cell to initialize an `sklearn_sm` object with a `statsmodels.OLS` model and a `ModelSpec` object with specified predictor `horsepower`, with dataset `X` with removed `mpg` column und with response vector `y`."
   ]
  },
  {
   "cell_type": "code",
   "execution_count": 16,
   "id": "5041bb1a-9938-4979-a691-15c445c3e10c",
   "metadata": {},
   "outputs": [],
   "source": [
    "model = sklearn_sm(sm.OLS,\n",
    "                  MS(['horsepower']))\n",
    "X = Auto.drop(columns = ['mpg'])\n",
    "y = Auto['mpg']"
   ]
  },
  {
   "cell_type": "markdown",
   "id": "dda468f9-0b66-4be7-b77f-7df234e958ae",
   "metadata": {},
   "source": [
    "The function `cross_validate` is the original `scikit-learn` function which carries out cross validation. We provide the following arguments:\n",
    "- a model which needs `fit()` and `predict()` methods\n",
    "- a design matrix `X` and a vector of training labels `y`\n",
    "- the parameter `cv` specifying the number of folds for cross validation.\n",
    "\n",
    "See the [official documentation](https://scikit-learn.org/stable/modules/generated/sklearn.model_selection.cross_validate.html) for more details."
   ]
  },
  {
   "cell_type": "markdown",
   "id": "a1422be8-ca48-47e8-907a-3479d8211665",
   "metadata": {},
   "source": [
    "### Task 1.7:\n",
    "Run a Leave-one-out-cross-validation for a simple linear regression model predicting `mpg` based on `horsepower`. To do so, choose as many folds as your dataset has samples using the parameter `cv`."
   ]
  },
  {
   "cell_type": "code",
   "execution_count": 17,
   "id": "7fd5f297-f0d1-464e-8725-06a8f124cf09",
   "metadata": {},
   "outputs": [],
   "source": [
    "cv_results = cross_validate(model, X, y, cv=X.shape[0])"
   ]
  },
  {
   "cell_type": "code",
   "execution_count": 18,
   "id": "ca322d25-319b-4fd0-a6a4-334f853d7504",
   "metadata": {},
   "outputs": [
    {
     "data": {
      "text/plain": [
       "24.23151351792922"
      ]
     },
     "execution_count": 18,
     "metadata": {},
     "output_type": "execute_result"
    }
   ],
   "source": [
    "cv_err = np.mean(cv_results['test_score'])\n",
    "cv_err"
   ]
  },
  {
   "cell_type": "markdown",
   "id": "bcf47539-a394-47a2-aac3-aae2a7b5f766",
   "metadata": {},
   "source": [
    "### Task 1.8:"
   ]
  },
  {
   "cell_type": "markdown",
   "id": "6bfa31f5-b248-486a-a787-4237be3eadbe",
   "metadata": {},
   "source": [
    "We can repeat this procedure to compare different models. In the following we do this with various polynomial fits.\n",
    "\n",
    "Compute the LOOCV error for models to predict `mpg` based on polynomial powers of `mpg` for degrees 1 to 5."
   ]
  },
  {
   "cell_type": "code",
   "execution_count": 21,
   "id": "0f618abc-ec1d-4ead-907d-1c1bc58326b9",
   "metadata": {},
   "outputs": [
    {
     "data": {
      "text/plain": [
       "array([24.23151352, 19.24821312, 19.33498406, 19.42443031, 19.03321385])"
      ]
     },
     "execution_count": 21,
     "metadata": {},
     "output_type": "execute_result"
    }
   ],
   "source": [
    "cv_error = np.zeros(5) #initialize empty vector for CV errors of 5 models\n",
    "M = sklearn_sm(sm.OLS)\n",
    "y = Auto['mpg']\n",
    "\n",
    "# loop over 5 different polynomial models\n",
    "for i in range(1,6):\n",
    "    # choose power of horsepowers as predictors up to degree i+1\n",
    "    predictors = [poly('horsepower', degree=i)]\n",
    "    X = MS(predictors).fit_transform(Auto)\n",
    "    #perform cross validation for polynomial model of degree i+i\n",
    "    cv_results = cross_validate(M,\n",
    "                               X,\n",
    "                               y,\n",
    "                               cv = Auto.shape[0])\n",
    "    # save cross validation error into result vector\n",
    "    cv_error[i-1] = np.mean(cv_results['test_score'])\n",
    "cv_error"
   ]
  },
  {
   "cell_type": "markdown",
   "id": "62a05819-9a75-4f48-ac7b-4fc629b2e076",
   "metadata": {},
   "source": [
    "### Task 1.9:"
   ]
  },
  {
   "cell_type": "markdown",
   "id": "41d9e78a-7e5a-438c-a279-8c95266cb9db",
   "metadata": {},
   "source": [
    "Instead of using $K = n$ folds such as above (resulting in Leave-One-Out-Cross-Validation (LOOCV)) we can also specify a smaller integer $K$ of folds. There are two possibilities for this:\n",
    "- set `cv = K`,\n",
    "- specify a cross validation generator such as `KFold` (see [documentation](https://scikit-learn.org/stable/modules/generated/sklearn.model_selection.KFold.html))\n",
    "\n",
    "It is recommended to use the second approach, which is generally preferred as we do better control the kind of split when using `KFold`."
   ]
  },
  {
   "cell_type": "markdown",
   "id": "464b0f54-a969-4661-85cd-fc8092d3bdda",
   "metadata": {},
   "source": [
    "Compute the cross validation error for models to predict `mpg` based on polynomial powers of `mpg` for degrees 1 to 5. Use 10 folds."
   ]
  },
  {
   "cell_type": "code",
   "execution_count": 23,
   "id": "f33fc9d7-ffb3-4a2f-8cfb-06d249fd1638",
   "metadata": {},
   "outputs": [
    {
     "data": {
      "text/plain": [
       "array([24.1998082 , 19.22863661, 19.26626535, 19.35109227, 19.02323325])"
      ]
     },
     "execution_count": 23,
     "metadata": {},
     "output_type": "execute_result"
    }
   ],
   "source": [
    "cv_error = np.zeros(5)\n",
    "\n",
    "cross_val = KFold(n_splits=10,\n",
    "                 shuffle=True,\n",
    "                 random_state=42)\n",
    "\n",
    "M = sklearn_sm(sm.OLS)\n",
    "y = Auto['mpg']\n",
    "\n",
    "# loop over 5 different polynomial models\n",
    "for i in range(1,6):\n",
    "    # choose power of horsepowers as predictors up to degree i+1\n",
    "    predictors = [poly('horsepower', degree=i)]\n",
    "    X = MS(predictors).fit_transform(Auto)\n",
    "    #perform cross validation for polynomial model of degree i+i\n",
    "    cv_results = cross_validate(M,\n",
    "                               X,\n",
    "                               y,\n",
    "                               cv = cross_val)\n",
    "    # save cross validation error into result vector\n",
    "    cv_error[i-1] = np.mean(cv_results['test_score'])\n",
    "cv_error"
   ]
  },
  {
   "cell_type": "markdown",
   "id": "1eab36e5-c629-4ae3-8783-89823f392af7",
   "metadata": {},
   "source": [
    "# Part 2: Case study cross validation\n",
    "\n",
    "(see Exercise 5.4.5)\n",
    "\n",
    "In this case study we use the credit card dataset to predict the probability of default. We will build a logistic regression model and estimate its test error using the validation set approach and the cross-validation approach."
   ]
  },
  {
   "cell_type": "code",
   "execution_count": null,
   "id": "b8ed8e43-d25a-4a02-988f-49ce67770870",
   "metadata": {},
   "outputs": [],
   "source": [
    "# run this cell to load the data\n",
    "Default = load_data('Default')\n",
    "Default"
   ]
  },
  {
   "cell_type": "markdown",
   "id": "7f9c6317-cf99-49d9-ae60-753f09eb793a",
   "metadata": {},
   "source": [
    "Background information on the dataset can be found [in the documentation](https://islp.readthedocs.io/en/latest/datasets/Default.html)."
   ]
  },
  {
   "cell_type": "markdown",
   "id": "f7a75412-c7de-491e-b9be-d0ec886617b0",
   "metadata": {},
   "source": [
    "## Task 2.1\n",
    "Fit a logistic regression model that uses `income` and `balance` to predict `default`."
   ]
  },
  {
   "cell_type": "code",
   "execution_count": null,
   "id": "727109ed-48b7-4c9e-bc44-8c36b14a3c81",
   "metadata": {},
   "outputs": [],
   "source": [
    "# your code here\n",
    "..."
   ]
  },
  {
   "cell_type": "markdown",
   "id": "f5cc651b-8665-48f2-a7d1-bfadb49d1c94",
   "metadata": {
    "jp-MarkdownHeadingCollapsed": true
   },
   "source": [
    "## Task 2.2\n",
    "Using the validation set approach, estimate the test error of this model. In order to do this, you must perform the following steps:\n",
    "\n",
    "i. Split the sample set into a training set and a validation set.\n",
    "\n",
    "ii. Fit a multiple logistic regression model using only the training observations.\n",
    "\n",
    "iii. Obtain a prediction of default status for each individual in the validation set by computing the posterior probability of default for that individual, and classifying the individual to the default category if the posterior probability is greater than 0.5.\n",
    "\n",
    "iv. Compute the validation set error, which is the fraction of the observations in the validation set that are misclassified."
   ]
  },
  {
   "cell_type": "code",
   "execution_count": null,
   "id": "b98a4cf7-6068-4c36-a14b-449001af21a1",
   "metadata": {},
   "outputs": [],
   "source": [
    "# your code here\n",
    "..."
   ]
  },
  {
   "cell_type": "markdown",
   "id": "a79e016c-9404-478e-9ca7-dd5b4d405bdf",
   "metadata": {},
   "source": [
    "## Task 2.3\n",
    "Repeat the process in (b) three times, using three different splits of the observations into a training set and a validation set. Comment on the results obtained."
   ]
  },
  {
   "cell_type": "code",
   "execution_count": null,
   "id": "d6678f73-12fb-4cc6-a898-c065e3d0247f",
   "metadata": {},
   "outputs": [],
   "source": [
    "# your code here\n",
    "..."
   ]
  },
  {
   "cell_type": "markdown",
   "id": "856893a5-2422-4e97-8641-5bbe75504e0b",
   "metadata": {},
   "source": [
    "## Task 2.4\n",
    "Now predict the test error of the model using 10-fold cross-validation. To do so, follow the steps we developed in Part 1b) of this notebook.\n",
    "\n",
    "**Note**: To carry out this task, we need to define our own custom score using [`sklearn.make_scorer()`](https://scikit-learn.org/stable/modules/generated/sklearn.metrics.make_scorer.html) and pass this to the function [`sklearn.cross_validate()`](https://scikit-learn.org/stable/modules/generated/sklearn.model_selection.cross_validate.html) by specifying it as an argument to the `scoring` parameter.\n",
    "\n",
    "Our custom scoring function needs to have the signature `score_func(y, y_pred, **kwargs)` with `y` being the true labels and `y_pred` the predicted labels as output by `sm.Logit()` when applying the `predict()` method. Since `statsmodels` outputs probabilities rather than actual labels, we first transform these probabilities  into labels. This is what our scoring function `accuracy_score_sm()` does."
   ]
  },
  {
   "cell_type": "code",
   "execution_count": null,
   "id": "ca5eb851-765d-499d-9cdb-4f9f2f2d26c4",
   "metadata": {},
   "outputs": [],
   "source": [
    "# Step 1: Define custom scorer which computes accuracy based on probabilities as\n",
    "# output by statsmodels\n",
    "from sklearn.metrics import make_scorer\n",
    "def accuracy_score_sm(y_true, y_pred_prob):\n",
    "    # computes the accuracy for the output of a binary classification model\n",
    "\n",
    "    # inputs:\n",
    "    #    y_true: ground truth labels, encoded as 0,1\n",
    "    #    y_pred_prob: probabilities for label 1 as predicted by the model\n",
    "\n",
    "    # output:\n",
    "    #    percentage of models \n",
    "    y_pred = ...\n",
    "    return ...\n",
    "accuracy_sm = make_scorer(...)\n",
    "\n",
    "# Step 2: Initialize splitter for cross validation and model\n",
    "cross_val = ...\n",
    "M = sklearn_sm(sm.Logit)\n",
    "\n",
    "# Step 3: Define response variable and design matrix for cross validation\n",
    "y = ...\n",
    "predictors = ...\n",
    "X = ...\n",
    "\n",
    "# Step 4: Run cross validation\n",
    "cv_results = cross_validate(M,\n",
    "                            X,\n",
    "                            y,\n",
    "                            scoring = accuracy_sm,\n",
    "                            cv = cross_val)\n",
    "print('Mean accuracy: ', np.mean(cv_results['test_score']))"
   ]
  },
  {
   "cell_type": "markdown",
   "id": "c8d4eeec-0d91-4fb1-8ac1-8e066fedd68d",
   "metadata": {},
   "source": [
    "## Task 2.5\n",
    "Now consider a logistic regression model that predicts the probability of default using income, balance, and a dummy variable for student. Estimate the test error for this model using 10-fold cross-validation. Comment on whether or not including a dummy variable for student leads to a reduction in the test error rate."
   ]
  },
  {
   "cell_type": "code",
   "execution_count": null,
   "id": "2d922248-f09f-49b6-9b39-a873c4883974",
   "metadata": {},
   "outputs": [],
   "source": [
    "# your code here\n",
    "..."
   ]
  },
  {
   "cell_type": "markdown",
   "id": "6bd7e30a-e3a8-4d65-a4e2-b25f9f274dd9",
   "metadata": {},
   "source": [
    "# Part 3: Implementation of bootstrap\n",
    "\n",
    "## Bootstrapping for estimating the accuracy of a statistic\n",
    "### Introducing the dataset\n",
    "We closely follow an example presented in [Computational and Inferential Thinking](https://inferentialthinking.com/chapters/13/3/Confidence_Intervals.html)."
   ]
  },
  {
   "cell_type": "code",
   "execution_count": 4,
   "id": "26a037ee-ddae-4136-9eb1-bd22f27d845a",
   "metadata": {},
   "outputs": [
    {
     "data": {
      "text/html": [
       "<div>\n",
       "<style scoped>\n",
       "    .dataframe tbody tr th:only-of-type {\n",
       "        vertical-align: middle;\n",
       "    }\n",
       "\n",
       "    .dataframe tbody tr th {\n",
       "        vertical-align: top;\n",
       "    }\n",
       "\n",
       "    .dataframe thead th {\n",
       "        text-align: right;\n",
       "    }\n",
       "</style>\n",
       "<table border=\"1\" class=\"dataframe\">\n",
       "  <thead>\n",
       "    <tr style=\"text-align: right;\">\n",
       "      <th></th>\n",
       "      <th>Birth Weight</th>\n",
       "      <th>Gestational Days</th>\n",
       "      <th>Maternal Age</th>\n",
       "      <th>Maternal Height</th>\n",
       "      <th>Maternal Pregnancy Weight</th>\n",
       "      <th>Maternal Smoker</th>\n",
       "    </tr>\n",
       "  </thead>\n",
       "  <tbody>\n",
       "    <tr>\n",
       "      <th>0</th>\n",
       "      <td>120</td>\n",
       "      <td>284</td>\n",
       "      <td>27</td>\n",
       "      <td>62</td>\n",
       "      <td>100</td>\n",
       "      <td>False</td>\n",
       "    </tr>\n",
       "    <tr>\n",
       "      <th>1</th>\n",
       "      <td>113</td>\n",
       "      <td>282</td>\n",
       "      <td>33</td>\n",
       "      <td>64</td>\n",
       "      <td>135</td>\n",
       "      <td>False</td>\n",
       "    </tr>\n",
       "    <tr>\n",
       "      <th>2</th>\n",
       "      <td>128</td>\n",
       "      <td>279</td>\n",
       "      <td>28</td>\n",
       "      <td>64</td>\n",
       "      <td>115</td>\n",
       "      <td>True</td>\n",
       "    </tr>\n",
       "    <tr>\n",
       "      <th>3</th>\n",
       "      <td>108</td>\n",
       "      <td>282</td>\n",
       "      <td>23</td>\n",
       "      <td>67</td>\n",
       "      <td>125</td>\n",
       "      <td>True</td>\n",
       "    </tr>\n",
       "    <tr>\n",
       "      <th>4</th>\n",
       "      <td>136</td>\n",
       "      <td>286</td>\n",
       "      <td>25</td>\n",
       "      <td>62</td>\n",
       "      <td>93</td>\n",
       "      <td>False</td>\n",
       "    </tr>\n",
       "    <tr>\n",
       "      <th>...</th>\n",
       "      <td>...</td>\n",
       "      <td>...</td>\n",
       "      <td>...</td>\n",
       "      <td>...</td>\n",
       "      <td>...</td>\n",
       "      <td>...</td>\n",
       "    </tr>\n",
       "    <tr>\n",
       "      <th>1169</th>\n",
       "      <td>113</td>\n",
       "      <td>275</td>\n",
       "      <td>27</td>\n",
       "      <td>60</td>\n",
       "      <td>100</td>\n",
       "      <td>False</td>\n",
       "    </tr>\n",
       "    <tr>\n",
       "      <th>1170</th>\n",
       "      <td>128</td>\n",
       "      <td>265</td>\n",
       "      <td>24</td>\n",
       "      <td>67</td>\n",
       "      <td>120</td>\n",
       "      <td>False</td>\n",
       "    </tr>\n",
       "    <tr>\n",
       "      <th>1171</th>\n",
       "      <td>130</td>\n",
       "      <td>291</td>\n",
       "      <td>30</td>\n",
       "      <td>65</td>\n",
       "      <td>150</td>\n",
       "      <td>True</td>\n",
       "    </tr>\n",
       "    <tr>\n",
       "      <th>1172</th>\n",
       "      <td>125</td>\n",
       "      <td>281</td>\n",
       "      <td>21</td>\n",
       "      <td>65</td>\n",
       "      <td>110</td>\n",
       "      <td>False</td>\n",
       "    </tr>\n",
       "    <tr>\n",
       "      <th>1173</th>\n",
       "      <td>117</td>\n",
       "      <td>297</td>\n",
       "      <td>38</td>\n",
       "      <td>65</td>\n",
       "      <td>129</td>\n",
       "      <td>False</td>\n",
       "    </tr>\n",
       "  </tbody>\n",
       "</table>\n",
       "<p>1174 rows × 6 columns</p>\n",
       "</div>"
      ],
      "text/plain": [
       "      Birth Weight  Gestational Days  Maternal Age  Maternal Height  \\\n",
       "0              120               284            27               62   \n",
       "1              113               282            33               64   \n",
       "2              128               279            28               64   \n",
       "3              108               282            23               67   \n",
       "4              136               286            25               62   \n",
       "...            ...               ...           ...              ...   \n",
       "1169           113               275            27               60   \n",
       "1170           128               265            24               67   \n",
       "1171           130               291            30               65   \n",
       "1172           125               281            21               65   \n",
       "1173           117               297            38               65   \n",
       "\n",
       "      Maternal Pregnancy Weight  Maternal Smoker  \n",
       "0                           100            False  \n",
       "1                           135            False  \n",
       "2                           115             True  \n",
       "3                           125             True  \n",
       "4                            93            False  \n",
       "...                         ...              ...  \n",
       "1169                        100            False  \n",
       "1170                        120            False  \n",
       "1171                        150             True  \n",
       "1172                        110            False  \n",
       "1173                        129            False  \n",
       "\n",
       "[1174 rows x 6 columns]"
      ]
     },
     "execution_count": 4,
     "metadata": {},
     "output_type": "execute_result"
    }
   ],
   "source": [
    "url = 'https://drive.google.com/uc?id='\n",
    "file_id = \"15xUDQPqkzKJBoxrafC9iNz4EgFlwbmM_\"\n",
    "births = pd.read_csv(url + file_id)\n",
    "births"
   ]
  },
  {
   "cell_type": "markdown",
   "id": "5100b64c-a24a-43ca-997f-3b3d72ac3597",
   "metadata": {},
   "source": [
    "#### Task 3.1\n",
    "\n",
    "Create a new column `Birth Weight (g)` which contains the birth weight in g. Use the fact 1oz = 28.3495g for your computations."
   ]
  },
  {
   "cell_type": "code",
   "execution_count": null,
   "id": "de63ccb0-8936-47bb-9f74-e047388e10aa",
   "metadata": {},
   "outputs": [],
   "source": [
    "#your code here\n",
    "..."
   ]
  },
  {
   "cell_type": "markdown",
   "id": "7df0bf87-4e4f-441c-9c81-7c1cd6414089",
   "metadata": {},
   "source": [
    "Birth weight is an important factor in the health of a newborn infant. Smaller babies tend to need more medical care in their first days than larger newborns. It is therefore helpful to have an estimate of birth weight before the baby is born. One way to do this is to examine the relationship between birth weight and the number of gestational days.\n",
    "\n",
    "A simple measure of this relationship is the ratio of birth weight to the number of gestational days. The table ratios contains the first two columns of baby, as well as a column of the ratios. The first entry in that column was calculated as follows:\n",
    "$$ \\frac{3401.94 \\text{oz}}{284 \\text{ days}} \\approx 11.98 \\text{g} \\text{ per day}.$$"
   ]
  },
  {
   "cell_type": "code",
   "execution_count": null,
   "id": "f4af7890-21f8-481f-afa2-4063355daaf9",
   "metadata": {},
   "outputs": [],
   "source": [
    "ratios = pd.DataFrame({\n",
    "    'Birth Weight' : births['Birth Weight (g)'],\n",
    "    'Ratio BW:GD' : births['Birth Weight (g)'] / births['Gestational Days']\n",
    "})\n",
    "ratios"
   ]
  },
  {
   "cell_type": "markdown",
   "id": "16e15926-21d4-4884-b0f9-70bb3576b304",
   "metadata": {},
   "source": [
    "#### Task 3.2\n",
    "\n",
    "Plot a histogram of the ratios."
   ]
  },
  {
   "cell_type": "code",
   "execution_count": null,
   "id": "ed9314c2-884a-4cb9-aa8f-54448ea5a9b6",
   "metadata": {},
   "outputs": [],
   "source": [
    "#your code here"
   ]
  },
  {
   "cell_type": "markdown",
   "id": "ebb2bd4c-ca1e-4921-b9c1-db2aa9bffb7d",
   "metadata": {},
   "source": [
    "#### Task 3.3\n",
    "\n",
    "Compute the median ratio and the maximum ratio in the sample."
   ]
  },
  {
   "cell_type": "code",
   "execution_count": null,
   "id": "3114aec5-264e-4cc0-8974-fdf327a09967",
   "metadata": {},
   "outputs": [],
   "source": [
    "#your code here"
   ]
  },
  {
   "cell_type": "markdown",
   "id": "f1939779-84c0-47ef-9183-ed232bfed255",
   "metadata": {},
   "source": [
    "### Estimating the variability of the population median\n",
    "We now want to estimate the population median. For this we are going to use the bootstrapping method.\n",
    "We start by reviewing the idea in a graphical manner:\n",
    "![bootstrap.png](bootstrap.png)"
   ]
  },
  {
   "cell_type": "markdown",
   "id": "bd4965d8-0b8e-4e93-a455-bc002721446d",
   "metadata": {},
   "source": [
    "#### Task 3.4\n",
    "\n",
    "Define a function `one_bootstrap_median` which will bootstrap the sample and return the median ratio in the bootstrapped sample.\n",
    "\n",
    "- To bootstrap the sample use the Pandas.DataFrame method [`sample`](https://pandas.pydata.org/docs/reference/api/pandas.DataFrame.sample.html). *Important*: Make sure to draw a sample of the same length as our original sample and make sure to sample with replacement.\n",
    "- To compute the appropriate quantile, use the Numpy method [`quantile`](https://numpy.org/doc/stable/reference/generated/numpy.quantile.html)"
   ]
  },
  {
   "cell_type": "code",
   "execution_count": null,
   "id": "508a2cf7-748b-418a-b74e-06bec894fc48",
   "metadata": {},
   "outputs": [],
   "source": [
    "def one_bootstrap_median():\n",
    "    ..."
   ]
  },
  {
   "cell_type": "markdown",
   "id": "16472443-6002-4c3e-835c-0bed4dd63c71",
   "metadata": {},
   "source": [
    "#### Task 3.5\n",
    "\n",
    "Initialize a Numpy vector `bootstrap_medians` with zeros of length 5000 (use the Numpy method [`zeros()`](https://numpy.org/doc/stable/reference/generated/numpy.zeros.html#numpy.zeros). Then fill this vector with 5000 bootstrapped medians."
   ]
  },
  {
   "cell_type": "code",
   "execution_count": null,
   "id": "bbdb24c3-418b-4e06-8fe4-6d84da3a1fe0",
   "metadata": {},
   "outputs": [],
   "source": [
    "bootstrap_medians = ...\n",
    "..."
   ]
  },
  {
   "cell_type": "code",
   "execution_count": null,
   "id": "14368805-0218-4454-b072-0e5705ea1477",
   "metadata": {},
   "outputs": [],
   "source": [
    "fig,ax  = plt.subplots(figsize =(8,8))\n",
    "sns.histplot(x = bootstrap_medians, bins=25);"
   ]
  },
  {
   "cell_type": "markdown",
   "id": "aab486c0-58a8-4f19-96ff-95b8b39d4a99",
   "metadata": {},
   "source": [
    "## Bootstrapping for estimating the accuracy of a Linear Regression Model\n",
    "Now, we discuss how to use bootstrapping in order to assess the variability of the coefficient estimates and predictions from a statistical learning method. As an example, we look at a simple linear regression model based on the `Auto` dataset which predicts the `mpg` variable based on `horsepower`.\n",
    "\n",
    "With the bootstrap method we are going to estimate the distribution of the coefficient for `mpg` in this model and we compare the standard error of this coefficient as estimated by `statsmodels` with our bootstrap estimate."
   ]
  },
  {
   "cell_type": "code",
   "execution_count": null,
   "id": "b7cef0aa-329f-4e16-9cdb-2bb2dadafc37",
   "metadata": {},
   "outputs": [],
   "source": [
    "Auto = load_data('Auto')"
   ]
  },
  {
   "cell_type": "markdown",
   "id": "9464558b-1fb1-48cb-9a5e-c48abcdd8d1a",
   "metadata": {},
   "source": [
    "#### Task 3.6 \n",
    "\n",
    "Define a function `one_bootstrap_model_coefficient` which creates a single bootstrap sample from the Auto dataframe, computes a regression model based on the single predictor `horsepower` and returns the model coefficient for `horsepower`."
   ]
  },
  {
   "cell_type": "code",
   "execution_count": null,
   "id": "10cca52f-0fb5-4bef-b91b-a637f242c103",
   "metadata": {},
   "outputs": [],
   "source": [
    "def one_bootstrap_model_coefficient():\n",
    "    ..."
   ]
  },
  {
   "cell_type": "markdown",
   "id": "76ad9950-7363-480b-a06b-a14b9eac8205",
   "metadata": {},
   "source": [
    "#### Task 3.7\n",
    "\n",
    "Initialize a Numpy vector `bootstrap_model_coefficients` with zeros of length 5000 (use the Numpy method [`zeros()`](https://numpy.org/doc/stable/reference/generated/numpy.zeros.html#numpy.zeros). Then fill this vector with 5000 bootstrapped model coefficients."
   ]
  },
  {
   "cell_type": "code",
   "execution_count": null,
   "id": "cae680e7-254c-4420-95be-e9fff22bc7cc",
   "metadata": {},
   "outputs": [],
   "source": [
    "bootstrap_model_coefficients = ...\n",
    "..."
   ]
  },
  {
   "cell_type": "code",
   "execution_count": null,
   "id": "484d16cf-3dc5-47f5-9218-a7d3329b1ee9",
   "metadata": {},
   "outputs": [],
   "source": [
    "fig,ax  = plt.subplots(figsize =(8,8))\n",
    "sns.histplot(x = bootstrap_model_coefficients, bins=25);"
   ]
  },
  {
   "cell_type": "markdown",
   "id": "bf87175d-d169-4bd7-9d52-5083148aeef7",
   "metadata": {},
   "source": [
    "#### Task 3.8 \n",
    "\n",
    "Estimate the standard error of the model coefficient for `horsepower` and assign it to the variable `standard_error_bootstrap`. Compare to the `sm.OLS()` estimate which should be assigned to the variable `standard_error_bootstrap`."
   ]
  },
  {
   "cell_type": "code",
   "execution_count": null,
   "id": "f18c1638-9af0-45de-8bdb-757ec02aead6",
   "metadata": {},
   "outputs": [],
   "source": [
    "standard_error_bootstrap = ...\n",
    "\n",
    "# compute statsmodels OLS model using the full dataset\n",
    "...\n",
    "standard_error_statsmodels = ...\n",
    "\n",
    "print('Bootstrapped standard error for model coefficient:', \"{:10.4f}\".format(standard_error_bootstrap))\n",
    "print('Statsmodels OLS standard error estimate for model coefficient:', \"{:10.4f}\".format(standard_error_statsmodels))"
   ]
  },
  {
   "cell_type": "markdown",
   "id": "03a7df20-bee5-4ca7-a061-7af38ba266ab",
   "metadata": {},
   "source": [
    "# Part 4: Case study bootstrap\n",
    "\n",
    "We continue to consider the use of a logistic regression model to predict the probability of default using income and balance on the `Default` data set. In particular, we will now compute estimates for the standard errors of the income and balance logistic regression coefficients in two different ways: \n",
    "1. using the bootstrap, and \n",
    "2. using the standard formula for computing the standard errors in the sm.GLM() function."
   ]
  },
  {
   "cell_type": "code",
   "execution_count": null,
   "id": "3bdccc8c-c1ea-4dcb-817a-2047c8c63afd",
   "metadata": {},
   "outputs": [],
   "source": [
    "# run this cell to load the data\n",
    "Default = load_data('Default')\n",
    "Default"
   ]
  },
  {
   "cell_type": "markdown",
   "id": "55d21e66-08e8-4e2b-8a33-1b36d7d8cda2",
   "metadata": {},
   "source": [
    "## Task 4.1\n",
    "Using the `summarize()` and `sm.GLM()` functions, determine the estimated standard errors for the coefficients associated with `income` and `balance` in a multiple logistic regression model that uses both predictors."
   ]
  },
  {
   "cell_type": "code",
   "execution_count": null,
   "id": "9bce6b25-000a-4305-a96e-a85673d8e98b",
   "metadata": {},
   "outputs": [],
   "source": [
    "..."
   ]
  },
  {
   "cell_type": "markdown",
   "id": "f7cf6ff5-ab36-4ed9-9a1a-caec55ecbdb7",
   "metadata": {},
   "source": [
    "## Task 4.2\n",
    "Following the bootstrap example in Part 2 above, estimate the standard errors of the logistic regression coefficients for income and balance with the bootstrap."
   ]
  },
  {
   "cell_type": "code",
   "execution_count": null,
   "id": "101561c3-066d-4a13-bf3e-3ee32cfeff1a",
   "metadata": {},
   "outputs": [],
   "source": [
    "# Step 1: Define function to compute one bootstrap sample of the model coefficients\n",
    "..."
   ]
  },
  {
   "cell_type": "code",
   "execution_count": null,
   "id": "2a13fa27-7fc3-495b-9afd-a79086d0787b",
   "metadata": {},
   "outputs": [],
   "source": [
    "# Step 2: \n",
    "..."
   ]
  },
  {
   "cell_type": "code",
   "execution_count": null,
   "id": "f72cbb24-39a1-4429-83d1-92bfef2427d8",
   "metadata": {},
   "outputs": [],
   "source": [
    "# Step 3a: comparison of bootstrap standard errors and standard errors as per statsmodels.Logit() - balance\n",
    "print('Bootstrap estimation of standard error for balance parameter:   ', \n",
    "      '{:6e}'.format(np.std(balance_coefficients))\n",
    ")\n",
    "print('Statsmodels estimation of standard error for balance parameter: ', \n",
    "      '{:6e}'.format(summarize(results).loc['balance','std err'])\n",
    ")"
   ]
  },
  {
   "cell_type": "code",
   "execution_count": null,
   "id": "6e4aea88-836a-4c27-aa33-7a2ae61c4b88",
   "metadata": {},
   "outputs": [],
   "source": [
    "# Step 3b: comparison of bootstrap standard errors and standard errors as per statsmodels.Logit() - income\n",
    "print('Bootstrap estimation of standard error for income parameter:   ', \n",
    "      '{:6e}'.format(np.std(income_coefficients))\n",
    ")\n",
    "print('Statsmodels estimation of standard error for income parameter: ', \n",
    "      '{:6e}'.format(summarize(results).loc['income','std err'])\n",
    ")"
   ]
  },
  {
   "cell_type": "markdown",
   "id": "688bd9fc-52e3-43a3-ad20-08e828a77e42",
   "metadata": {},
   "source": [
    "## Task 4.3\n",
    "\n",
    "Comment on the estimated standard errors obtained using the `sm.Logit()`/`sm.GLM()` function and using the bootstrap."
   ]
  },
  {
   "cell_type": "markdown",
   "id": "9dd0e29d-827b-4ede-bb41-cb86a6cb2925",
   "metadata": {},
   "source": [
    "*Your comment here*"
   ]
  }
 ],
 "metadata": {
  "kernelspec": {
   "display_name": "Python 3 (ipykernel)",
   "language": "python",
   "name": "python3"
  },
  "language_info": {
   "codemirror_mode": {
    "name": "ipython",
    "version": 3
   },
   "file_extension": ".py",
   "mimetype": "text/x-python",
   "name": "python",
   "nbconvert_exporter": "python",
   "pygments_lexer": "ipython3",
   "version": "3.9.7"
  }
 },
 "nbformat": 4,
 "nbformat_minor": 5
}
