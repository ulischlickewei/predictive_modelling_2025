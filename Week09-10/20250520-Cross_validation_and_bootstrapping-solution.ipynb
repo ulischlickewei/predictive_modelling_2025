{
 "cells": [
  {
   "cell_type": "markdown",
   "id": "2eeb1ec4-82f9-40e4-b16d-3468980670f8",
   "metadata": {},
   "source": [
    "# Part 1: Cross validation"
   ]
  },
  {
   "cell_type": "code",
   "execution_count": 1,
   "id": "fe6c8919-3445-43b8-a26c-f0b16e5eb6eb",
   "metadata": {},
   "outputs": [],
   "source": [
    "import numpy as np\n",
    "import pandas as pd\n",
    "import matplotlib.pyplot as plt\n",
    "import seaborn as sns\n",
    "import statsmodels.api as sm\n",
    "from ISLP import load_data\n",
    "from ISLP.models import (ModelSpec as MS,\n",
    "                         summarize,\n",
    "                         poly)\n",
    "from sklearn.model_selection import train_test_split\n",
    "from functools import partial\n",
    "from sklearn.model_selection import \\\n",
    "     (cross_validate,\n",
    "      KFold,\n",
    "      ShuffleSplit)\n",
    "from sklearn.base import clone\n",
    "from ISLP.models import sklearn_sm"
   ]
  },
  {
   "cell_type": "code",
   "execution_count": 2,
   "id": "cf2c30f4-852b-4370-beb5-71fe23129186",
   "metadata": {},
   "outputs": [],
   "source": [
    "import warnings\n",
    "warnings.filterwarnings('ignore')"
   ]
  },
  {
   "cell_type": "markdown",
   "id": "a6658e92-57c5-4a9b-aab5-6cfecab57823",
   "metadata": {},
   "source": [
    "In this part we follow the first part of the lab of Section 4 of our textbook to learn how to implement cross validation in Python (see [here](https://islp.readthedocs.io/en/latest/labs/Ch05-resample-lab.html) for the original version of the Lab)\n"
   ]
  },
  {
   "cell_type": "markdown",
   "id": "96850968-33fe-4daa-bf81-2f86895c55d3",
   "metadata": {},
   "source": [
    "## 1a) Validation set approach\n",
    "\n",
    "**Objective of part 1a)**: Use the validation set approach to evaluate the performance of a model predicting `mpg` in the `Auto` dataset based on predictor `horsepower`."
   ]
  },
  {
   "cell_type": "code",
   "execution_count": 3,
   "id": "4457e761-a423-4dee-8356-d10e3f4542cf",
   "metadata": {},
   "outputs": [],
   "source": [
    "# Run this cell to load the dataset\n",
    "Auto =  load_data('Auto')"
   ]
  },
  {
   "cell_type": "markdown",
   "id": "087e9761-f72a-4ce0-9723-080b5a3171f9",
   "metadata": {},
   "source": [
    "### Task 1.1: \n",
    "Split the dataset into a train and a test part. Your test set should have 196 samples."
   ]
  },
  {
   "cell_type": "code",
   "execution_count": 4,
   "id": "1d36d2ee-a8e5-4158-9ee5-733b9a51366b",
   "metadata": {},
   "outputs": [],
   "source": [
    "train, validation = train_test_split(Auto, test_size=196)"
   ]
  },
  {
   "cell_type": "code",
   "execution_count": 5,
   "id": "18cbaa86-66fd-4a23-be60-5443d89c1156",
   "metadata": {},
   "outputs": [
    {
     "data": {
      "text/html": [
       "<div>\n",
       "<style scoped>\n",
       "    .dataframe tbody tr th:only-of-type {\n",
       "        vertical-align: middle;\n",
       "    }\n",
       "\n",
       "    .dataframe tbody tr th {\n",
       "        vertical-align: top;\n",
       "    }\n",
       "\n",
       "    .dataframe thead th {\n",
       "        text-align: right;\n",
       "    }\n",
       "</style>\n",
       "<table border=\"1\" class=\"dataframe\">\n",
       "  <thead>\n",
       "    <tr style=\"text-align: right;\">\n",
       "      <th></th>\n",
       "      <th>mpg</th>\n",
       "      <th>cylinders</th>\n",
       "      <th>displacement</th>\n",
       "      <th>horsepower</th>\n",
       "      <th>weight</th>\n",
       "      <th>acceleration</th>\n",
       "      <th>year</th>\n",
       "      <th>origin</th>\n",
       "      <th>name</th>\n",
       "    </tr>\n",
       "  </thead>\n",
       "  <tbody>\n",
       "    <tr>\n",
       "      <th>140</th>\n",
       "      <td>26.0</td>\n",
       "      <td>4</td>\n",
       "      <td>79.0</td>\n",
       "      <td>67</td>\n",
       "      <td>1963</td>\n",
       "      <td>15.5</td>\n",
       "      <td>74</td>\n",
       "      <td>2</td>\n",
       "      <td>volkswagen dasher</td>\n",
       "    </tr>\n",
       "    <tr>\n",
       "      <th>155</th>\n",
       "      <td>15.0</td>\n",
       "      <td>8</td>\n",
       "      <td>350.0</td>\n",
       "      <td>145</td>\n",
       "      <td>4440</td>\n",
       "      <td>14.0</td>\n",
       "      <td>75</td>\n",
       "      <td>1</td>\n",
       "      <td>chevrolet bel air</td>\n",
       "    </tr>\n",
       "    <tr>\n",
       "      <th>157</th>\n",
       "      <td>14.0</td>\n",
       "      <td>8</td>\n",
       "      <td>351.0</td>\n",
       "      <td>148</td>\n",
       "      <td>4657</td>\n",
       "      <td>13.5</td>\n",
       "      <td>75</td>\n",
       "      <td>1</td>\n",
       "      <td>ford ltd</td>\n",
       "    </tr>\n",
       "    <tr>\n",
       "      <th>170</th>\n",
       "      <td>25.0</td>\n",
       "      <td>4</td>\n",
       "      <td>90.0</td>\n",
       "      <td>71</td>\n",
       "      <td>2223</td>\n",
       "      <td>16.5</td>\n",
       "      <td>75</td>\n",
       "      <td>2</td>\n",
       "      <td>volkswagen dasher</td>\n",
       "    </tr>\n",
       "    <tr>\n",
       "      <th>165</th>\n",
       "      <td>29.0</td>\n",
       "      <td>4</td>\n",
       "      <td>97.0</td>\n",
       "      <td>75</td>\n",
       "      <td>2171</td>\n",
       "      <td>16.0</td>\n",
       "      <td>75</td>\n",
       "      <td>3</td>\n",
       "      <td>toyota corolla</td>\n",
       "    </tr>\n",
       "    <tr>\n",
       "      <th>...</th>\n",
       "      <td>...</td>\n",
       "      <td>...</td>\n",
       "      <td>...</td>\n",
       "      <td>...</td>\n",
       "      <td>...</td>\n",
       "      <td>...</td>\n",
       "      <td>...</td>\n",
       "      <td>...</td>\n",
       "      <td>...</td>\n",
       "    </tr>\n",
       "    <tr>\n",
       "      <th>74</th>\n",
       "      <td>14.0</td>\n",
       "      <td>8</td>\n",
       "      <td>318.0</td>\n",
       "      <td>150</td>\n",
       "      <td>4077</td>\n",
       "      <td>14.0</td>\n",
       "      <td>72</td>\n",
       "      <td>1</td>\n",
       "      <td>plymouth satellite custom (sw)</td>\n",
       "    </tr>\n",
       "    <tr>\n",
       "      <th>253</th>\n",
       "      <td>25.1</td>\n",
       "      <td>4</td>\n",
       "      <td>140.0</td>\n",
       "      <td>88</td>\n",
       "      <td>2720</td>\n",
       "      <td>15.4</td>\n",
       "      <td>78</td>\n",
       "      <td>1</td>\n",
       "      <td>ford fairmont (man)</td>\n",
       "    </tr>\n",
       "    <tr>\n",
       "      <th>45</th>\n",
       "      <td>22.0</td>\n",
       "      <td>4</td>\n",
       "      <td>140.0</td>\n",
       "      <td>72</td>\n",
       "      <td>2408</td>\n",
       "      <td>19.0</td>\n",
       "      <td>71</td>\n",
       "      <td>1</td>\n",
       "      <td>chevrolet vega (sw)</td>\n",
       "    </tr>\n",
       "    <tr>\n",
       "      <th>209</th>\n",
       "      <td>16.5</td>\n",
       "      <td>6</td>\n",
       "      <td>168.0</td>\n",
       "      <td>120</td>\n",
       "      <td>3820</td>\n",
       "      <td>16.7</td>\n",
       "      <td>76</td>\n",
       "      <td>2</td>\n",
       "      <td>mercedes-benz 280s</td>\n",
       "    </tr>\n",
       "    <tr>\n",
       "      <th>33</th>\n",
       "      <td>16.0</td>\n",
       "      <td>6</td>\n",
       "      <td>225.0</td>\n",
       "      <td>105</td>\n",
       "      <td>3439</td>\n",
       "      <td>15.5</td>\n",
       "      <td>71</td>\n",
       "      <td>1</td>\n",
       "      <td>plymouth satellite custom</td>\n",
       "    </tr>\n",
       "  </tbody>\n",
       "</table>\n",
       "<p>196 rows × 9 columns</p>\n",
       "</div>"
      ],
      "text/plain": [
       "      mpg  cylinders  displacement  horsepower  weight  acceleration  year  \\\n",
       "140  26.0          4          79.0          67    1963          15.5    74   \n",
       "155  15.0          8         350.0         145    4440          14.0    75   \n",
       "157  14.0          8         351.0         148    4657          13.5    75   \n",
       "170  25.0          4          90.0          71    2223          16.5    75   \n",
       "165  29.0          4          97.0          75    2171          16.0    75   \n",
       "..    ...        ...           ...         ...     ...           ...   ...   \n",
       "74   14.0          8         318.0         150    4077          14.0    72   \n",
       "253  25.1          4         140.0          88    2720          15.4    78   \n",
       "45   22.0          4         140.0          72    2408          19.0    71   \n",
       "209  16.5          6         168.0         120    3820          16.7    76   \n",
       "33   16.0          6         225.0         105    3439          15.5    71   \n",
       "\n",
       "     origin                            name  \n",
       "140       2               volkswagen dasher  \n",
       "155       1               chevrolet bel air  \n",
       "157       1                        ford ltd  \n",
       "170       2               volkswagen dasher  \n",
       "165       3                  toyota corolla  \n",
       "..      ...                             ...  \n",
       "74        1  plymouth satellite custom (sw)  \n",
       "253       1             ford fairmont (man)  \n",
       "45        1             chevrolet vega (sw)  \n",
       "209       2              mercedes-benz 280s  \n",
       "33        1       plymouth satellite custom  \n",
       "\n",
       "[196 rows x 9 columns]"
      ]
     },
     "execution_count": 5,
     "metadata": {},
     "output_type": "execute_result"
    }
   ],
   "source": [
    "train"
   ]
  },
  {
   "cell_type": "code",
   "execution_count": 6,
   "id": "0cee215e-c079-458e-87ea-a3c2ec6eefd2",
   "metadata": {},
   "outputs": [
    {
     "data": {
      "text/html": [
       "<div>\n",
       "<style scoped>\n",
       "    .dataframe tbody tr th:only-of-type {\n",
       "        vertical-align: middle;\n",
       "    }\n",
       "\n",
       "    .dataframe tbody tr th {\n",
       "        vertical-align: top;\n",
       "    }\n",
       "\n",
       "    .dataframe thead th {\n",
       "        text-align: right;\n",
       "    }\n",
       "</style>\n",
       "<table border=\"1\" class=\"dataframe\">\n",
       "  <thead>\n",
       "    <tr style=\"text-align: right;\">\n",
       "      <th></th>\n",
       "      <th>mpg</th>\n",
       "      <th>cylinders</th>\n",
       "      <th>displacement</th>\n",
       "      <th>horsepower</th>\n",
       "      <th>weight</th>\n",
       "      <th>acceleration</th>\n",
       "      <th>year</th>\n",
       "      <th>origin</th>\n",
       "      <th>name</th>\n",
       "    </tr>\n",
       "  </thead>\n",
       "  <tbody>\n",
       "    <tr>\n",
       "      <th>150</th>\n",
       "      <td>19.0</td>\n",
       "      <td>6</td>\n",
       "      <td>225.0</td>\n",
       "      <td>95</td>\n",
       "      <td>3264</td>\n",
       "      <td>16.0</td>\n",
       "      <td>75</td>\n",
       "      <td>1</td>\n",
       "      <td>plymouth valiant custom</td>\n",
       "    </tr>\n",
       "    <tr>\n",
       "      <th>48</th>\n",
       "      <td>23.0</td>\n",
       "      <td>4</td>\n",
       "      <td>122.0</td>\n",
       "      <td>86</td>\n",
       "      <td>2220</td>\n",
       "      <td>14.0</td>\n",
       "      <td>71</td>\n",
       "      <td>1</td>\n",
       "      <td>mercury capri 2000</td>\n",
       "    </tr>\n",
       "    <tr>\n",
       "      <th>297</th>\n",
       "      <td>27.2</td>\n",
       "      <td>4</td>\n",
       "      <td>141.0</td>\n",
       "      <td>71</td>\n",
       "      <td>3190</td>\n",
       "      <td>24.8</td>\n",
       "      <td>79</td>\n",
       "      <td>2</td>\n",
       "      <td>peugeot 504</td>\n",
       "    </tr>\n",
       "    <tr>\n",
       "      <th>305</th>\n",
       "      <td>26.8</td>\n",
       "      <td>6</td>\n",
       "      <td>173.0</td>\n",
       "      <td>115</td>\n",
       "      <td>2700</td>\n",
       "      <td>12.9</td>\n",
       "      <td>79</td>\n",
       "      <td>1</td>\n",
       "      <td>oldsmobile omega brougham</td>\n",
       "    </tr>\n",
       "    <tr>\n",
       "      <th>321</th>\n",
       "      <td>27.9</td>\n",
       "      <td>4</td>\n",
       "      <td>156.0</td>\n",
       "      <td>105</td>\n",
       "      <td>2800</td>\n",
       "      <td>14.4</td>\n",
       "      <td>80</td>\n",
       "      <td>1</td>\n",
       "      <td>dodge colt</td>\n",
       "    </tr>\n",
       "    <tr>\n",
       "      <th>...</th>\n",
       "      <td>...</td>\n",
       "      <td>...</td>\n",
       "      <td>...</td>\n",
       "      <td>...</td>\n",
       "      <td>...</td>\n",
       "      <td>...</td>\n",
       "      <td>...</td>\n",
       "      <td>...</td>\n",
       "      <td>...</td>\n",
       "    </tr>\n",
       "    <tr>\n",
       "      <th>249</th>\n",
       "      <td>20.2</td>\n",
       "      <td>8</td>\n",
       "      <td>302.0</td>\n",
       "      <td>139</td>\n",
       "      <td>3570</td>\n",
       "      <td>12.8</td>\n",
       "      <td>78</td>\n",
       "      <td>1</td>\n",
       "      <td>mercury monarch ghia</td>\n",
       "    </tr>\n",
       "    <tr>\n",
       "      <th>354</th>\n",
       "      <td>28.1</td>\n",
       "      <td>4</td>\n",
       "      <td>141.0</td>\n",
       "      <td>80</td>\n",
       "      <td>3230</td>\n",
       "      <td>20.4</td>\n",
       "      <td>81</td>\n",
       "      <td>2</td>\n",
       "      <td>peugeot 505s turbo diesel</td>\n",
       "    </tr>\n",
       "    <tr>\n",
       "      <th>241</th>\n",
       "      <td>21.5</td>\n",
       "      <td>3</td>\n",
       "      <td>80.0</td>\n",
       "      <td>110</td>\n",
       "      <td>2720</td>\n",
       "      <td>13.5</td>\n",
       "      <td>77</td>\n",
       "      <td>3</td>\n",
       "      <td>mazda rx-4</td>\n",
       "    </tr>\n",
       "    <tr>\n",
       "      <th>266</th>\n",
       "      <td>27.2</td>\n",
       "      <td>4</td>\n",
       "      <td>119.0</td>\n",
       "      <td>97</td>\n",
       "      <td>2300</td>\n",
       "      <td>14.7</td>\n",
       "      <td>78</td>\n",
       "      <td>3</td>\n",
       "      <td>datsun 510</td>\n",
       "    </tr>\n",
       "    <tr>\n",
       "      <th>36</th>\n",
       "      <td>18.0</td>\n",
       "      <td>6</td>\n",
       "      <td>232.0</td>\n",
       "      <td>100</td>\n",
       "      <td>3288</td>\n",
       "      <td>15.5</td>\n",
       "      <td>71</td>\n",
       "      <td>1</td>\n",
       "      <td>amc matador</td>\n",
       "    </tr>\n",
       "  </tbody>\n",
       "</table>\n",
       "<p>196 rows × 9 columns</p>\n",
       "</div>"
      ],
      "text/plain": [
       "      mpg  cylinders  displacement  horsepower  weight  acceleration  year  \\\n",
       "150  19.0          6         225.0          95    3264          16.0    75   \n",
       "48   23.0          4         122.0          86    2220          14.0    71   \n",
       "297  27.2          4         141.0          71    3190          24.8    79   \n",
       "305  26.8          6         173.0         115    2700          12.9    79   \n",
       "321  27.9          4         156.0         105    2800          14.4    80   \n",
       "..    ...        ...           ...         ...     ...           ...   ...   \n",
       "249  20.2          8         302.0         139    3570          12.8    78   \n",
       "354  28.1          4         141.0          80    3230          20.4    81   \n",
       "241  21.5          3          80.0         110    2720          13.5    77   \n",
       "266  27.2          4         119.0          97    2300          14.7    78   \n",
       "36   18.0          6         232.0         100    3288          15.5    71   \n",
       "\n",
       "     origin                       name  \n",
       "150       1    plymouth valiant custom  \n",
       "48        1         mercury capri 2000  \n",
       "297       2                peugeot 504  \n",
       "305       1  oldsmobile omega brougham  \n",
       "321       1                 dodge colt  \n",
       "..      ...                        ...  \n",
       "249       1       mercury monarch ghia  \n",
       "354       2  peugeot 505s turbo diesel  \n",
       "241       3                 mazda rx-4  \n",
       "266       3                 datsun 510  \n",
       "36        1                amc matador  \n",
       "\n",
       "[196 rows x 9 columns]"
      ]
     },
     "execution_count": 6,
     "metadata": {},
     "output_type": "execute_result"
    }
   ],
   "source": [
    "validation"
   ]
  },
  {
   "cell_type": "markdown",
   "id": "23d2b39b-7599-439b-ac63-c2479a53528f",
   "metadata": {},
   "source": [
    "### Task 1.2:\n",
    "Train a simple linear regression model on the training set which predicts `mpg` based on the unique predictor `horsepower`. Make sure to use the training set to train your model."
   ]
  },
  {
   "cell_type": "code",
   "execution_count": 7,
   "id": "8b0b44d2-9f57-413f-99f2-6d15d510fce1",
   "metadata": {},
   "outputs": [
    {
     "data": {
      "text/html": [
       "<div>\n",
       "<style scoped>\n",
       "    .dataframe tbody tr th:only-of-type {\n",
       "        vertical-align: middle;\n",
       "    }\n",
       "\n",
       "    .dataframe tbody tr th {\n",
       "        vertical-align: top;\n",
       "    }\n",
       "\n",
       "    .dataframe thead th {\n",
       "        text-align: right;\n",
       "    }\n",
       "</style>\n",
       "<table border=\"1\" class=\"dataframe\">\n",
       "  <thead>\n",
       "    <tr style=\"text-align: right;\">\n",
       "      <th></th>\n",
       "      <th>intercept</th>\n",
       "      <th>horsepower</th>\n",
       "    </tr>\n",
       "  </thead>\n",
       "  <tbody>\n",
       "    <tr>\n",
       "      <th>140</th>\n",
       "      <td>1.0</td>\n",
       "      <td>67</td>\n",
       "    </tr>\n",
       "    <tr>\n",
       "      <th>155</th>\n",
       "      <td>1.0</td>\n",
       "      <td>145</td>\n",
       "    </tr>\n",
       "    <tr>\n",
       "      <th>157</th>\n",
       "      <td>1.0</td>\n",
       "      <td>148</td>\n",
       "    </tr>\n",
       "    <tr>\n",
       "      <th>170</th>\n",
       "      <td>1.0</td>\n",
       "      <td>71</td>\n",
       "    </tr>\n",
       "    <tr>\n",
       "      <th>165</th>\n",
       "      <td>1.0</td>\n",
       "      <td>75</td>\n",
       "    </tr>\n",
       "    <tr>\n",
       "      <th>...</th>\n",
       "      <td>...</td>\n",
       "      <td>...</td>\n",
       "    </tr>\n",
       "    <tr>\n",
       "      <th>74</th>\n",
       "      <td>1.0</td>\n",
       "      <td>150</td>\n",
       "    </tr>\n",
       "    <tr>\n",
       "      <th>253</th>\n",
       "      <td>1.0</td>\n",
       "      <td>88</td>\n",
       "    </tr>\n",
       "    <tr>\n",
       "      <th>45</th>\n",
       "      <td>1.0</td>\n",
       "      <td>72</td>\n",
       "    </tr>\n",
       "    <tr>\n",
       "      <th>209</th>\n",
       "      <td>1.0</td>\n",
       "      <td>120</td>\n",
       "    </tr>\n",
       "    <tr>\n",
       "      <th>33</th>\n",
       "      <td>1.0</td>\n",
       "      <td>105</td>\n",
       "    </tr>\n",
       "  </tbody>\n",
       "</table>\n",
       "<p>196 rows × 2 columns</p>\n",
       "</div>"
      ],
      "text/plain": [
       "     intercept  horsepower\n",
       "140        1.0          67\n",
       "155        1.0         145\n",
       "157        1.0         148\n",
       "170        1.0          71\n",
       "165        1.0          75\n",
       "..         ...         ...\n",
       "74         1.0         150\n",
       "253        1.0          88\n",
       "45         1.0          72\n",
       "209        1.0         120\n",
       "33         1.0         105\n",
       "\n",
       "[196 rows x 2 columns]"
      ]
     },
     "execution_count": 7,
     "metadata": {},
     "output_type": "execute_result"
    }
   ],
   "source": [
    "design = MS(['horsepower']).fit(train)\n",
    "X_train = design.transform(train)\n",
    "X_train"
   ]
  },
  {
   "cell_type": "code",
   "execution_count": 8,
   "id": "3c5a6ba3-72ee-4888-a78f-c562ea2a3d2d",
   "metadata": {},
   "outputs": [],
   "source": [
    "y_train = train.mpg"
   ]
  },
  {
   "cell_type": "code",
   "execution_count": 9,
   "id": "c2aa2bdf-bd80-4562-9ffa-2cd30759328c",
   "metadata": {},
   "outputs": [
    {
     "data": {
      "text/html": [
       "<div>\n",
       "<style scoped>\n",
       "    .dataframe tbody tr th:only-of-type {\n",
       "        vertical-align: middle;\n",
       "    }\n",
       "\n",
       "    .dataframe tbody tr th {\n",
       "        vertical-align: top;\n",
       "    }\n",
       "\n",
       "    .dataframe thead th {\n",
       "        text-align: right;\n",
       "    }\n",
       "</style>\n",
       "<table border=\"1\" class=\"dataframe\">\n",
       "  <thead>\n",
       "    <tr style=\"text-align: right;\">\n",
       "      <th></th>\n",
       "      <th>coef</th>\n",
       "      <th>std err</th>\n",
       "      <th>t</th>\n",
       "      <th>P&gt;|t|</th>\n",
       "    </tr>\n",
       "  </thead>\n",
       "  <tbody>\n",
       "    <tr>\n",
       "      <th>intercept</th>\n",
       "      <td>40.4628</td>\n",
       "      <td>0.984</td>\n",
       "      <td>41.116</td>\n",
       "      <td>0.0</td>\n",
       "    </tr>\n",
       "    <tr>\n",
       "      <th>horsepower</th>\n",
       "      <td>-0.1638</td>\n",
       "      <td>0.009</td>\n",
       "      <td>-18.569</td>\n",
       "      <td>0.0</td>\n",
       "    </tr>\n",
       "  </tbody>\n",
       "</table>\n",
       "</div>"
      ],
      "text/plain": [
       "               coef  std err       t  P>|t|\n",
       "intercept   40.4628    0.984  41.116    0.0\n",
       "horsepower  -0.1638    0.009 -18.569    0.0"
      ]
     },
     "execution_count": 9,
     "metadata": {},
     "output_type": "execute_result"
    }
   ],
   "source": [
    "model = sm.OLS(y_train,X_train)\n",
    "results = model.fit()\n",
    "summarize(results)"
   ]
  },
  {
   "cell_type": "markdown",
   "id": "dafa26e0-358f-45b7-8369-f8bde3e86490",
   "metadata": {},
   "source": [
    "### Task 1.3: \n",
    "Now use the validation set to compute an estimate for the model's MSE (mean squared error)."
   ]
  },
  {
   "cell_type": "code",
   "execution_count": 10,
   "id": "46c5f8e8-3d24-474a-ad60-2745370bc90f",
   "metadata": {},
   "outputs": [
    {
     "data": {
      "text/plain": [
       "26.436508927275323"
      ]
     },
     "execution_count": 10,
     "metadata": {},
     "output_type": "execute_result"
    }
   ],
   "source": [
    "y_valid_actual = validation.mpg\n",
    "X_validation = design.transform(validation)\n",
    "y_valid_predicted = results.predict(X_validation)\n",
    "MSE = np.mean((y_valid_actual - y_valid_predicted)**2)\n",
    "MSE"
   ]
  },
  {
   "cell_type": "markdown",
   "id": "e314e11d-62cb-4628-9732-84bec212d1ef",
   "metadata": {},
   "source": [
    "### Task 1.4:\n",
    "Below you find a preimplemented function `evalMSE()`. Explain what this function does (what are the arguments, what is the output)?"
   ]
  },
  {
   "cell_type": "code",
   "execution_count": 11,
   "id": "a30a5c7f-e682-4878-a276-9ecd4d89c89e",
   "metadata": {},
   "outputs": [],
   "source": [
    "def evalMSE(predictors,\n",
    "           train,\n",
    "           validation):\n",
    "    # build design matrix and response vector\n",
    "    design = MS(predictors).fit(train)\n",
    "    X_train = design.transform(train)\n",
    "    y_train = train.mpg \n",
    "\n",
    "    # train model\n",
    "    model = sm.OLS(y_train,X_train)\n",
    "    results = model.fit()\n",
    "\n",
    "    # compute MSE on the validation set\n",
    "    y_valid_actual = validation.mpg\n",
    "    X_validation = design.transform(validation)\n",
    "    y_valid_predicted = results.predict(X_validation)\n",
    "    MSE = np.mean((y_valid_actual - y_valid_predicted)**2)\n",
    "    return MSE"
   ]
  },
  {
   "cell_type": "code",
   "execution_count": 12,
   "id": "97e191ba-e982-49d9-8ab6-08049617d9d4",
   "metadata": {},
   "outputs": [
    {
     "data": {
      "text/plain": [
       "26.436508927275323"
      ]
     },
     "execution_count": 12,
     "metadata": {},
     "output_type": "execute_result"
    }
   ],
   "source": [
    "evalMSE(['horsepower'], train, validation)"
   ]
  },
  {
   "cell_type": "markdown",
   "id": "1a5a5417-6aa1-4e53-8236-6f3e892a5578",
   "metadata": {},
   "source": [
    "*Solution*: The function takes a set of predictors, a dataframe of training data and a dataframe of validation data as inputs. Based on these it trains a linear regression model on the training data using the predictors provided as arguments. It then computes the test MSE on the provided validation set. This test MSE is then returned as output."
   ]
  },
  {
   "cell_type": "markdown",
   "id": "82c61267-f21a-4fd4-9a65-5eeb6f23e66c",
   "metadata": {},
   "source": [
    "### Task 1.5:"
   ]
  },
  {
   "cell_type": "markdown",
   "id": "ae4f91f4-2687-4f2f-a70c-fc3ff9244364",
   "metadata": {},
   "source": [
    "Use the function `evalMSE()` to estimate the MSE on the validation set for linear regression models including successively higher polynomial terms of `horsepower` ranging from degree 1 to degree 3."
   ]
  },
  {
   "cell_type": "code",
   "execution_count": 13,
   "id": "62b00966-81a0-42e0-9fb4-fffc45eae41b",
   "metadata": {},
   "outputs": [],
   "source": [
    "from ISLP.models import poly\n",
    "MSE = []\n",
    "for i in range(1,4):\n",
    "    predictors = [poly('horsepower', i)] # choose powers of horsepower as predictors up to degree i+1\n",
    "    err = evalMSE(predictors, train, validation)\n",
    "    MSE.append(err)"
   ]
  },
  {
   "cell_type": "code",
   "execution_count": 14,
   "id": "aa354b40-ee8e-4c0b-ae27-7e9002fd3644",
   "metadata": {},
   "outputs": [
    {
     "data": {
      "text/plain": [
       "[26.43650892727533, 22.271553558500365, 22.67600764499559]"
      ]
     },
     "execution_count": 14,
     "metadata": {},
     "output_type": "execute_result"
    }
   ],
   "source": [
    "MSE"
   ]
  },
  {
   "cell_type": "markdown",
   "id": "93e4fc03-91ec-4082-a410-10be246d127a",
   "metadata": {},
   "source": [
    "## 1b) Cross validation"
   ]
  },
  {
   "cell_type": "markdown",
   "id": "6c2bc1aa-9654-41b3-a459-69777ab0f732",
   "metadata": {},
   "source": [
    "Cross validation is implemented most comfortably in `scikit-learn`. In order to use the `scikit-learn` implementation of cross validation with our `statsmodels` linear model, we use the wrapper `sklearn_sm` provided by the `ISLP` library. From the lab in Chapter 5:\n",
    "\n",
    "\"The class `sklearn_sm()` has as its first argument a model from `statsmodels`. It can take two additional optional arguments: `model_str` which can be used to specify a formula, and `model_args` which should be a dictionary of additional arguments used when fitting the model. For example, to fit a logistic regression model we have to specify a family argument. This is passed as `model_args={'family':sm.families.Binomial()}`.\"\n",
    "\n",
    "After specifying our design matrix `X` and the vector `y` we call the `scikit-learn` function `cross_validate` (see [documentation](https://scikit-learn.org/stable/modules/generated/sklearn.model_selection.cross_validate.html)).\n",
    "\n",
    "The result is a dictionary which among others contains the `test_score` which we are interested when we use cross validation to estimate the test error."
   ]
  },
  {
   "cell_type": "markdown",
   "id": "094c8355-3688-4337-85c5-fc83214929a7",
   "metadata": {},
   "source": [
    "### Task 1.6:\n",
    "Run the following cell to initialize an `sklearn_sm` object with a `statsmodels.OLS` model and a `ModelSpec` object with specified predictor `horsepower`, with dataset `X` with removed `mpg` column und with response vector `y`."
   ]
  },
  {
   "cell_type": "code",
   "execution_count": 15,
   "id": "5041bb1a-9938-4979-a691-15c445c3e10c",
   "metadata": {},
   "outputs": [],
   "source": [
    "model = sklearn_sm(sm.OLS,\n",
    "                  MS(['horsepower']))\n",
    "X = Auto.drop(columns = ['mpg'])\n",
    "y = Auto['mpg']"
   ]
  },
  {
   "cell_type": "markdown",
   "id": "dda468f9-0b66-4be7-b77f-7df234e958ae",
   "metadata": {},
   "source": [
    "The function `cross_validate` is the original `scikit-learn` function which carries out cross validation. We provide the following arguments:\n",
    "- a model which needs `fit()` and `predict()` methods\n",
    "- a design matrix `X` and a vector of training labels `y`\n",
    "- the parameter `cv` specifying the number of folds for cross validation.\n",
    "\n",
    "See the [official documentation](https://scikit-learn.org/stable/modules/generated/sklearn.model_selection.cross_validate.html) for more details."
   ]
  },
  {
   "cell_type": "markdown",
   "id": "a1422be8-ca48-47e8-907a-3479d8211665",
   "metadata": {},
   "source": [
    "### Task 1.7:\n",
    "Run a Leave-one-out-cross-validation for a simple linear regression model predicting `mpg` based on `horsepower`. To do so, choose as many folds as your dataset has samples using the parameter `cv`."
   ]
  },
  {
   "cell_type": "code",
   "execution_count": 16,
   "id": "7fd5f297-f0d1-464e-8725-06a8f124cf09",
   "metadata": {},
   "outputs": [],
   "source": [
    "cv_results = cross_validate(model,\n",
    "                           X,\n",
    "                           y,\n",
    "                           cv = Auto.shape[0])"
   ]
  },
  {
   "cell_type": "code",
   "execution_count": 17,
   "id": "ca322d25-319b-4fd0-a6a4-334f853d7504",
   "metadata": {},
   "outputs": [
    {
     "data": {
      "text/plain": [
       "24.23151351792922"
      ]
     },
     "execution_count": 17,
     "metadata": {},
     "output_type": "execute_result"
    }
   ],
   "source": [
    "cv_err = np.mean(cv_results['test_score'])\n",
    "cv_err"
   ]
  },
  {
   "cell_type": "markdown",
   "id": "bcf47539-a394-47a2-aac3-aae2a7b5f766",
   "metadata": {},
   "source": [
    "### Task 1.8:"
   ]
  },
  {
   "cell_type": "markdown",
   "id": "6bfa31f5-b248-486a-a787-4237be3eadbe",
   "metadata": {},
   "source": [
    "We can repeat this procedure to compare different models. In the following we do this with various polynomial fits.\n",
    "\n",
    "Compute the LOOCV error for models to predict `mpg` based on polynomial powers of `mpg` for degrees 1 to 5."
   ]
  },
  {
   "cell_type": "code",
   "execution_count": 18,
   "id": "0f618abc-ec1d-4ead-907d-1c1bc58326b9",
   "metadata": {},
   "outputs": [
    {
     "data": {
      "text/plain": [
       "array([24.23151352, 19.24821312, 19.33498406, 19.42443031, 19.03321385])"
      ]
     },
     "execution_count": 18,
     "metadata": {},
     "output_type": "execute_result"
    }
   ],
   "source": [
    "cv_error = np.zeros(5) #initialize empty vector for CV errors of 5 models\n",
    "M = sklearn_sm(sm.OLS)\n",
    "y = Auto['mpg']\n",
    "\n",
    "# loop over 5 different polynomial models\n",
    "for i in range(1,6):\n",
    "    # choose power of horsepowers as predictors up to degree i+1\n",
    "    predictors = [poly('horsepower', i)]\n",
    "    X = MS(predictors).fit_transform(Auto)\n",
    "    #perform cross validation for polynomial model of degree i+i\n",
    "    cv_results = cross_validate(M,\n",
    "                               X,\n",
    "                               y,\n",
    "                               cv = Auto.shape[0])\n",
    "    # save cross validation error into result vector\n",
    "    cv_error[i-1] = np.mean(cv_results['test_score'])\n",
    "cv_error"
   ]
  },
  {
   "cell_type": "markdown",
   "id": "62a05819-9a75-4f48-ac7b-4fc629b2e076",
   "metadata": {},
   "source": [
    "### Task 1.9:"
   ]
  },
  {
   "cell_type": "markdown",
   "id": "41d9e78a-7e5a-438c-a279-8c95266cb9db",
   "metadata": {},
   "source": [
    "Instead of using $K = n$ folds such as above (resulting in Leave-One-Out-Cross-Validation (LOOCV)) we can also specify a smaller integer $K$ of folds. There are two possibilities for this:\n",
    "- set `cv = K`,\n",
    "- specify a cross validation generator such as `KFold` (see [documentation](https://scikit-learn.org/stable/modules/generated/sklearn.model_selection.KFold.html))\n",
    "\n",
    "It is recommended to use the second approach, which is generally preferred as we do better control the kind of split when using `KFold`."
   ]
  },
  {
   "cell_type": "markdown",
   "id": "464b0f54-a969-4661-85cd-fc8092d3bdda",
   "metadata": {},
   "source": [
    "Compute the cross validation error for models to predict `mpg` based on polynomial powers of `mpg` for degrees 1 to 5. Use 10 folds."
   ]
  },
  {
   "cell_type": "code",
   "execution_count": 19,
   "id": "492bb369-e65b-41a5-b3d6-454403f44e3b",
   "metadata": {},
   "outputs": [
    {
     "data": {
      "text/plain": [
       "array([24.1998082 , 19.22863661, 19.26626535, 19.35109227, 19.02323325])"
      ]
     },
     "execution_count": 19,
     "metadata": {},
     "output_type": "execute_result"
    }
   ],
   "source": [
    "cv_error = np.zeros(5)\n",
    "\n",
    "cross_val = KFold(n_splits = 10,\n",
    "                 shuffle = True,\n",
    "                 random_state = 42)\n",
    "\n",
    "M = sklearn_sm(sm.OLS)\n",
    "y = Auto['mpg']\n",
    "\n",
    "# loop over 5 different polynomial models\n",
    "for i in range(5):\n",
    "    # choose power of horsepowers as predictors up to degree i+1\n",
    "    predictors = [poly('horsepower', i+1)]\n",
    "    X = MS(predictors).fit_transform(Auto)\n",
    "    #perform cross validation for polynomial model of degree i+i\n",
    "    cv_results = cross_validate(M,\n",
    "                               X,\n",
    "                               y,\n",
    "                               cv = cross_val)\n",
    "    # save cross validation error into result vector\n",
    "    cv_error[i] = np.mean(cv_results['test_score'])\n",
    "cv_error"
   ]
  },
  {
   "cell_type": "markdown",
   "id": "1eab36e5-c629-4ae3-8783-89823f392af7",
   "metadata": {},
   "source": [
    "# Part 2: Case study cross validation (no solutions beyond this point as we did not get further in lecture)\n",
    "\n",
    "(see Exercise 5.4.5)\n",
    "\n",
    "In this case study we use the credit card dataset to predict the probability of default. We will build a logistic regression model and estimate its test error using the validation set approach and the cross-validation approach."
   ]
  },
  {
   "cell_type": "code",
   "execution_count": 20,
   "id": "b8ed8e43-d25a-4a02-988f-49ce67770870",
   "metadata": {},
   "outputs": [
    {
     "data": {
      "text/html": [
       "<div>\n",
       "<style scoped>\n",
       "    .dataframe tbody tr th:only-of-type {\n",
       "        vertical-align: middle;\n",
       "    }\n",
       "\n",
       "    .dataframe tbody tr th {\n",
       "        vertical-align: top;\n",
       "    }\n",
       "\n",
       "    .dataframe thead th {\n",
       "        text-align: right;\n",
       "    }\n",
       "</style>\n",
       "<table border=\"1\" class=\"dataframe\">\n",
       "  <thead>\n",
       "    <tr style=\"text-align: right;\">\n",
       "      <th></th>\n",
       "      <th>default</th>\n",
       "      <th>student</th>\n",
       "      <th>balance</th>\n",
       "      <th>income</th>\n",
       "    </tr>\n",
       "  </thead>\n",
       "  <tbody>\n",
       "    <tr>\n",
       "      <th>0</th>\n",
       "      <td>No</td>\n",
       "      <td>No</td>\n",
       "      <td>729.526495</td>\n",
       "      <td>44361.625074</td>\n",
       "    </tr>\n",
       "    <tr>\n",
       "      <th>1</th>\n",
       "      <td>No</td>\n",
       "      <td>Yes</td>\n",
       "      <td>817.180407</td>\n",
       "      <td>12106.134700</td>\n",
       "    </tr>\n",
       "    <tr>\n",
       "      <th>2</th>\n",
       "      <td>No</td>\n",
       "      <td>No</td>\n",
       "      <td>1073.549164</td>\n",
       "      <td>31767.138947</td>\n",
       "    </tr>\n",
       "    <tr>\n",
       "      <th>3</th>\n",
       "      <td>No</td>\n",
       "      <td>No</td>\n",
       "      <td>529.250605</td>\n",
       "      <td>35704.493935</td>\n",
       "    </tr>\n",
       "    <tr>\n",
       "      <th>4</th>\n",
       "      <td>No</td>\n",
       "      <td>No</td>\n",
       "      <td>785.655883</td>\n",
       "      <td>38463.495879</td>\n",
       "    </tr>\n",
       "    <tr>\n",
       "      <th>...</th>\n",
       "      <td>...</td>\n",
       "      <td>...</td>\n",
       "      <td>...</td>\n",
       "      <td>...</td>\n",
       "    </tr>\n",
       "    <tr>\n",
       "      <th>9995</th>\n",
       "      <td>No</td>\n",
       "      <td>No</td>\n",
       "      <td>711.555020</td>\n",
       "      <td>52992.378914</td>\n",
       "    </tr>\n",
       "    <tr>\n",
       "      <th>9996</th>\n",
       "      <td>No</td>\n",
       "      <td>No</td>\n",
       "      <td>757.962918</td>\n",
       "      <td>19660.721768</td>\n",
       "    </tr>\n",
       "    <tr>\n",
       "      <th>9997</th>\n",
       "      <td>No</td>\n",
       "      <td>No</td>\n",
       "      <td>845.411989</td>\n",
       "      <td>58636.156984</td>\n",
       "    </tr>\n",
       "    <tr>\n",
       "      <th>9998</th>\n",
       "      <td>No</td>\n",
       "      <td>No</td>\n",
       "      <td>1569.009053</td>\n",
       "      <td>36669.112365</td>\n",
       "    </tr>\n",
       "    <tr>\n",
       "      <th>9999</th>\n",
       "      <td>No</td>\n",
       "      <td>Yes</td>\n",
       "      <td>200.922183</td>\n",
       "      <td>16862.952321</td>\n",
       "    </tr>\n",
       "  </tbody>\n",
       "</table>\n",
       "<p>10000 rows × 4 columns</p>\n",
       "</div>"
      ],
      "text/plain": [
       "     default student      balance        income\n",
       "0         No      No   729.526495  44361.625074\n",
       "1         No     Yes   817.180407  12106.134700\n",
       "2         No      No  1073.549164  31767.138947\n",
       "3         No      No   529.250605  35704.493935\n",
       "4         No      No   785.655883  38463.495879\n",
       "...      ...     ...          ...           ...\n",
       "9995      No      No   711.555020  52992.378914\n",
       "9996      No      No   757.962918  19660.721768\n",
       "9997      No      No   845.411989  58636.156984\n",
       "9998      No      No  1569.009053  36669.112365\n",
       "9999      No     Yes   200.922183  16862.952321\n",
       "\n",
       "[10000 rows x 4 columns]"
      ]
     },
     "execution_count": 20,
     "metadata": {},
     "output_type": "execute_result"
    }
   ],
   "source": [
    "# run this cell to load the data\n",
    "Default = load_data('Default')\n",
    "Default"
   ]
  },
  {
   "cell_type": "markdown",
   "id": "7f9c6317-cf99-49d9-ae60-753f09eb793a",
   "metadata": {},
   "source": [
    "Background information on the dataset can be found [in the documentation](https://islp.readthedocs.io/en/latest/datasets/Default.html)."
   ]
  },
  {
   "cell_type": "markdown",
   "id": "f7a75412-c7de-491e-b9be-d0ec886617b0",
   "metadata": {},
   "source": [
    "## Task 2.1\n",
    "Fit a logistic regression model that uses `income` and `balance` to predict `default`."
   ]
  },
  {
   "cell_type": "code",
   "execution_count": 21,
   "id": "727109ed-48b7-4c9e-bc44-8c36b14a3c81",
   "metadata": {},
   "outputs": [
    {
     "name": "stdout",
     "output_type": "stream",
     "text": [
      "Optimization terminated successfully.\n",
      "         Current function value: 0.078948\n",
      "         Iterations 10\n"
     ]
    },
    {
     "data": {
      "text/html": [
       "<table class=\"simpletable\">\n",
       "<caption>Logit Regression Results</caption>\n",
       "<tr>\n",
       "  <th>Dep. Variable:</th>        <td>default</td>     <th>  No. Observations:  </th>   <td> 10000</td>  \n",
       "</tr>\n",
       "<tr>\n",
       "  <th>Model:</th>                 <td>Logit</td>      <th>  Df Residuals:      </th>   <td>  9997</td>  \n",
       "</tr>\n",
       "<tr>\n",
       "  <th>Method:</th>                 <td>MLE</td>       <th>  Df Model:          </th>   <td>     2</td>  \n",
       "</tr>\n",
       "<tr>\n",
       "  <th>Date:</th>            <td>Thu, 15 May 2025</td> <th>  Pseudo R-squ.:     </th>   <td>0.4594</td>  \n",
       "</tr>\n",
       "<tr>\n",
       "  <th>Time:</th>                <td>12:31:34</td>     <th>  Log-Likelihood:    </th>  <td> -789.48</td> \n",
       "</tr>\n",
       "<tr>\n",
       "  <th>converged:</th>             <td>True</td>       <th>  LL-Null:           </th>  <td> -1460.3</td> \n",
       "</tr>\n",
       "<tr>\n",
       "  <th>Covariance Type:</th>     <td>nonrobust</td>    <th>  LLR p-value:       </th> <td>4.541e-292</td>\n",
       "</tr>\n",
       "</table>\n",
       "<table class=\"simpletable\">\n",
       "<tr>\n",
       "      <td></td>         <th>coef</th>     <th>std err</th>      <th>z</th>      <th>P>|z|</th>  <th>[0.025</th>    <th>0.975]</th>  \n",
       "</tr>\n",
       "<tr>\n",
       "  <th>intercept</th> <td>  -11.5405</td> <td>    0.435</td> <td>  -26.544</td> <td> 0.000</td> <td>  -12.393</td> <td>  -10.688</td>\n",
       "</tr>\n",
       "<tr>\n",
       "  <th>balance</th>   <td>    0.0056</td> <td>    0.000</td> <td>   24.835</td> <td> 0.000</td> <td>    0.005</td> <td>    0.006</td>\n",
       "</tr>\n",
       "<tr>\n",
       "  <th>income</th>    <td> 2.081e-05</td> <td> 4.99e-06</td> <td>    4.174</td> <td> 0.000</td> <td>  1.1e-05</td> <td> 3.06e-05</td>\n",
       "</tr>\n",
       "</table><br/><br/>Possibly complete quasi-separation: A fraction 0.14 of observations can be<br/>perfectly predicted. This might indicate that there is complete<br/>quasi-separation. In this case some parameters will not be identified."
      ],
      "text/latex": [
       "\\begin{center}\n",
       "\\begin{tabular}{lclc}\n",
       "\\toprule\n",
       "\\textbf{Dep. Variable:}   &     default      & \\textbf{  No. Observations:  } &    10000    \\\\\n",
       "\\textbf{Model:}           &      Logit       & \\textbf{  Df Residuals:      } &     9997    \\\\\n",
       "\\textbf{Method:}          &       MLE        & \\textbf{  Df Model:          } &        2    \\\\\n",
       "\\textbf{Date:}            & Thu, 15 May 2025 & \\textbf{  Pseudo R-squ.:     } &   0.4594    \\\\\n",
       "\\textbf{Time:}            &     12:31:34     & \\textbf{  Log-Likelihood:    } &   -789.48   \\\\\n",
       "\\textbf{converged:}       &       True       & \\textbf{  LL-Null:           } &   -1460.3   \\\\\n",
       "\\textbf{Covariance Type:} &    nonrobust     & \\textbf{  LLR p-value:       } & 4.541e-292  \\\\\n",
       "\\bottomrule\n",
       "\\end{tabular}\n",
       "\\begin{tabular}{lcccccc}\n",
       "                   & \\textbf{coef} & \\textbf{std err} & \\textbf{z} & \\textbf{P$> |$z$|$} & \\textbf{[0.025} & \\textbf{0.975]}  \\\\\n",
       "\\midrule\n",
       "\\textbf{intercept} &     -11.5405  &        0.435     &   -26.544  &         0.000        &      -12.393    &      -10.688     \\\\\n",
       "\\textbf{balance}   &       0.0056  &        0.000     &    24.835  &         0.000        &        0.005    &        0.006     \\\\\n",
       "\\textbf{income}    &    2.081e-05  &     4.99e-06     &     4.174  &         0.000        &      1.1e-05    &     3.06e-05     \\\\\n",
       "\\bottomrule\n",
       "\\end{tabular}\n",
       "%\\caption{Logit Regression Results}\n",
       "\\end{center}\n",
       "\n",
       "Possibly complete quasi-separation: A fraction 0.14 of observations can be \\newline\n",
       " perfectly predicted. This might indicate that there is complete \\newline\n",
       " quasi-separation. In this case some parameters will not be identified."
      ],
      "text/plain": [
       "<class 'statsmodels.iolib.summary.Summary'>\n",
       "\"\"\"\n",
       "                           Logit Regression Results                           \n",
       "==============================================================================\n",
       "Dep. Variable:                default   No. Observations:                10000\n",
       "Model:                          Logit   Df Residuals:                     9997\n",
       "Method:                           MLE   Df Model:                            2\n",
       "Date:                Thu, 15 May 2025   Pseudo R-squ.:                  0.4594\n",
       "Time:                        12:31:34   Log-Likelihood:                -789.48\n",
       "converged:                       True   LL-Null:                       -1460.3\n",
       "Covariance Type:            nonrobust   LLR p-value:                4.541e-292\n",
       "==============================================================================\n",
       "                 coef    std err          z      P>|z|      [0.025      0.975]\n",
       "------------------------------------------------------------------------------\n",
       "intercept    -11.5405      0.435    -26.544      0.000     -12.393     -10.688\n",
       "balance        0.0056      0.000     24.835      0.000       0.005       0.006\n",
       "income      2.081e-05   4.99e-06      4.174      0.000     1.1e-05    3.06e-05\n",
       "==============================================================================\n",
       "\n",
       "Possibly complete quasi-separation: A fraction 0.14 of observations can be\n",
       "perfectly predicted. This might indicate that there is complete\n",
       "quasi-separation. In this case some parameters will not be identified.\n",
       "\"\"\""
      ]
     },
     "execution_count": 21,
     "metadata": {},
     "output_type": "execute_result"
    }
   ],
   "source": [
    "predictors = Default.columns.drop(['default','student'])\n",
    "design = MS(predictors).fit(Default)\n",
    "X = design.transform(Default)\n",
    "y = Default.default.map(\n",
    "    {'No': 0,\n",
    "    'Yes': 1}\n",
    ")\n",
    "\n",
    "model = sm.Logit(y,X)\n",
    "results = model.fit()\n",
    "results.summary()"
   ]
  },
  {
   "cell_type": "markdown",
   "id": "f5cc651b-8665-48f2-a7d1-bfadb49d1c94",
   "metadata": {},
   "source": [
    "## Task 2.2\n",
    "Using the validation set approach, estimate the test error of this model. In order to do this, you must perform the following steps:\n",
    "\n",
    "i. Split the sample set into a training set and a validation set.\n",
    "\n",
    "ii. Fit a multiple logistic regression model using only the training observations.\n",
    "\n",
    "iii. Obtain a prediction of default status for each individual in the validation set by computing the posterior probability of default for that individual, and classifying the individual to the default category if the posterior probability is greater than 0.5.\n",
    "\n",
    "iv. Compute the validation set error, which is the fraction of the observations in the validation set that are misclassified."
   ]
  },
  {
   "cell_type": "code",
   "execution_count": 22,
   "id": "b98a4cf7-6068-4c36-a14b-449001af21a1",
   "metadata": {},
   "outputs": [],
   "source": [
    "# i. splitting into validation and test set\n",
    "train, val = train_test_split(\n",
    "    Default,\n",
    "    test_size=0.3,\n",
    "    random_state = 42\n",
    ")"
   ]
  },
  {
   "cell_type": "code",
   "execution_count": 23,
   "id": "079f09a9-55de-493c-bdb7-2230c3db374c",
   "metadata": {},
   "outputs": [
    {
     "name": "stdout",
     "output_type": "stream",
     "text": [
      "Optimization terminated successfully.\n",
      "         Current function value: 0.078256\n",
      "         Iterations 10\n"
     ]
    },
    {
     "data": {
      "text/html": [
       "<table class=\"simpletable\">\n",
       "<caption>Logit Regression Results</caption>\n",
       "<tr>\n",
       "  <th>Dep. Variable:</th>        <td>default</td>     <th>  No. Observations:  </th>   <td>  7000</td>  \n",
       "</tr>\n",
       "<tr>\n",
       "  <th>Model:</th>                 <td>Logit</td>      <th>  Df Residuals:      </th>   <td>  6997</td>  \n",
       "</tr>\n",
       "<tr>\n",
       "  <th>Method:</th>                 <td>MLE</td>       <th>  Df Model:          </th>   <td>     2</td>  \n",
       "</tr>\n",
       "<tr>\n",
       "  <th>Date:</th>            <td>Thu, 15 May 2025</td> <th>  Pseudo R-squ.:     </th>   <td>0.4743</td>  \n",
       "</tr>\n",
       "<tr>\n",
       "  <th>Time:</th>                <td>12:31:34</td>     <th>  Log-Likelihood:    </th>  <td> -547.79</td> \n",
       "</tr>\n",
       "<tr>\n",
       "  <th>converged:</th>             <td>True</td>       <th>  LL-Null:           </th>  <td> -1042.0</td> \n",
       "</tr>\n",
       "<tr>\n",
       "  <th>Covariance Type:</th>     <td>nonrobust</td>    <th>  LLR p-value:       </th> <td>2.273e-215</td>\n",
       "</tr>\n",
       "</table>\n",
       "<table class=\"simpletable\">\n",
       "<tr>\n",
       "      <td></td>         <th>coef</th>     <th>std err</th>      <th>z</th>      <th>P>|z|</th>  <th>[0.025</th>    <th>0.975]</th>  \n",
       "</tr>\n",
       "<tr>\n",
       "  <th>intercept</th> <td>  -11.6019</td> <td>    0.522</td> <td>  -22.236</td> <td> 0.000</td> <td>  -12.624</td> <td>  -10.579</td>\n",
       "</tr>\n",
       "<tr>\n",
       "  <th>balance</th>   <td>    0.0057</td> <td>    0.000</td> <td>   20.976</td> <td> 0.000</td> <td>    0.005</td> <td>    0.006</td>\n",
       "</tr>\n",
       "<tr>\n",
       "  <th>income</th>    <td> 1.872e-05</td> <td> 5.92e-06</td> <td>    3.163</td> <td> 0.002</td> <td> 7.12e-06</td> <td> 3.03e-05</td>\n",
       "</tr>\n",
       "</table><br/><br/>Possibly complete quasi-separation: A fraction 0.15 of observations can be<br/>perfectly predicted. This might indicate that there is complete<br/>quasi-separation. In this case some parameters will not be identified."
      ],
      "text/latex": [
       "\\begin{center}\n",
       "\\begin{tabular}{lclc}\n",
       "\\toprule\n",
       "\\textbf{Dep. Variable:}   &     default      & \\textbf{  No. Observations:  } &     7000    \\\\\n",
       "\\textbf{Model:}           &      Logit       & \\textbf{  Df Residuals:      } &     6997    \\\\\n",
       "\\textbf{Method:}          &       MLE        & \\textbf{  Df Model:          } &        2    \\\\\n",
       "\\textbf{Date:}            & Thu, 15 May 2025 & \\textbf{  Pseudo R-squ.:     } &   0.4743    \\\\\n",
       "\\textbf{Time:}            &     12:31:34     & \\textbf{  Log-Likelihood:    } &   -547.79   \\\\\n",
       "\\textbf{converged:}       &       True       & \\textbf{  LL-Null:           } &   -1042.0   \\\\\n",
       "\\textbf{Covariance Type:} &    nonrobust     & \\textbf{  LLR p-value:       } & 2.273e-215  \\\\\n",
       "\\bottomrule\n",
       "\\end{tabular}\n",
       "\\begin{tabular}{lcccccc}\n",
       "                   & \\textbf{coef} & \\textbf{std err} & \\textbf{z} & \\textbf{P$> |$z$|$} & \\textbf{[0.025} & \\textbf{0.975]}  \\\\\n",
       "\\midrule\n",
       "\\textbf{intercept} &     -11.6019  &        0.522     &   -22.236  &         0.000        &      -12.624    &      -10.579     \\\\\n",
       "\\textbf{balance}   &       0.0057  &        0.000     &    20.976  &         0.000        &        0.005    &        0.006     \\\\\n",
       "\\textbf{income}    &    1.872e-05  &     5.92e-06     &     3.163  &         0.002        &     7.12e-06    &     3.03e-05     \\\\\n",
       "\\bottomrule\n",
       "\\end{tabular}\n",
       "%\\caption{Logit Regression Results}\n",
       "\\end{center}\n",
       "\n",
       "Possibly complete quasi-separation: A fraction 0.15 of observations can be \\newline\n",
       " perfectly predicted. This might indicate that there is complete \\newline\n",
       " quasi-separation. In this case some parameters will not be identified."
      ],
      "text/plain": [
       "<class 'statsmodels.iolib.summary.Summary'>\n",
       "\"\"\"\n",
       "                           Logit Regression Results                           \n",
       "==============================================================================\n",
       "Dep. Variable:                default   No. Observations:                 7000\n",
       "Model:                          Logit   Df Residuals:                     6997\n",
       "Method:                           MLE   Df Model:                            2\n",
       "Date:                Thu, 15 May 2025   Pseudo R-squ.:                  0.4743\n",
       "Time:                        12:31:34   Log-Likelihood:                -547.79\n",
       "converged:                       True   LL-Null:                       -1042.0\n",
       "Covariance Type:            nonrobust   LLR p-value:                2.273e-215\n",
       "==============================================================================\n",
       "                 coef    std err          z      P>|z|      [0.025      0.975]\n",
       "------------------------------------------------------------------------------\n",
       "intercept    -11.6019      0.522    -22.236      0.000     -12.624     -10.579\n",
       "balance        0.0057      0.000     20.976      0.000       0.005       0.006\n",
       "income      1.872e-05   5.92e-06      3.163      0.002    7.12e-06    3.03e-05\n",
       "==============================================================================\n",
       "\n",
       "Possibly complete quasi-separation: A fraction 0.15 of observations can be\n",
       "perfectly predicted. This might indicate that there is complete\n",
       "quasi-separation. In this case some parameters will not be identified.\n",
       "\"\"\""
      ]
     },
     "execution_count": 23,
     "metadata": {},
     "output_type": "execute_result"
    }
   ],
   "source": [
    "# ii. fit logistic regression model using only training observations\n",
    "predictors = train.columns.drop(['default','student'])\n",
    "design2 = MS(predictors).fit(train)\n",
    "X2 = design2.transform(train)\n",
    "y2 = train.default.map(\n",
    "    {'No': 0,\n",
    "    'Yes': 1}\n",
    ")\n",
    "\n",
    "model2 = sm.Logit(y2,X2)\n",
    "results2 = model2.fit()\n",
    "results2.summary()"
   ]
  },
  {
   "cell_type": "code",
   "execution_count": 24,
   "id": "842f5032-9d79-4262-8c4a-542e77300383",
   "metadata": {},
   "outputs": [],
   "source": [
    "# iii. Prediction for validation set\n",
    "X_val = design2.transform(val)\n",
    "predicted_probs = results2.predict(X_val)\n",
    "predicted_labels = np.where(predicted_probs > 0.5, 'Yes', 'No')"
   ]
  },
  {
   "cell_type": "code",
   "execution_count": 25,
   "id": "35aa4892-b74b-47a0-a82a-b719c4267508",
   "metadata": {},
   "outputs": [
    {
     "data": {
      "text/plain": [
       "0.026666666666666616"
      ]
     },
     "execution_count": 25,
     "metadata": {},
     "output_type": "execute_result"
    }
   ],
   "source": [
    "# iv. validation set error\n",
    "true_labels = val.default\n",
    "val_err = 1 - np.mean(predicted_labels == true_labels)\n",
    "val_err"
   ]
  },
  {
   "cell_type": "code",
   "execution_count": 26,
   "id": "87f347d8-8ff6-4b36-a2dc-bc4548b4204f",
   "metadata": {},
   "outputs": [
    {
     "data": {
      "text/html": [
       "<div>\n",
       "<style scoped>\n",
       "    .dataframe tbody tr th:only-of-type {\n",
       "        vertical-align: middle;\n",
       "    }\n",
       "\n",
       "    .dataframe tbody tr th {\n",
       "        vertical-align: top;\n",
       "    }\n",
       "\n",
       "    .dataframe thead th {\n",
       "        text-align: right;\n",
       "    }\n",
       "</style>\n",
       "<table border=\"1\" class=\"dataframe\">\n",
       "  <thead>\n",
       "    <tr style=\"text-align: right;\">\n",
       "      <th>Truth</th>\n",
       "      <th>No</th>\n",
       "      <th>Yes</th>\n",
       "    </tr>\n",
       "    <tr>\n",
       "      <th>Predicted</th>\n",
       "      <th></th>\n",
       "      <th></th>\n",
       "    </tr>\n",
       "  </thead>\n",
       "  <tbody>\n",
       "    <tr>\n",
       "      <th>No</th>\n",
       "      <td>2896</td>\n",
       "      <td>70</td>\n",
       "    </tr>\n",
       "    <tr>\n",
       "      <th>Yes</th>\n",
       "      <td>10</td>\n",
       "      <td>24</td>\n",
       "    </tr>\n",
       "  </tbody>\n",
       "</table>\n",
       "</div>"
      ],
      "text/plain": [
       "Truth        No  Yes\n",
       "Predicted           \n",
       "No         2896   70\n",
       "Yes          10   24"
      ]
     },
     "execution_count": 26,
     "metadata": {},
     "output_type": "execute_result"
    }
   ],
   "source": [
    "from ISLP import confusion_table\n",
    "confusion_table(predicted_labels, true_labels)"
   ]
  },
  {
   "cell_type": "markdown",
   "id": "a79e016c-9404-478e-9ca7-dd5b4d405bdf",
   "metadata": {},
   "source": [
    "## Task 2.3\n",
    "Repeat the process in (b) three times, using three different splits of the observations into a training set and a validation set. Comment on the results obtained."
   ]
  },
  {
   "cell_type": "code",
   "execution_count": 27,
   "id": "d6678f73-12fb-4cc6-a898-c065e3d0247f",
   "metadata": {},
   "outputs": [
    {
     "name": "stdout",
     "output_type": "stream",
     "text": [
      "Optimization terminated successfully.\n",
      "         Current function value: 0.075228\n",
      "         Iterations 10\n",
      "Optimization terminated successfully.\n",
      "         Current function value: 0.079744\n",
      "         Iterations 10\n",
      "Optimization terminated successfully.\n",
      "         Current function value: 0.083036\n",
      "         Iterations 10\n"
     ]
    },
    {
     "data": {
      "text/plain": [
       "array([0.029     , 0.02433333, 0.02166667])"
      ]
     },
     "execution_count": 27,
     "metadata": {},
     "output_type": "execute_result"
    }
   ],
   "source": [
    "# your code here\n",
    "val_errors = np.zeros(3)\n",
    "for i in range(3):\n",
    "    train, val = train_test_split(\n",
    "        Default,\n",
    "        test_size=0.3\n",
    "    )\n",
    "    predictors = train.columns.drop(['default','student'])\n",
    "    design3 = MS(predictors).fit(train)\n",
    "    X3 = design3.transform(train)\n",
    "    y3 = train.default.map(\n",
    "        {'No': 0,\n",
    "        'Yes': 1}\n",
    "    )\n",
    "\n",
    "    model3 = sm.Logit(y3,X3)\n",
    "    results3 = model3.fit()\n",
    "    X_val = design3.transform(val)\n",
    "    predicted_probs = results2.predict(X_val)\n",
    "    predicted_labels = np.where(predicted_probs > 0.5, 'Yes', 'No')\n",
    "    true_labels = val.default\n",
    "    val_err = 1 - np.mean(predicted_labels == true_labels)\n",
    "    val_errors[i] = val_err\n",
    "val_errors"
   ]
  },
  {
   "cell_type": "markdown",
   "id": "4a537745-5fc1-4cf6-ab0e-98e148538ef3",
   "metadata": {},
   "source": [
    "**Comment**: The fraction of observations which are misclassified varies slightly due to the fact that we use different validation sets (no random seed set!) in each of the three iterations."
   ]
  },
  {
   "cell_type": "markdown",
   "id": "856893a5-2422-4e97-8641-5bbe75504e0b",
   "metadata": {},
   "source": [
    "## Task 2.4\n",
    "Now predict the test error of the model using 10-fold cross-validation. To do so, follow the steps we developed in Part 1b) of this notebook.\n",
    "\n",
    "**Note**: To carry out this task, we need to define our own custom score using [`sklearn.make_scorer()`](https://scikit-learn.org/stable/modules/generated/sklearn.metrics.make_scorer.html) and pass this to the function [`sklearn.cross_validate()`](https://scikit-learn.org/stable/modules/generated/sklearn.model_selection.cross_validate.html) by specifying it as an argument to the `scoring` parameter.\n",
    "\n",
    "Our custom scoring function needs to have the signature `score_func(y, y_pred, **kwargs)` with `y` being the true labels and `y_pred` the predicted labels as output by `sm.Logit()` when applying the `predict()` method. Since `statsmodels` outputs probabilities rather than actual labels, we first transform these probabilities  into labels. This is what our scoring function `accuracy_score_sm()` does."
   ]
  },
  {
   "cell_type": "code",
   "execution_count": 28,
   "id": "ca5eb851-765d-499d-9cdb-4f9f2f2d26c4",
   "metadata": {},
   "outputs": [
    {
     "name": "stdout",
     "output_type": "stream",
     "text": [
      "Optimization terminated successfully.\n",
      "         Current function value: 0.077489\n",
      "         Iterations 10\n",
      "Optimization terminated successfully.\n",
      "         Current function value: 0.077985\n",
      "         Iterations 10\n",
      "Optimization terminated successfully.\n",
      "         Current function value: 0.080798\n",
      "         Iterations 10\n",
      "Optimization terminated successfully.\n",
      "         Current function value: 0.076904\n",
      "         Iterations 10\n",
      "Optimization terminated successfully.\n",
      "         Current function value: 0.081253\n",
      "         Iterations 10\n",
      "Optimization terminated successfully.\n",
      "         Current function value: 0.079803\n",
      "         Iterations 10\n",
      "Optimization terminated successfully.\n",
      "         Current function value: 0.078557\n",
      "         Iterations 10\n",
      "Optimization terminated successfully.\n",
      "         Current function value: 0.078019\n",
      "         Iterations 10\n",
      "Optimization terminated successfully.\n",
      "         Current function value: 0.077491\n",
      "         Iterations 10\n",
      "Optimization terminated successfully.\n",
      "         Current function value: 0.080997\n",
      "         Iterations 10\n",
      "Mean accuracy:  0.9738999999999999\n"
     ]
    }
   ],
   "source": [
    "# Step 1: Define custom scorer which computes accuracy based on probabilities as\n",
    "# output by statsmodels\n",
    "from sklearn.metrics import make_scorer\n",
    "def accuracy_score_sm(y_true, y_pred_prob):\n",
    "    # computes the accuracy for the output of a binary classification model\n",
    "\n",
    "    # inputs:\n",
    "    #    y_true: ground truth labels, encoded as 0,1\n",
    "    #    y_pred_prob: probabilities for label 1 as predicted by the model\n",
    "\n",
    "    # output:\n",
    "    #    percentage of models \n",
    "    y_pred = np.round(y_pred_prob)\n",
    "    return np.mean(y_true == y_pred)\n",
    "accuracy_sm = make_scorer(accuracy_score_sm)\n",
    "\n",
    "# Step 2: Initialize splitter for cross validation and model\n",
    "cross_val = KFold(n_splits = 10,\n",
    "                 shuffle = True,\n",
    "                 random_state = 42)\n",
    "\n",
    "M = sklearn_sm(sm.Logit)\n",
    "\n",
    "# Step 3: Define response variable and design matrix for cross validation\n",
    "y = Default['default'].map({\n",
    "    'No' : 0,\n",
    "    'Yes' : 1\n",
    "})\n",
    "predictors = ['income', 'balance']\n",
    "X = MS(predictors).fit_transform(Default)\n",
    "\n",
    "# Step 4: Run cross validation\n",
    "cv_results = cross_validate(M,\n",
    "                            X,\n",
    "                            y,\n",
    "                            scoring = accuracy_sm,\n",
    "                            cv = cross_val)\n",
    "print('Mean accuracy: ', np.mean(cv_results['test_score']))"
   ]
  },
  {
   "cell_type": "markdown",
   "id": "c8d4eeec-0d91-4fb1-8ac1-8e066fedd68d",
   "metadata": {},
   "source": [
    "## Task 2.5\n",
    "Now consider a logistic regression model that predicts the probability of default using income, balance, and a dummy variable for student. Estimate the test error for this model using 10-fold cross-validation. Comment on whether or not including a dummy variable for student leads to a reduction in the test error rate."
   ]
  },
  {
   "cell_type": "code",
   "execution_count": 29,
   "id": "2d922248-f09f-49b6-9b39-a873c4883974",
   "metadata": {},
   "outputs": [
    {
     "name": "stdout",
     "output_type": "stream",
     "text": [
      "Optimization terminated successfully.\n",
      "         Current function value: 0.077174\n",
      "         Iterations 10\n",
      "Optimization terminated successfully.\n",
      "         Current function value: 0.077718\n",
      "         Iterations 10\n",
      "Optimization terminated successfully.\n",
      "         Current function value: 0.080384\n",
      "         Iterations 10\n",
      "Optimization terminated successfully.\n",
      "         Current function value: 0.076316\n",
      "         Iterations 10\n",
      "Optimization terminated successfully.\n",
      "         Current function value: 0.080834\n",
      "         Iterations 10\n",
      "Optimization terminated successfully.\n",
      "         Current function value: 0.079514\n",
      "         Iterations 10\n",
      "Optimization terminated successfully.\n",
      "         Current function value: 0.078307\n",
      "         Iterations 10\n",
      "Optimization terminated successfully.\n",
      "         Current function value: 0.077439\n",
      "         Iterations 10\n",
      "Optimization terminated successfully.\n",
      "         Current function value: 0.077127\n",
      "         Iterations 10\n",
      "Optimization terminated successfully.\n",
      "         Current function value: 0.080685\n",
      "         Iterations 10\n",
      "Mean accuracy:  0.9733\n"
     ]
    }
   ],
   "source": [
    "# Step 1: Initialize splitter for cross validation and model\n",
    "# reuse the cross validator from Task 1.4\n",
    "\n",
    "# Step 2: Define response variable and design matrix for cross validation\n",
    "# reuse y from Task 1.4\n",
    "predictors=['income', 'balance', 'student']\n",
    "X = MS(predictors).fit_transform(\n",
    "    Default.astype({'student': 'category'}))\n",
    "\n",
    "# Step 3: Run cross validation\n",
    "cv_results = cross_validate(M,\n",
    "                           X,\n",
    "                           y,\n",
    "                           scoring = accuracy_sm,\n",
    "                           cv = cross_val)\n",
    "\n",
    "print('Mean accuracy: ', np.mean(cv_results['test_score']))"
   ]
  },
  {
   "cell_type": "markdown",
   "id": "ff0ee1d9-8ddc-4129-ab66-802e951e6e85",
   "metadata": {},
   "source": [
    "**Interpretation**: There is no evidence that adding student as additional predictor helps to improve the model accuracy. Hence, we would decide based on this analysis to leave student out."
   ]
  },
  {
   "cell_type": "markdown",
   "id": "11d0e250-300d-44e2-b95a-95d308f8c720",
   "metadata": {},
   "source": [
    "# Part 3: Implementation of bootstrap"
   ]
  },
  {
   "cell_type": "markdown",
   "id": "a92b55ea-5dae-4a5e-b0d9-8f8c1651d7b2",
   "metadata": {},
   "source": [
    "## Bootstrapping for estimating the accuracy of a statistic\n",
    "### Introducing the dataset\n",
    "We closely follow an example presented in [Computational and Inferential Thinking](https://inferentialthinking.com/chapters/13/3/Confidence_Intervals.html)."
   ]
  },
  {
   "cell_type": "code",
   "execution_count": 30,
   "id": "3516728b-fd21-41b1-817e-404df9347dcb",
   "metadata": {},
   "outputs": [
    {
     "data": {
      "text/html": [
       "<div>\n",
       "<style scoped>\n",
       "    .dataframe tbody tr th:only-of-type {\n",
       "        vertical-align: middle;\n",
       "    }\n",
       "\n",
       "    .dataframe tbody tr th {\n",
       "        vertical-align: top;\n",
       "    }\n",
       "\n",
       "    .dataframe thead th {\n",
       "        text-align: right;\n",
       "    }\n",
       "</style>\n",
       "<table border=\"1\" class=\"dataframe\">\n",
       "  <thead>\n",
       "    <tr style=\"text-align: right;\">\n",
       "      <th></th>\n",
       "      <th>Birth Weight</th>\n",
       "      <th>Gestational Days</th>\n",
       "      <th>Maternal Age</th>\n",
       "      <th>Maternal Height</th>\n",
       "      <th>Maternal Pregnancy Weight</th>\n",
       "      <th>Maternal Smoker</th>\n",
       "    </tr>\n",
       "  </thead>\n",
       "  <tbody>\n",
       "    <tr>\n",
       "      <th>0</th>\n",
       "      <td>120</td>\n",
       "      <td>284</td>\n",
       "      <td>27</td>\n",
       "      <td>62</td>\n",
       "      <td>100</td>\n",
       "      <td>False</td>\n",
       "    </tr>\n",
       "    <tr>\n",
       "      <th>1</th>\n",
       "      <td>113</td>\n",
       "      <td>282</td>\n",
       "      <td>33</td>\n",
       "      <td>64</td>\n",
       "      <td>135</td>\n",
       "      <td>False</td>\n",
       "    </tr>\n",
       "    <tr>\n",
       "      <th>2</th>\n",
       "      <td>128</td>\n",
       "      <td>279</td>\n",
       "      <td>28</td>\n",
       "      <td>64</td>\n",
       "      <td>115</td>\n",
       "      <td>True</td>\n",
       "    </tr>\n",
       "    <tr>\n",
       "      <th>3</th>\n",
       "      <td>108</td>\n",
       "      <td>282</td>\n",
       "      <td>23</td>\n",
       "      <td>67</td>\n",
       "      <td>125</td>\n",
       "      <td>True</td>\n",
       "    </tr>\n",
       "    <tr>\n",
       "      <th>4</th>\n",
       "      <td>136</td>\n",
       "      <td>286</td>\n",
       "      <td>25</td>\n",
       "      <td>62</td>\n",
       "      <td>93</td>\n",
       "      <td>False</td>\n",
       "    </tr>\n",
       "    <tr>\n",
       "      <th>...</th>\n",
       "      <td>...</td>\n",
       "      <td>...</td>\n",
       "      <td>...</td>\n",
       "      <td>...</td>\n",
       "      <td>...</td>\n",
       "      <td>...</td>\n",
       "    </tr>\n",
       "    <tr>\n",
       "      <th>1169</th>\n",
       "      <td>113</td>\n",
       "      <td>275</td>\n",
       "      <td>27</td>\n",
       "      <td>60</td>\n",
       "      <td>100</td>\n",
       "      <td>False</td>\n",
       "    </tr>\n",
       "    <tr>\n",
       "      <th>1170</th>\n",
       "      <td>128</td>\n",
       "      <td>265</td>\n",
       "      <td>24</td>\n",
       "      <td>67</td>\n",
       "      <td>120</td>\n",
       "      <td>False</td>\n",
       "    </tr>\n",
       "    <tr>\n",
       "      <th>1171</th>\n",
       "      <td>130</td>\n",
       "      <td>291</td>\n",
       "      <td>30</td>\n",
       "      <td>65</td>\n",
       "      <td>150</td>\n",
       "      <td>True</td>\n",
       "    </tr>\n",
       "    <tr>\n",
       "      <th>1172</th>\n",
       "      <td>125</td>\n",
       "      <td>281</td>\n",
       "      <td>21</td>\n",
       "      <td>65</td>\n",
       "      <td>110</td>\n",
       "      <td>False</td>\n",
       "    </tr>\n",
       "    <tr>\n",
       "      <th>1173</th>\n",
       "      <td>117</td>\n",
       "      <td>297</td>\n",
       "      <td>38</td>\n",
       "      <td>65</td>\n",
       "      <td>129</td>\n",
       "      <td>False</td>\n",
       "    </tr>\n",
       "  </tbody>\n",
       "</table>\n",
       "<p>1174 rows × 6 columns</p>\n",
       "</div>"
      ],
      "text/plain": [
       "      Birth Weight  Gestational Days  Maternal Age  Maternal Height  \\\n",
       "0              120               284            27               62   \n",
       "1              113               282            33               64   \n",
       "2              128               279            28               64   \n",
       "3              108               282            23               67   \n",
       "4              136               286            25               62   \n",
       "...            ...               ...           ...              ...   \n",
       "1169           113               275            27               60   \n",
       "1170           128               265            24               67   \n",
       "1171           130               291            30               65   \n",
       "1172           125               281            21               65   \n",
       "1173           117               297            38               65   \n",
       "\n",
       "      Maternal Pregnancy Weight  Maternal Smoker  \n",
       "0                           100            False  \n",
       "1                           135            False  \n",
       "2                           115             True  \n",
       "3                           125             True  \n",
       "4                            93            False  \n",
       "...                         ...              ...  \n",
       "1169                        100            False  \n",
       "1170                        120            False  \n",
       "1171                        150             True  \n",
       "1172                        110            False  \n",
       "1173                        129            False  \n",
       "\n",
       "[1174 rows x 6 columns]"
      ]
     },
     "execution_count": 30,
     "metadata": {},
     "output_type": "execute_result"
    }
   ],
   "source": [
    "url = 'https://drive.google.com/uc?id='\n",
    "file_id = \"15xUDQPqkzKJBoxrafC9iNz4EgFlwbmM_\"\n",
    "births = pd.read_csv(url + file_id)\n",
    "births"
   ]
  },
  {
   "cell_type": "markdown",
   "id": "f6b4bb3a-691c-4bab-a4e4-6b91e377c5dc",
   "metadata": {},
   "source": [
    "#### Task 3.1\n",
    "\n",
    "Create a new column `Birth Weight (g)` which contains the birth weight in g. Use the fact 1oz = 28.3495g for your computations."
   ]
  },
  {
   "cell_type": "code",
   "execution_count": 31,
   "id": "f408e477-ce2e-4415-94f0-dd455636039c",
   "metadata": {},
   "outputs": [
    {
     "data": {
      "text/html": [
       "<div>\n",
       "<style scoped>\n",
       "    .dataframe tbody tr th:only-of-type {\n",
       "        vertical-align: middle;\n",
       "    }\n",
       "\n",
       "    .dataframe tbody tr th {\n",
       "        vertical-align: top;\n",
       "    }\n",
       "\n",
       "    .dataframe thead th {\n",
       "        text-align: right;\n",
       "    }\n",
       "</style>\n",
       "<table border=\"1\" class=\"dataframe\">\n",
       "  <thead>\n",
       "    <tr style=\"text-align: right;\">\n",
       "      <th></th>\n",
       "      <th>Birth Weight</th>\n",
       "      <th>Gestational Days</th>\n",
       "      <th>Maternal Age</th>\n",
       "      <th>Maternal Height</th>\n",
       "      <th>Maternal Pregnancy Weight</th>\n",
       "      <th>Maternal Smoker</th>\n",
       "      <th>Birth Weight (g)</th>\n",
       "    </tr>\n",
       "  </thead>\n",
       "  <tbody>\n",
       "    <tr>\n",
       "      <th>0</th>\n",
       "      <td>120</td>\n",
       "      <td>284</td>\n",
       "      <td>27</td>\n",
       "      <td>62</td>\n",
       "      <td>100</td>\n",
       "      <td>False</td>\n",
       "      <td>3401.9400</td>\n",
       "    </tr>\n",
       "    <tr>\n",
       "      <th>1</th>\n",
       "      <td>113</td>\n",
       "      <td>282</td>\n",
       "      <td>33</td>\n",
       "      <td>64</td>\n",
       "      <td>135</td>\n",
       "      <td>False</td>\n",
       "      <td>3203.4935</td>\n",
       "    </tr>\n",
       "    <tr>\n",
       "      <th>2</th>\n",
       "      <td>128</td>\n",
       "      <td>279</td>\n",
       "      <td>28</td>\n",
       "      <td>64</td>\n",
       "      <td>115</td>\n",
       "      <td>True</td>\n",
       "      <td>3628.7360</td>\n",
       "    </tr>\n",
       "    <tr>\n",
       "      <th>3</th>\n",
       "      <td>108</td>\n",
       "      <td>282</td>\n",
       "      <td>23</td>\n",
       "      <td>67</td>\n",
       "      <td>125</td>\n",
       "      <td>True</td>\n",
       "      <td>3061.7460</td>\n",
       "    </tr>\n",
       "    <tr>\n",
       "      <th>4</th>\n",
       "      <td>136</td>\n",
       "      <td>286</td>\n",
       "      <td>25</td>\n",
       "      <td>62</td>\n",
       "      <td>93</td>\n",
       "      <td>False</td>\n",
       "      <td>3855.5320</td>\n",
       "    </tr>\n",
       "    <tr>\n",
       "      <th>...</th>\n",
       "      <td>...</td>\n",
       "      <td>...</td>\n",
       "      <td>...</td>\n",
       "      <td>...</td>\n",
       "      <td>...</td>\n",
       "      <td>...</td>\n",
       "      <td>...</td>\n",
       "    </tr>\n",
       "    <tr>\n",
       "      <th>1169</th>\n",
       "      <td>113</td>\n",
       "      <td>275</td>\n",
       "      <td>27</td>\n",
       "      <td>60</td>\n",
       "      <td>100</td>\n",
       "      <td>False</td>\n",
       "      <td>3203.4935</td>\n",
       "    </tr>\n",
       "    <tr>\n",
       "      <th>1170</th>\n",
       "      <td>128</td>\n",
       "      <td>265</td>\n",
       "      <td>24</td>\n",
       "      <td>67</td>\n",
       "      <td>120</td>\n",
       "      <td>False</td>\n",
       "      <td>3628.7360</td>\n",
       "    </tr>\n",
       "    <tr>\n",
       "      <th>1171</th>\n",
       "      <td>130</td>\n",
       "      <td>291</td>\n",
       "      <td>30</td>\n",
       "      <td>65</td>\n",
       "      <td>150</td>\n",
       "      <td>True</td>\n",
       "      <td>3685.4350</td>\n",
       "    </tr>\n",
       "    <tr>\n",
       "      <th>1172</th>\n",
       "      <td>125</td>\n",
       "      <td>281</td>\n",
       "      <td>21</td>\n",
       "      <td>65</td>\n",
       "      <td>110</td>\n",
       "      <td>False</td>\n",
       "      <td>3543.6875</td>\n",
       "    </tr>\n",
       "    <tr>\n",
       "      <th>1173</th>\n",
       "      <td>117</td>\n",
       "      <td>297</td>\n",
       "      <td>38</td>\n",
       "      <td>65</td>\n",
       "      <td>129</td>\n",
       "      <td>False</td>\n",
       "      <td>3316.8915</td>\n",
       "    </tr>\n",
       "  </tbody>\n",
       "</table>\n",
       "<p>1174 rows × 7 columns</p>\n",
       "</div>"
      ],
      "text/plain": [
       "      Birth Weight  Gestational Days  Maternal Age  Maternal Height  \\\n",
       "0              120               284            27               62   \n",
       "1              113               282            33               64   \n",
       "2              128               279            28               64   \n",
       "3              108               282            23               67   \n",
       "4              136               286            25               62   \n",
       "...            ...               ...           ...              ...   \n",
       "1169           113               275            27               60   \n",
       "1170           128               265            24               67   \n",
       "1171           130               291            30               65   \n",
       "1172           125               281            21               65   \n",
       "1173           117               297            38               65   \n",
       "\n",
       "      Maternal Pregnancy Weight  Maternal Smoker  Birth Weight (g)  \n",
       "0                           100            False         3401.9400  \n",
       "1                           135            False         3203.4935  \n",
       "2                           115             True         3628.7360  \n",
       "3                           125             True         3061.7460  \n",
       "4                            93            False         3855.5320  \n",
       "...                         ...              ...               ...  \n",
       "1169                        100            False         3203.4935  \n",
       "1170                        120            False         3628.7360  \n",
       "1171                        150             True         3685.4350  \n",
       "1172                        110            False         3543.6875  \n",
       "1173                        129            False         3316.8915  \n",
       "\n",
       "[1174 rows x 7 columns]"
      ]
     },
     "execution_count": 31,
     "metadata": {},
     "output_type": "execute_result"
    }
   ],
   "source": [
    "births['Birth Weight (g)'] = births['Birth Weight'] * 28.3495\n",
    "births"
   ]
  },
  {
   "cell_type": "markdown",
   "id": "e7c0e7f3-9383-457d-9ceb-db17fc992b16",
   "metadata": {},
   "source": [
    "Birth weight is an important factor in the health of a newborn infant. Smaller babies tend to need more medical care in their first days than larger newborns. It is therefore helpful to have an estimate of birth weight before the baby is born. One way to do this is to examine the relationship between birth weight and the number of gestational days.\n",
    "\n",
    "A simple measure of this relationship is the ratio of birth weight to the number of gestational days. The table ratios contains the first two columns of baby, as well as a column of the ratios. The first entry in that column was calculated as follows:\n",
    "$$ \\frac{3401.94 \\text{oz}}{284 \\text{ days}} \\approx 11.98 \\text{g} \\text{ per day}.$$"
   ]
  },
  {
   "cell_type": "code",
   "execution_count": 32,
   "id": "b72eeb6b-39ed-4400-afb9-81bb3efa4133",
   "metadata": {},
   "outputs": [
    {
     "data": {
      "text/html": [
       "<div>\n",
       "<style scoped>\n",
       "    .dataframe tbody tr th:only-of-type {\n",
       "        vertical-align: middle;\n",
       "    }\n",
       "\n",
       "    .dataframe tbody tr th {\n",
       "        vertical-align: top;\n",
       "    }\n",
       "\n",
       "    .dataframe thead th {\n",
       "        text-align: right;\n",
       "    }\n",
       "</style>\n",
       "<table border=\"1\" class=\"dataframe\">\n",
       "  <thead>\n",
       "    <tr style=\"text-align: right;\">\n",
       "      <th></th>\n",
       "      <th>Birth Weight</th>\n",
       "      <th>Ratio BW:GD</th>\n",
       "    </tr>\n",
       "  </thead>\n",
       "  <tbody>\n",
       "    <tr>\n",
       "      <th>0</th>\n",
       "      <td>3401.9400</td>\n",
       "      <td>11.978662</td>\n",
       "    </tr>\n",
       "    <tr>\n",
       "      <th>1</th>\n",
       "      <td>3203.4935</td>\n",
       "      <td>11.359906</td>\n",
       "    </tr>\n",
       "    <tr>\n",
       "      <th>2</th>\n",
       "      <td>3628.7360</td>\n",
       "      <td>13.006222</td>\n",
       "    </tr>\n",
       "    <tr>\n",
       "      <th>3</th>\n",
       "      <td>3061.7460</td>\n",
       "      <td>10.857255</td>\n",
       "    </tr>\n",
       "    <tr>\n",
       "      <th>4</th>\n",
       "      <td>3855.5320</td>\n",
       "      <td>13.480881</td>\n",
       "    </tr>\n",
       "    <tr>\n",
       "      <th>...</th>\n",
       "      <td>...</td>\n",
       "      <td>...</td>\n",
       "    </tr>\n",
       "    <tr>\n",
       "      <th>1169</th>\n",
       "      <td>3203.4935</td>\n",
       "      <td>11.649067</td>\n",
       "    </tr>\n",
       "    <tr>\n",
       "      <th>1170</th>\n",
       "      <td>3628.7360</td>\n",
       "      <td>13.693343</td>\n",
       "    </tr>\n",
       "    <tr>\n",
       "      <th>1171</th>\n",
       "      <td>3685.4350</td>\n",
       "      <td>12.664725</td>\n",
       "    </tr>\n",
       "    <tr>\n",
       "      <th>1172</th>\n",
       "      <td>3543.6875</td>\n",
       "      <td>12.610988</td>\n",
       "    </tr>\n",
       "    <tr>\n",
       "      <th>1173</th>\n",
       "      <td>3316.8915</td>\n",
       "      <td>11.167985</td>\n",
       "    </tr>\n",
       "  </tbody>\n",
       "</table>\n",
       "<p>1174 rows × 2 columns</p>\n",
       "</div>"
      ],
      "text/plain": [
       "      Birth Weight  Ratio BW:GD\n",
       "0        3401.9400    11.978662\n",
       "1        3203.4935    11.359906\n",
       "2        3628.7360    13.006222\n",
       "3        3061.7460    10.857255\n",
       "4        3855.5320    13.480881\n",
       "...            ...          ...\n",
       "1169     3203.4935    11.649067\n",
       "1170     3628.7360    13.693343\n",
       "1171     3685.4350    12.664725\n",
       "1172     3543.6875    12.610988\n",
       "1173     3316.8915    11.167985\n",
       "\n",
       "[1174 rows x 2 columns]"
      ]
     },
     "execution_count": 32,
     "metadata": {},
     "output_type": "execute_result"
    }
   ],
   "source": [
    "ratios = pd.DataFrame({\n",
    "    'Birth Weight' : births['Birth Weight (g)'],\n",
    "    'Ratio BW:GD' : births['Birth Weight (g)'] / births['Gestational Days']\n",
    "})\n",
    "ratios"
   ]
  },
  {
   "cell_type": "markdown",
   "id": "005c97be-5a90-4079-ae10-6a9f60326f90",
   "metadata": {},
   "source": [
    "#### Task 3.2\n",
    "\n",
    "Plot a histogram of the ratios."
   ]
  },
  {
   "cell_type": "code",
   "execution_count": 33,
   "id": "9f061579-7c19-406d-b345-b8036c1454a6",
   "metadata": {},
   "outputs": [
    {
     "data": {
      "image/png": "[encoded data removed]",
      "text/plain": [
       "<Figure size 800x400 with 1 Axes>"
      ]
     },
     "metadata": {},
     "output_type": "display_data"
    }
   ],
   "source": [
    "fig,ax = plt.subplots(figsize = (8,4))\n",
    "sns.histplot(ratios, x = \"Ratio BW:GD\");"
   ]
  },
  {
   "cell_type": "markdown",
   "id": "c89bf39b-4e5b-41fe-84b7-e056d0bafa35",
   "metadata": {},
   "source": [
    "#### Task 3.3\n",
    "\n",
    "Compute the median ratio and the maximum ratio in the sample."
   ]
  },
  {
   "cell_type": "code",
   "execution_count": 34,
   "id": "21ea0b5d-7bda-4a49-b7dc-24ab4d5039f0",
   "metadata": {},
   "outputs": [
    {
     "name": "stdout",
     "output_type": "stream",
     "text": [
      "Median of ratios =  12.164147163120568\n",
      "Maximum of ratios =  22.21987837837838\n"
     ]
    }
   ],
   "source": [
    "print('Median of ratios = ',ratios['Ratio BW:GD'].median())\n",
    "print('Maximum of ratios = ',ratios['Ratio BW:GD'].max())"
   ]
  },
  {
   "cell_type": "markdown",
   "id": "b72398e9-8e26-4b1f-81ed-95bf9f3c353e",
   "metadata": {},
   "source": [
    "### Estimating the variability of the population median\n",
    "We now want to estimate the population median. For this we are going to use the bootstrapping method.\n",
    "We start by reviewing the idea in a graphical manner:\n",
    "![bootstrap.png](bootstrap.png)"
   ]
  },
  {
   "cell_type": "markdown",
   "id": "84ebe44a-949e-41ba-adbd-7cd25033a2db",
   "metadata": {},
   "source": [
    "#### Task 3.4\n",
    "\n",
    "Define a function `one_bootstrap_median` which will bootstrap the sample and return the median ratio in the bootstrapped sample.\n",
    "\n",
    "- To bootstrap the sample use the Pandas.DataFrame method [`sample`](https://pandas.pydata.org/docs/reference/api/pandas.DataFrame.sample.html). *Important*: Make sure to draw a sample of the same length as our original sample and make sure to sample with replacement."
   ]
  },
  {
   "cell_type": "code",
   "execution_count": 35,
   "id": "58fe9aeb-efdd-448a-bc12-cde9a81cf1f9",
   "metadata": {},
   "outputs": [
    {
     "data": {
      "text/plain": [
       "12.179027075812273"
      ]
     },
     "execution_count": 35,
     "metadata": {},
     "output_type": "execute_result"
    }
   ],
   "source": [
    "def one_bootstrap_median():\n",
    "    bootstrap_sample = ratios.sample(frac = 1,replace = True)\n",
    "    return bootstrap_sample['Ratio BW:GD'].median()\n",
    "\n",
    "one_bootstrap_median()"
   ]
  },
  {
   "cell_type": "markdown",
   "id": "d5a4123f-def1-46e5-ba5b-2479327446eb",
   "metadata": {},
   "source": [
    "#### Task 3.5\n",
    "\n",
    "Initialize a Numpy vector `bootstrap_medians` with zeros of length 5000 (use the Numpy method [`zeros()`](https://numpy.org/doc/stable/reference/generated/numpy.zeros.html#numpy.zeros). Then fill this vector with 5000 bootstrapped medians."
   ]
  },
  {
   "cell_type": "code",
   "execution_count": 36,
   "id": "9aa83a76-3abd-43e6-bb97-4f0b0d34b0ec",
   "metadata": {},
   "outputs": [],
   "source": [
    "n = 5000\n",
    "bootstrap_medians = np.zeros(n)\n",
    "for i in range(n):\n",
    "    bootstrap_medians[i] = one_bootstrap_median()"
   ]
  },
  {
   "cell_type": "code",
   "execution_count": 37,
   "id": "84721ade-ea52-4999-8c38-f8fc50e6856c",
   "metadata": {},
   "outputs": [
    {
     "data": {
      "image/png": "[encoded data removed]",
      "text/plain": [
       "<Figure size 800x400 with 1 Axes>"
      ]
     },
     "metadata": {},
     "output_type": "display_data"
    }
   ],
   "source": [
    "fig,ax  = plt.subplots(figsize =(8,4))\n",
    "sns.histplot(x = bootstrap_medians, bins=25);"
   ]
  },
  {
   "cell_type": "markdown",
   "id": "8cffd688-abb5-4141-ac97-c61fc4f56fc2",
   "metadata": {},
   "source": [
    "## Bootstrapping for estimating the accuracy of a Linear Regression Model\n",
    "Now, we discuss how to use bootstrapping in order to assess the variability of the coefficient estimates and predictions from a statistical learning method. As an example, we look at a simple linear regression model based on the `Auto` dataset which predicts the `mpg` variable based on `horsepower`.\n",
    "\n",
    "With the bootstrap method we are going to estimate the distribution of the coefficient for `mpg` in this model and we compare the standard error of this coefficient as estimated by `statsmodels` with our bootstrap estimate."
   ]
  },
  {
   "cell_type": "code",
   "execution_count": 38,
   "id": "a36229d5-145c-432c-a3aa-1ea642a656b7",
   "metadata": {},
   "outputs": [],
   "source": [
    "Auto = load_data('Auto')"
   ]
  },
  {
   "cell_type": "markdown",
   "id": "73a93f19-7be7-420b-b0c3-ac6316ffaefd",
   "metadata": {},
   "source": [
    "#### Task 3.6 \n",
    "\n",
    "Define a function `one_bootstrap_model_coefficient` which creates a single bootstrap sample from the Auto dataframe, computes a regression model based on the single predictor `horsepower` and returns the model coefficient for `horsepower`."
   ]
  },
  {
   "cell_type": "code",
   "execution_count": 39,
   "id": "2f7c4e20-b686-47e5-8773-aa97d88b3319",
   "metadata": {},
   "outputs": [
    {
     "data": {
      "text/plain": [
       "-0.15354302641161216"
      ]
     },
     "execution_count": 39,
     "metadata": {},
     "output_type": "execute_result"
    }
   ],
   "source": [
    "def one_bootstrap_model_coefficient():\n",
    "    bootstrap_sample = Auto.sample(frac = 1, replace = True)\n",
    "    predictors = ['horsepower']\n",
    "    X = MS(predictors).fit_transform(bootstrap_sample)\n",
    "    y = bootstrap_sample.mpg\n",
    "    model = sm.OLS(y,X).fit()\n",
    "    return model.params['horsepower']\n",
    "\n",
    "one_bootstrap_model_coefficient()"
   ]
  },
  {
   "cell_type": "markdown",
   "id": "91653d2a-c8ec-4455-8755-f5bbd3382fed",
   "metadata": {},
   "source": [
    "#### Task 3.7\n",
    "\n",
    "Initialize a Numpy vector `bootstrap_model_coefficients` with zeros of length 5000 (use the Numpy method [`zeros()`](https://numpy.org/doc/stable/reference/generated/numpy.zeros.html#numpy.zeros). Then fill this vector with 5000 bootstrapped model coefficients."
   ]
  },
  {
   "cell_type": "code",
   "execution_count": 40,
   "id": "570353cf-c2a4-4cc8-a0dc-de77bb4167fd",
   "metadata": {},
   "outputs": [],
   "source": [
    "n = 5000\n",
    "bootstrap_model_coefficients = np.zeros(n)\n",
    "for i in range(n):\n",
    "    bootstrap_model_coefficients[i] = one_bootstrap_model_coefficient()"
   ]
  },
  {
   "cell_type": "code",
   "execution_count": 41,
   "id": "98acfc0e-f70a-4d1b-933e-23d29c0caff6",
   "metadata": {},
   "outputs": [
    {
     "data": {
      "image/png": "[encoded data removed]",
      "text/plain": [
       "<Figure size 800x400 with 1 Axes>"
      ]
     },
     "metadata": {},
     "output_type": "display_data"
    }
   ],
   "source": [
    "fig,ax  = plt.subplots(figsize =(8,4))\n",
    "sns.histplot(x = bootstrap_model_coefficients, bins=25);"
   ]
  },
  {
   "cell_type": "markdown",
   "id": "8e65f29c-e622-433a-9f62-6229672f21eb",
   "metadata": {},
   "source": [
    "#### Task 3.8 \n",
    "\n",
    "Estimate the standard error of the model coefficient for `horsepower` and assign it to the variable `standard_error_bootstrap`. Compare to the `sm.OLS()` estimate which should be assigned to the variable `standard_error_bootstrap`."
   ]
  },
  {
   "cell_type": "code",
   "execution_count": 42,
   "id": "060e1a65-6744-466e-829e-e65614dbaf64",
   "metadata": {},
   "outputs": [
    {
     "name": "stdout",
     "output_type": "stream",
     "text": [
      "Bootstrapped standard error for model coefficient:     0.0074\n",
      "Statsmodels OLS standard error estimate for model coefficient:     0.0064\n"
     ]
    }
   ],
   "source": [
    "standard_error_bootstrap = np.std(bootstrap_model_coefficients)\n",
    "\n",
    "# compute statsmodels OLS model using the full dataset\n",
    "predictors = ['horsepower']\n",
    "X = MS(predictors).fit_transform(Auto)\n",
    "y = Auto.mpg\n",
    "model = sm.OLS(y,X).fit()\n",
    "standard_error_statsmodels = model.bse['horsepower']\n",
    "\n",
    "print('Bootstrapped standard error for model coefficient:', \"{:10.4f}\".format(standard_error_bootstrap))\n",
    "print('Statsmodels OLS standard error estimate for model coefficient:', \"{:10.4f}\".format(standard_error_statsmodels))"
   ]
  },
  {
   "cell_type": "markdown",
   "id": "2bab2965-c1dd-4ac2-ae32-7c0baeae83ef",
   "metadata": {},
   "source": [
    "# Part 4: Case study bootstrap\n",
    "\n",
    "We continue to consider the use of a logistic regression model to predict the probability of default using income and balance on the `Default` data set. In particular, we will now compute estimates for the standard errors of the income and balance logistic regression coefficients in two different ways: \n",
    "1. using the bootstrap, and \n",
    "2. using the standard formula for computing the standard errors in the sm.GLM() function."
   ]
  },
  {
   "cell_type": "code",
   "execution_count": 43,
   "id": "92b5707a-1aa7-4112-93ec-7f3fde12cfc0",
   "metadata": {},
   "outputs": [
    {
     "data": {
      "text/html": [
       "<div>\n",
       "<style scoped>\n",
       "    .dataframe tbody tr th:only-of-type {\n",
       "        vertical-align: middle;\n",
       "    }\n",
       "\n",
       "    .dataframe tbody tr th {\n",
       "        vertical-align: top;\n",
       "    }\n",
       "\n",
       "    .dataframe thead th {\n",
       "        text-align: right;\n",
       "    }\n",
       "</style>\n",
       "<table border=\"1\" class=\"dataframe\">\n",
       "  <thead>\n",
       "    <tr style=\"text-align: right;\">\n",
       "      <th></th>\n",
       "      <th>default</th>\n",
       "      <th>student</th>\n",
       "      <th>balance</th>\n",
       "      <th>income</th>\n",
       "    </tr>\n",
       "  </thead>\n",
       "  <tbody>\n",
       "    <tr>\n",
       "      <th>0</th>\n",
       "      <td>No</td>\n",
       "      <td>No</td>\n",
       "      <td>729.526495</td>\n",
       "      <td>44361.625074</td>\n",
       "    </tr>\n",
       "    <tr>\n",
       "      <th>1</th>\n",
       "      <td>No</td>\n",
       "      <td>Yes</td>\n",
       "      <td>817.180407</td>\n",
       "      <td>12106.134700</td>\n",
       "    </tr>\n",
       "    <tr>\n",
       "      <th>2</th>\n",
       "      <td>No</td>\n",
       "      <td>No</td>\n",
       "      <td>1073.549164</td>\n",
       "      <td>31767.138947</td>\n",
       "    </tr>\n",
       "    <tr>\n",
       "      <th>3</th>\n",
       "      <td>No</td>\n",
       "      <td>No</td>\n",
       "      <td>529.250605</td>\n",
       "      <td>35704.493935</td>\n",
       "    </tr>\n",
       "    <tr>\n",
       "      <th>4</th>\n",
       "      <td>No</td>\n",
       "      <td>No</td>\n",
       "      <td>785.655883</td>\n",
       "      <td>38463.495879</td>\n",
       "    </tr>\n",
       "    <tr>\n",
       "      <th>...</th>\n",
       "      <td>...</td>\n",
       "      <td>...</td>\n",
       "      <td>...</td>\n",
       "      <td>...</td>\n",
       "    </tr>\n",
       "    <tr>\n",
       "      <th>9995</th>\n",
       "      <td>No</td>\n",
       "      <td>No</td>\n",
       "      <td>711.555020</td>\n",
       "      <td>52992.378914</td>\n",
       "    </tr>\n",
       "    <tr>\n",
       "      <th>9996</th>\n",
       "      <td>No</td>\n",
       "      <td>No</td>\n",
       "      <td>757.962918</td>\n",
       "      <td>19660.721768</td>\n",
       "    </tr>\n",
       "    <tr>\n",
       "      <th>9997</th>\n",
       "      <td>No</td>\n",
       "      <td>No</td>\n",
       "      <td>845.411989</td>\n",
       "      <td>58636.156984</td>\n",
       "    </tr>\n",
       "    <tr>\n",
       "      <th>9998</th>\n",
       "      <td>No</td>\n",
       "      <td>No</td>\n",
       "      <td>1569.009053</td>\n",
       "      <td>36669.112365</td>\n",
       "    </tr>\n",
       "    <tr>\n",
       "      <th>9999</th>\n",
       "      <td>No</td>\n",
       "      <td>Yes</td>\n",
       "      <td>200.922183</td>\n",
       "      <td>16862.952321</td>\n",
       "    </tr>\n",
       "  </tbody>\n",
       "</table>\n",
       "<p>10000 rows × 4 columns</p>\n",
       "</div>"
      ],
      "text/plain": [
       "     default student      balance        income\n",
       "0         No      No   729.526495  44361.625074\n",
       "1         No     Yes   817.180407  12106.134700\n",
       "2         No      No  1073.549164  31767.138947\n",
       "3         No      No   529.250605  35704.493935\n",
       "4         No      No   785.655883  38463.495879\n",
       "...      ...     ...          ...           ...\n",
       "9995      No      No   711.555020  52992.378914\n",
       "9996      No      No   757.962918  19660.721768\n",
       "9997      No      No   845.411989  58636.156984\n",
       "9998      No      No  1569.009053  36669.112365\n",
       "9999      No     Yes   200.922183  16862.952321\n",
       "\n",
       "[10000 rows x 4 columns]"
      ]
     },
     "execution_count": 43,
     "metadata": {},
     "output_type": "execute_result"
    }
   ],
   "source": [
    "# run this cell to load the data\n",
    "Default = load_data('Default')\n",
    "Default"
   ]
  },
  {
   "cell_type": "markdown",
   "id": "0ed6a521-45f4-4be6-a99f-acf9d028e0ad",
   "metadata": {},
   "source": [
    "## Task 4.1\n",
    "Using the `summarize()` and `sm.GLM()` functions, determine the estimated standard errors for the coefficients associated with `income` and `balance` in a multiple logistic regression model that uses both predictors."
   ]
  },
  {
   "cell_type": "code",
   "execution_count": 44,
   "id": "d45ae9f6-8ed1-4e18-9896-754edfab7d84",
   "metadata": {},
   "outputs": [
    {
     "name": "stdout",
     "output_type": "stream",
     "text": [
      "Optimization terminated successfully.\n",
      "         Current function value: 0.078948\n",
      "         Iterations 10\n"
     ]
    },
    {
     "data": {
      "text/html": [
       "<div>\n",
       "<style scoped>\n",
       "    .dataframe tbody tr th:only-of-type {\n",
       "        vertical-align: middle;\n",
       "    }\n",
       "\n",
       "    .dataframe tbody tr th {\n",
       "        vertical-align: top;\n",
       "    }\n",
       "\n",
       "    .dataframe thead th {\n",
       "        text-align: right;\n",
       "    }\n",
       "</style>\n",
       "<table border=\"1\" class=\"dataframe\">\n",
       "  <thead>\n",
       "    <tr style=\"text-align: right;\">\n",
       "      <th></th>\n",
       "      <th>coef</th>\n",
       "      <th>std err</th>\n",
       "      <th>z</th>\n",
       "      <th>P&gt;|z|</th>\n",
       "    </tr>\n",
       "  </thead>\n",
       "  <tbody>\n",
       "    <tr>\n",
       "      <th>intercept</th>\n",
       "      <td>-11.540500</td>\n",
       "      <td>0.435000</td>\n",
       "      <td>-26.544</td>\n",
       "      <td>0.0</td>\n",
       "    </tr>\n",
       "    <tr>\n",
       "      <th>balance</th>\n",
       "      <td>0.005600</td>\n",
       "      <td>0.000000</td>\n",
       "      <td>24.835</td>\n",
       "      <td>0.0</td>\n",
       "    </tr>\n",
       "    <tr>\n",
       "      <th>income</th>\n",
       "      <td>0.000021</td>\n",
       "      <td>0.000005</td>\n",
       "      <td>4.174</td>\n",
       "      <td>0.0</td>\n",
       "    </tr>\n",
       "  </tbody>\n",
       "</table>\n",
       "</div>"
      ],
      "text/plain": [
       "                coef   std err       z  P>|z|\n",
       "intercept -11.540500  0.435000 -26.544    0.0\n",
       "balance     0.005600  0.000000  24.835    0.0\n",
       "income      0.000021  0.000005   4.174    0.0"
      ]
     },
     "execution_count": 44,
     "metadata": {},
     "output_type": "execute_result"
    }
   ],
   "source": [
    "predictors = Default.columns.drop(['student', 'default'])\n",
    "design = MS(predictors).fit(Default)\n",
    "X = design.transform(Default)\n",
    "\n",
    "y = Default.default.map({\n",
    "    'No' : 0,\n",
    "    'Yes' : 1\n",
    "})\n",
    "\n",
    "model = sm.Logit(y,X)\n",
    "results = model.fit()\n",
    "summarize(results)"
   ]
  },
  {
   "cell_type": "markdown",
   "id": "0cbca650-25b4-4800-859a-5968282bdd20",
   "metadata": {},
   "source": [
    "## Task 4.2\n",
    "Following the bootstrap example in Part 2 above, estimate the standard errors of the logistic regression coefficients for income and balance with the bootstrap."
   ]
  },
  {
   "cell_type": "code",
   "execution_count": 45,
   "id": "84e30f3c-40e0-4ad8-92ad-a358522208d7",
   "metadata": {},
   "outputs": [
    {
     "data": {
      "text/plain": [
       "(0.005737329659827029, 1.6877069038868157e-05)"
      ]
     },
     "execution_count": 45,
     "metadata": {},
     "output_type": "execute_result"
    }
   ],
   "source": [
    "# Step 1: Define function to compute one bootstrap sample of the model coefficients\n",
    "def one_bootstrap_model_coefficients():\n",
    "    resample = Default.sample(frac = 1, \n",
    "                           replace = True)\n",
    "    X_bs = design.transform(resample)\n",
    "    y_bs = y[X_bs.index]\n",
    "    results_bs = sm.Logit(y_bs,X_bs).fit(disp=0) # disp=0 option mutes output of fit()\n",
    "    return results_bs.params['balance'], results_bs.params['income']\n",
    "one_bootstrap_model_coefficients()"
   ]
  },
  {
   "cell_type": "code",
   "execution_count": 46,
   "id": "83305473-8446-48d2-8114-f0a99b09f8e0",
   "metadata": {},
   "outputs": [],
   "source": [
    "# Step 2: \n",
    "n_bs_samples = 5000\n",
    "balance_coefficients = np.zeros(n_bs_samples)\n",
    "income_coefficients = np.zeros(n_bs_samples)\n",
    "for i in range(n_bs_samples):\n",
    "    balance_coefficients[i], income_coefficients[i] = one_bootstrap_model_coefficients()"
   ]
  },
  {
   "cell_type": "code",
   "execution_count": 47,
   "id": "99001356-05fa-4bc4-9af9-9b35f4fc9cfe",
   "metadata": {},
   "outputs": [
    {
     "name": "stdout",
     "output_type": "stream",
     "text": [
      "Bootstrap estimation of standard error for balance parameter:    2.255423e-04\n",
      "Statsmodels estimation of standard error for balance parameter:  0.000000e+00\n"
     ]
    }
   ],
   "source": [
    "# Step 3a: comparison of bootstrap standard errors and standard errors as per statsmodels.Logit() - balance\n",
    "print('Bootstrap estimation of standard error for balance parameter:   ', \n",
    "      '{:6e}'.format(np.std(balance_coefficients))\n",
    ")\n",
    "print('Statsmodels estimation of standard error for balance parameter: ', \n",
    "      '{:6e}'.format(summarize(results).loc['balance','std err'])\n",
    ")"
   ]
  },
  {
   "cell_type": "code",
   "execution_count": 48,
   "id": "366cace2-a024-46b0-8f29-3250278165f8",
   "metadata": {},
   "outputs": [
    {
     "name": "stdout",
     "output_type": "stream",
     "text": [
      "Bootstrap estimation of standard error for income parameter:    4.847566e-06\n",
      "Statsmodels estimation of standard error for income parameter:  4.990000e-06\n"
     ]
    }
   ],
   "source": [
    "# Step 3b: comparison of bootstrap standard errors and standard errors as per statsmodels.Logit() - income\n",
    "print('Bootstrap estimation of standard error for income parameter:   ', \n",
    "      '{:6e}'.format(np.std(income_coefficients))\n",
    ")\n",
    "print('Statsmodels estimation of standard error for income parameter: ', \n",
    "      '{:6e}'.format(summarize(results).loc['income','std err'])\n",
    ")"
   ]
  },
  {
   "cell_type": "markdown",
   "id": "6bb1b239-1de4-4f27-aec2-6068361d5604",
   "metadata": {},
   "source": [
    "## Task 4.3\n",
    "\n",
    "Comment on the estimated standard errors obtained using the `sm.Logit()`/`sm.GLM()` function and using the bootstrap."
   ]
  },
  {
   "cell_type": "markdown",
   "id": "83b8d412-773c-41df-8505-5072de0477ab",
   "metadata": {},
   "source": [
    "**Comment**:\n",
    "- For `balance` the standard error estimated by `statsmodels.Logit()` is 0.0, which is quite different from the bootstrap standard error of 2.26e-04.\n",
    "- For `income` the bootstrap estimate of the standard error is similar to the one estimated by `statsmodels`."
   ]
  }
 ],
 "metadata": {
  "kernelspec": {
   "display_name": "Python 3 (ipykernel)",
   "language": "python",
   "name": "python3"
  },
  "language_info": {
   "codemirror_mode": {
    "name": "ipython",
    "version": 3
   },
   "file_extension": ".py",
   "mimetype": "text/x-python",
   "name": "python",
   "nbconvert_exporter": "python",
   "pygments_lexer": "ipython3",
   "version": "3.9.7"
  }
 },
 "nbformat": 4,
 "nbformat_minor": 5
}
