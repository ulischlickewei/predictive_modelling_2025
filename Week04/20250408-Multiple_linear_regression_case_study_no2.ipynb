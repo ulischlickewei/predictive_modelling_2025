{
 "cells": [
  {
   "cell_type": "code",
   "execution_count": null,
   "id": "0d90b61e-2855-4414-9064-fe9e931d2a19",
   "metadata": {},
   "outputs": [],
   "source": [
    "# import all needed packages\n",
    "import numpy as np\n",
    "import pandas as pd\n",
    "\n",
    "import statsmodels.api as sm\n",
    "\n",
    "import matplotlib.pyplot as plt\n",
    "import seaborn as sns\n",
    "\n",
    "from statsmodels.stats.outliers_influence \\\n",
    "     import variance_inflation_factor as VIF\n",
    "from statsmodels.stats.anova import anova_lm\n",
    "\n",
    "from ISLP import load_data\n",
    "from ISLP.models import (ModelSpec as MS,\n",
    "                         summarize,\n",
    "                         poly)"
   ]
  },
  {
   "cell_type": "markdown",
   "id": "378d780e-355d-4f46-801e-259b177d8a4d",
   "metadata": {},
   "source": [
    "## Case study: Multiple linear regression with the Carseats dataset\n",
    "\n",
    "In this case study we investigate the Carseats dataset. This is a simulated data set containing sales of child car seats at 400 different stores. It contains the following variables: \n",
    "\n",
    "- `Sales`: Unit sales (in thousands) at each location\n",
    "\n",
    "- `CompPrice`: Price charged by competitor at each location\n",
    "\n",
    "- `Income`: Community income level (in thousands of dollars)\n",
    "\n",
    "- `Advertising`: Local advertising budget for company at each location (in thousands of dollars)\n",
    "\n",
    "- `Population`: Population size in region (in thousands)\n",
    "\n",
    "- `Price`: Price company charges for car seats at each site\n",
    "\n",
    "- `ShelveLoc`: A factor with levels Bad, Good and Medium indicating the quality of the shelving location for the car seats at each site\n",
    "\n",
    "- `Age`: Average age of the local population\n",
    "\n",
    "- `Education`: Education level at each location\n",
    "\n",
    "- `Urban`: A factor with levels No and Yes to indicate whether the store is in an urban or rural location\n",
    "\n",
    "- `US`: A factor with levels No and Yes to indicate whether the store is in the US or not"
   ]
  },
  {
   "cell_type": "code",
   "execution_count": null,
   "id": "b8fba496-c4b2-48d6-8213-b9fede87735d",
   "metadata": {},
   "outputs": [],
   "source": [
    "# run this cell to load the data\n",
    "Carseats = load_data('Carseats')\n",
    "Carseats"
   ]
  },
  {
   "cell_type": "markdown",
   "id": "9d487614-0bb8-4397-bdda-419968729bc3",
   "metadata": {},
   "source": [
    "### Task 1:\n",
    "Perform a basic exploratory data analysis. As an orientation, the following structure might be helpful:\n",
    "1. Understand the structure (check dimensions (number of rows/columns), display column names, check data types and missing values)\n",
    "2. Get summary statistics (use .describe() for numerical features, use .value_counts() for categorical variables)\n",
    "3. Visualize distributions (histograms for numeric variables (e.g., Price, Sales), boxplots for comparing variables (e.g., Sales by ShelveLoc))\n",
    "4. Explore relationships (correlation matrix for numeric features, pairwise scatterplots, grouped bar plots for categorical relationships)"
   ]
  },
  {
   "cell_type": "code",
   "execution_count": null,
   "id": "181facfc-d18f-44e9-b2b2-6e35319c2fa2",
   "metadata": {},
   "outputs": [],
   "source": [
    "# your code here"
   ]
  },
  {
   "cell_type": "markdown",
   "id": "0b1f72fd-6339-4204-9e4d-7e1630b47d3c",
   "metadata": {},
   "source": [
    "#### Key Insights from EDA on Carseats Dataset\n",
    "\n",
    "*Your insights here*"
   ]
  },
  {
   "cell_type": "markdown",
   "id": "3386e552-a824-4aa7-8a3d-4e61ca60d24f",
   "metadata": {},
   "source": [
    "## Task 2:\n",
    "Fit a multiple regression model to predict `Sales` using `Price`, `Urban`, and `US`."
   ]
  },
  {
   "cell_type": "code",
   "execution_count": null,
   "id": "de4837bc-d3e8-4067-a597-a9563d7e8497",
   "metadata": {},
   "outputs": [],
   "source": [
    "# your code here"
   ]
  },
  {
   "cell_type": "markdown",
   "id": "e1578783-1e51-48de-a957-cba14e44b529",
   "metadata": {},
   "source": [
    "## Task 3: \n",
    "Write out the model in equation form, being careful to handle the qualitative variables properly."
   ]
  },
  {
   "cell_type": "markdown",
   "id": "8fe9b251-378a-414b-9cb8-0b3dec145ab4",
   "metadata": {},
   "source": [
    "*Your model description here*"
   ]
  },
  {
   "cell_type": "markdown",
   "id": "929142bf-3336-4402-a34b-382a2bbf616f",
   "metadata": {},
   "source": [
    "## Task 4:\n",
    "For which of the predictors can you reject the null hypothesis $H_0: \\beta_j = 0$?"
   ]
  },
  {
   "cell_type": "markdown",
   "id": "5df84438-588b-4dd9-b6f6-6e5e3cfca996",
   "metadata": {},
   "source": [
    "*Your answer here*"
   ]
  },
  {
   "cell_type": "markdown",
   "id": "3390b175-2d49-49b1-8b4c-df8a1a85cda1",
   "metadata": {},
   "source": [
    "## Task 5:\n",
    "On the basis of your response to the previous question, fit a smaller model that only uses the predictors for which there is evidence of association with the outcome."
   ]
  },
  {
   "cell_type": "code",
   "execution_count": null,
   "id": "b4ec2408-cc53-4f00-ac4e-65b9f0174a74",
   "metadata": {},
   "outputs": [],
   "source": [
    "# your code here"
   ]
  },
  {
   "cell_type": "markdown",
   "id": "42b673ae-d22c-404b-a7c1-a21e480567c9",
   "metadata": {},
   "source": [
    "## Task 6:\n",
    "How well do the models from Task 2 and Task 5 fit the data?"
   ]
  },
  {
   "cell_type": "markdown",
   "id": "3f335eae-b327-4580-ab1b-801d0f1c8e7a",
   "metadata": {},
   "source": [
    "*your answer here*"
   ]
  }
 ],
 "metadata": {
  "kernelspec": {
   "display_name": "Python 3 (ipykernel)",
   "language": "python",
   "name": "python3"
  },
  "language_info": {
   "codemirror_mode": {
    "name": "ipython",
    "version": 3
   },
   "file_extension": ".py",
   "mimetype": "text/x-python",
   "name": "python",
   "nbconvert_exporter": "python",
   "pygments_lexer": "ipython3",
   "version": "3.9.7"
  }
 },
 "nbformat": 4,
 "nbformat_minor": 5
}
