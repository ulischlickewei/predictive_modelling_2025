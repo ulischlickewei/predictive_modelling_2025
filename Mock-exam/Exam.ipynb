{
 "cells": [
  {
   "cell_type": "markdown",
   "id": "e11bc03b-53d9-406d-8542-e3a75821e123",
   "metadata": {
    "deletable": false,
    "editable": false,
    "slideshow": {
     "slide_type": ""
    },
    "tags": []
   },
   "source": [
    "# Predictive modeling - final exam summer term 2024"
   ]
  },
  {
   "cell_type": "markdown",
   "id": "4e4190cd-8dd7-49f4-b17b-0b571c600aeb",
   "metadata": {
    "deletable": false,
    "editable": false,
    "slideshow": {
     "slide_type": ""
    },
    "tags": []
   },
   "source": [
    "**Date**: 6.7.2024"
   ]
  },
  {
   "cell_type": "markdown",
   "id": "afc617b9-1a7e-4c30-9ae0-ba7c40031645",
   "metadata": {
    "deletable": false,
    "editable": false,
    "slideshow": {
     "slide_type": ""
    },
    "tags": []
   },
   "source": [
    "**Matriculation number**: Please assign your matriculation number to the variable `matriculation_number` by replacing the digits `123` in the cell below with your 8 digits matriculation number. Please do not delete the quotation marks so that the variable is a `string` and not an `int`."
   ]
  },
  {
   "cell_type": "code",
   "execution_count": null,
   "id": "724c1905-bc24-48ab-b5e9-6e57710eefe8",
   "metadata": {
    "deletable": false,
    "editable": true,
    "slideshow": {
     "slide_type": ""
    },
    "tags": []
   },
   "outputs": [],
   "source": [
    "# your 8-digits matriculation number between the quotation marks, then run the cell\n",
    "matriculation_number = \"12345678\""
   ]
  },
  {
   "cell_type": "markdown",
   "id": "c0554997-8e31-4c78-abd6-1054a085fee6",
   "metadata": {
    "deletable": false,
    "editable": false,
    "slideshow": {
     "slide_type": ""
    },
    "tags": []
   },
   "source": [
    "## Instructions (please read this part carefully)\n",
    "- This exam is carried out in this Jupyter Notebook. All tasks are part of the notebook, all your answers are saved in this notebook.\n",
    "- Please make sure that you enter your **matriculation number** in the cell above.\n",
    "- At the end of the exam **please run the last cell of this notebook** to make sure the notebook is **exported to PDF**. It is not a problem if you run this cell more than 1 time, each time you run it, the current version of the notebook is exported to PDF while the previous one is overwritten."
   ]
  },
  {
   "cell_type": "code",
   "execution_count": null,
   "id": "95520673-4d44-46ce-b4f9-ea35b0bcf4a2",
   "metadata": {
    "deletable": false,
    "editable": true,
    "slideshow": {
     "slide_type": ""
    },
    "tags": []
   },
   "outputs": [],
   "source": [
    "import pandas as pd\n",
    "import seaborn as sns\n",
    "import numpy as np\n",
    "import matplotlib.pyplot as plt\n",
    "import seaborn as sns\n",
    "import statsmodels.api as sm\n",
    "\n",
    "from ISLP.models import ModelSpec as MS\n",
    "\n",
    "from sklearn.model_selection import(\n",
    "    KFold,\n",
    "    cross_validate\n",
    ")\n",
    "\n",
    "from sklearn.linear_model import(\n",
    "    LinearRegression,\n",
    "    Lasso\n",
    ")\n",
    "\n",
    "from sklearn.pipeline import make_pipeline\n",
    "from sklearn.preprocessing import StandardScaler\n",
    "\n",
    "\n",
    "import warnings\n",
    "warnings.filterwarnings('ignore')\n",
    "\n",
    "from IPython.display import Image"
   ]
  },
  {
   "cell_type": "markdown",
   "id": "f19de40b-e9fb-43c0-9c0e-b1cdde64a6b0",
   "metadata": {
    "deletable": false,
    "editable": false,
    "slideshow": {
     "slide_type": ""
    },
    "tags": []
   },
   "source": [
    "## Introducing the dataset\n",
    "In this exam we are going to work with the `DWD` dataset which contains wheather information from different wheather stations in Germany."
   ]
  },
  {
   "cell_type": "markdown",
   "id": "36af3108-458d-46a3-96ae-28d36349c325",
   "metadata": {
    "deletable": false,
    "editable": false,
    "slideshow": {
     "slide_type": ""
    },
    "tags": []
   },
   "source": [
    "Our objective is to predict the variable **`MEAN ANNUAL RAINFALL`** based on the other variables in the dataset."
   ]
  },
  {
   "cell_type": "markdown",
   "id": "33e1e6a3-951e-43cd-bd6b-0019b17b66c2",
   "metadata": {
    "deletable": false,
    "editable": false,
    "slideshow": {
     "slide_type": ""
    },
    "tags": []
   },
   "source": [
    "The DWD data set consists of 599 rows, each of them representing a particular weather station in Germany, and 21 columns, each of them corresponding to a variable/feature related to that particular weather station. These self-explaining variables are: \n",
    "- 'DWD_ID',\n",
    "- 'STATION NAME',\n",
    "- 'FEDERAL STATE',\n",
    "- 'LAT',\n",
    "- 'LON',\n",
    "- 'ALTITUDE' above NHN, in m,\n",
    "- 'PERIOD',\n",
    "- 'RECORD LENGTH',\n",
    "- 'MEAN ANNUAL AIR TEMP' in degree Celsius,\n",
    "- 'MEAN MONTHLY MAX TEMP' in degree Celsius,\n",
    "- 'MEAN MONTHLY MIN TEMP' in degree Celsius,\n",
    "- 'MEAN ANNUAL WIND SPEED',\n",
    "- 'MEAN CLOUD COVER',\n",
    "- 'MEAN ANNUAL SUNSHINE',\n",
    "- 'MEAN ANNUAL RAINFALL' in mm,\n",
    "- 'MAX MONTHLY WIND SPEED',\n",
    "- 'MAX AIR TEMP' in degree Celsius,\n",
    "- 'MAX WIND SPEED',\n",
    "- 'MAX RAINFALL' in mm,\n",
    "- 'MIN AIR TEMP',\n",
    "- 'MEAN RANGE AIR TEMP'."
   ]
  },
  {
   "cell_type": "markdown",
   "id": "85c5c6fc-aabc-4af3-a6db-44378b39090d",
   "metadata": {
    "deletable": false,
    "editable": false,
    "slideshow": {
     "slide_type": ""
    },
    "tags": []
   },
   "source": [
    "The data was downloaded from the DWD (German Weather Service) data portal on April 21, 2017. Please note that the data set was preprocessed and columns have been renamed."
   ]
  },
  {
   "cell_type": "code",
   "execution_count": null,
   "id": "e847e899-a609-4ffd-8f18-46ac6e577524",
   "metadata": {
    "deletable": false,
    "editable": false,
    "slideshow": {
     "slide_type": ""
    },
    "tags": []
   },
   "outputs": [],
   "source": [
    "# please run this cell to load the data\n",
    "dwd = pd.read_csv(\n",
    "    'DWD.csv',\n",
    "    index_col=0,\n",
    "    sep=',',\n",
    ")\n",
    "dwd"
   ]
  },
  {
   "cell_type": "markdown",
   "id": "9d783fd3-bde0-46d8-a023-cf4a6aca8d15",
   "metadata": {
    "deletable": false,
    "editable": false,
    "slideshow": {
     "slide_type": ""
    },
    "tags": []
   },
   "source": [
    "# Part 1: Data Preprocessing and Data Exploration"
   ]
  },
  {
   "cell_type": "markdown",
   "id": "3b18069c-1910-4077-a543-cfc969289d5f",
   "metadata": {
    "deletable": false,
    "editable": false,
    "slideshow": {
     "slide_type": ""
    },
    "tags": []
   },
   "source": [
    "## Task 1 (2 points)\n",
    "In the two code cells below some very basic data preprocessing is performed. Run the cells. Then describe the preprocessing steps and explain why these steps seem reasonable with the objective in mind that we want to predict the variable `MEAN_ANNUAL_RAINFALL`.\n",
    "\n",
    "*Hint*: The documentation of the Pandas method [`dropna`](https://pandas.pydata.org/pandas-docs/stable/reference/api/pandas.DataFrame.dropna.html) might be useful."
   ]
  },
  {
   "cell_type": "code",
   "execution_count": null,
   "id": "3cf47b15-9ea6-4556-bf2b-530bec3ebbf0",
   "metadata": {
    "deletable": false,
    "editable": false,
    "slideshow": {
     "slide_type": ""
    },
    "tags": []
   },
   "outputs": [],
   "source": [
    "dwd.info()"
   ]
  },
  {
   "cell_type": "code",
   "execution_count": null,
   "id": "f8a7e35a-d0cb-427d-baf9-cae8eddb3f83",
   "metadata": {
    "deletable": false,
    "editable": false,
    "slideshow": {
     "slide_type": ""
    },
    "tags": []
   },
   "outputs": [],
   "source": [
    "# Please run this cell to perform the data preprocessing\n",
    "dwd = dwd.drop(['DWD_ID', 'STATION_NAME', 'FEDERAL_STATE', 'PERIOD'], axis=1)\n",
    "dwd = dwd.dropna()\n",
    "dwd.shape"
   ]
  },
  {
   "cell_type": "markdown",
   "id": "a73741e1-463b-4c98-9559-49c2e31f031f",
   "metadata": {
    "deletable": false,
    "editable": true,
    "slideshow": {
     "slide_type": ""
    },
    "tags": []
   },
   "source": [
    "*Put your description here*"
   ]
  },
  {
   "cell_type": "markdown",
   "id": "1bdeade3-7913-46f3-9611-52479fe23c4f",
   "metadata": {
    "deletable": false,
    "editable": false,
    "slideshow": {
     "slide_type": ""
    },
    "tags": []
   },
   "source": [
    "## Task 2 (2 points)\n",
    "Use the Pandas method [`corr`](https://pandas.pydata.org/docs/reference/api/pandas.DataFrame.corr.html) to compute the (Pearson) correlation coefficients between the variables remaining after preprocessing and our target variable `MEAN_ANNUAL_RAINFALL`.\n",
    "\n",
    "Based on this, which are your 3 top choices you would include into a regression model to predict `MEAN_ANNUAL_RAINFALL`?"
   ]
  },
  {
   "cell_type": "code",
   "execution_count": null,
   "id": "0e11353f-c89f-4a92-82a0-a8849183e548",
   "metadata": {
    "deletable": false,
    "editable": true,
    "slideshow": {
     "slide_type": ""
    },
    "tags": []
   },
   "outputs": [],
   "source": [
    "# Your code here"
   ]
  },
  {
   "cell_type": "markdown",
   "id": "5af8b602-945d-4d5f-8673-827b1bf2b975",
   "metadata": {
    "deletable": false,
    "editable": true,
    "slideshow": {
     "slide_type": ""
    },
    "tags": []
   },
   "source": [
    "*Your top 3 variables here*"
   ]
  },
  {
   "cell_type": "markdown",
   "id": "03521488-2fd0-4464-8f2c-92e934a6c65a",
   "metadata": {
    "deletable": false,
    "editable": false,
    "slideshow": {
     "slide_type": ""
    },
    "tags": []
   },
   "source": [
    "# Part 2: Modeling\n",
    "We are now going to create a baseline regression model to predict `MEAN_ANNUAL_RAINFALL`."
   ]
  },
  {
   "cell_type": "markdown",
   "id": "bfe88551-d6d7-41e6-b245-75beb2899b7f",
   "metadata": {
    "deletable": false,
    "editable": false,
    "slideshow": {
     "slide_type": ""
    },
    "tags": []
   },
   "source": [
    "## Task 3 (2 points)\n",
    "Create a simple linear regression model for the response variable `MEAN_ANNUAL_RAINFALL` using `ALTITUDE` as unique predictor. Use [`statsmodels.OLS`](https://www.statsmodels.org/dev/generated/statsmodels.regression.linear_model.OLS.html) for creating your model and use the [`summary()`](https://www.statsmodels.org/dev/generated/statsmodels.regression.linear_model.OLSResults.summary.html) method to output the summary information on your model."
   ]
  },
  {
   "cell_type": "code",
   "execution_count": null,
   "id": "88105adc-bf4c-46ec-96a0-f54d2892c894",
   "metadata": {
    "deletable": false,
    "editable": true,
    "slideshow": {
     "slide_type": ""
    },
    "tags": []
   },
   "outputs": [],
   "source": [
    "# Your code here"
   ]
  },
  {
   "cell_type": "markdown",
   "id": "d8734e5b-d6b7-4fd5-8371-b079245adc2f",
   "metadata": {
    "deletable": false,
    "editable": false,
    "slideshow": {
     "slide_type": ""
    },
    "tags": []
   },
   "source": [
    "## Task 4 (4 points)\n",
    "In this task we investigate further our baseline model."
   ]
  },
  {
   "cell_type": "markdown",
   "id": "96e0d4a0-dc26-4466-8d34-68652d16a7b1",
   "metadata": {
    "deletable": false,
    "editable": false,
    "slideshow": {
     "slide_type": ""
    },
    "tags": []
   },
   "source": [
    "### Task 4.1 (1 point)\n",
    "What is the regression coefficient for the predictor variable `ALTITUDE`? How would you explain this coefficient to a fellow student who has never heard of linear regression models?"
   ]
  },
  {
   "cell_type": "code",
   "execution_count": null,
   "id": "1dd676c1-e1d2-4975-acfd-28abf30bcb5a",
   "metadata": {
    "deletable": false,
    "editable": true,
    "slideshow": {
     "slide_type": ""
    },
    "tags": []
   },
   "outputs": [],
   "source": [
    "# Your coefficient here"
   ]
  },
  {
   "cell_type": "markdown",
   "id": "a2112638-7465-4a02-ad82-538615efbc27",
   "metadata": {
    "deletable": false,
    "editable": true,
    "slideshow": {
     "slide_type": ""
    },
    "tags": []
   },
   "source": [
    "*Your explanation of the coefficient here*"
   ]
  },
  {
   "cell_type": "markdown",
   "id": "7556d499-763c-4236-9052-9b85c003d83d",
   "metadata": {
    "deletable": false,
    "editable": false,
    "slideshow": {
     "slide_type": ""
    },
    "tags": []
   },
   "source": [
    "### Task 4.2 (1 point)\n",
    "Is there statistical evidence that there is a relationship between the predictor variable `ALTITUDE` and the response variable `MEAN_ANNUAL_RAINFALL`? Justify your answer."
   ]
  },
  {
   "cell_type": "markdown",
   "id": "880361c1-8c0a-4af0-b7f2-f2013a6412c2",
   "metadata": {
    "deletable": false,
    "editable": true,
    "slideshow": {
     "slide_type": ""
    },
    "tags": []
   },
   "source": [
    "*Your answer here*"
   ]
  },
  {
   "cell_type": "markdown",
   "id": "6a5f3e4e-96bc-4c4a-b3ee-307a7b4e55fe",
   "metadata": {
    "deletable": false,
    "editable": false,
    "slideshow": {
     "slide_type": ""
    },
    "tags": []
   },
   "source": [
    "### Task 4.3 (1 point)\n",
    "Ingolstadt lies on an average altitude of 374m above NHN. Compute your model's prediction of the yearly average rainfall at Ingolstadt.\n",
    "\n",
    "(As a side note not relevant for your answer: The true mean yearly rainfall in Ingolstadt based on average data from 2005-2015 is 574.1 mm)."
   ]
  },
  {
   "cell_type": "code",
   "execution_count": null,
   "id": "de0e0d4b-8f58-4847-a69a-14b9fba9cefc",
   "metadata": {
    "deletable": false,
    "editable": true,
    "slideshow": {
     "slide_type": ""
    },
    "tags": []
   },
   "outputs": [],
   "source": [
    "# Your code here"
   ]
  },
  {
   "cell_type": "markdown",
   "id": "da8537de-6f90-457b-a642-fd2449dfdf7b",
   "metadata": {
    "deletable": false,
    "editable": false,
    "slideshow": {
     "slide_type": ""
    },
    "tags": []
   },
   "source": [
    "### Task 4.4 (1 point)\n",
    "What is your overall assessment of the model (taking into account the model summary produced in Task 3, the regression plot and the residual plot visualized below)?"
   ]
  },
  {
   "cell_type": "code",
   "execution_count": 6,
   "id": "10c8433b-0071-4dc3-a057-a5c52baeeb61",
   "metadata": {
    "deletable": false,
    "editable": false,
    "slideshow": {
     "slide_type": ""
    },
    "tags": []
   },
   "outputs": [
    {
     "data": {
      "image/png": "[encoded data removed]",
      "text/plain": [
       "<IPython.core.display.Image object>"
      ]
     },
     "execution_count": 6,
     "metadata": {},
     "output_type": "execute_result"
    }
   ],
   "source": [
    "# run this cell in case no image is displayed\n",
    "Image(filename='regression_plot.png') "
   ]
  },
  {
   "cell_type": "code",
   "execution_count": 7,
   "id": "ca70c67e-f16d-43a4-81c9-2a7b9e5fafa2",
   "metadata": {
    "deletable": false,
    "slideshow": {
     "slide_type": ""
    },
    "tags": []
   },
   "outputs": [
    {
     "data": {
      "image/png": "[encoded data removed]",
      "text/plain": [
       "<IPython.core.display.Image object>"
      ]
     },
     "execution_count": 7,
     "metadata": {},
     "output_type": "execute_result"
    }
   ],
   "source": [
    "# run this cell in case no image is displayed\n",
    "Image(filename='residual_plot.png') "
   ]
  },
  {
   "cell_type": "markdown",
   "id": "e3c11909-703e-4e6b-824f-929f4f5f7621",
   "metadata": {
    "deletable": false,
    "editable": false,
    "slideshow": {
     "slide_type": ""
    },
    "tags": []
   },
   "source": [
    "*Your assessment here*"
   ]
  },
  {
   "cell_type": "markdown",
   "id": "03217015-de30-4327-8f1b-aa7d749280df",
   "metadata": {
    "deletable": false,
    "editable": false,
    "slideshow": {
     "slide_type": ""
    },
    "tags": []
   },
   "source": [
    "# Part 3: Comparing various models\n",
    "In this section we compare different models with $5$-fold cross validation."
   ]
  },
  {
   "cell_type": "markdown",
   "id": "0a1a8f9e-4d4a-46ab-b518-5764a61f004e",
   "metadata": {
    "deletable": false,
    "editable": false,
    "slideshow": {
     "slide_type": ""
    },
    "tags": []
   },
   "source": [
    "## Task 5 (2 points)\n",
    "Estimate the test error of our baseline model from Part 2 (simple linear regression to predict `MEAN_ANNUAL_RAINFALL` based on the single predictor `ALTITUDE`) using $5$-fold cross validation. Make sure your data is shuffled before doing cross validation.\n",
    "\n",
    "*Comments*: \n",
    "- We use [`sklearn.model_selection.KFold`](https://scikit-learn.org/stable/modules/generated/sklearn.model_selection.KFold.html) as a cross validator.\n",
    "- We use [`sklearn.model_selection.cross_validate`](https://scikit-learn.org/stable/modules/generated/sklearn.model_selection.cross_validate.html) to compute the cross validation test errors.\n",
    "- Note that we use the scoring metric `neg_mean_squared_error` (see the [overview of Metrics and scoring](https://scikit-learn.org/stable/modules/model_evaluation.html)) which produces negative values for reasons of consistency within ScikitLearn.\n",
    "- For consistency with subsequent tasks we use [`sklearn.linearmodels.LinearRegression`](https://scikit-learn.org/stable/modules/generated/sklearn.linear_model.LinearRegression.html) instead of `sm.OLS` for the simple linear regression model."
   ]
  },
  {
   "cell_type": "code",
   "execution_count": null,
   "id": "7f8e5ee5-7b6a-4065-b251-f6870e819ba1",
   "metadata": {
    "deletable": false,
    "editable": true,
    "slideshow": {
     "slide_type": ""
    },
    "tags": []
   },
   "outputs": [],
   "source": [
    "# In this cell, replace ... with your code\n",
    "cross_val = KFold(...)\n",
    "model = LinearRegression()\n",
    "X = dwd[['ALTITUDE']] # note: Sklearn wants a DataFrame not a Series as X, which is why we use a double square bracket\n",
    "y = dwd.MEAN_ANNUAL_RAINFALL\n",
    "cv_results = cross_validate(model,\n",
    "                           X,\n",
    "                           y,\n",
    "                           cv = cross_val,\n",
    "                           scoring = 'neg_mean_squared_error')\n",
    "cv_err_baseline = ...\n",
    "cv_err_baseline"
   ]
  },
  {
   "cell_type": "markdown",
   "id": "9f67bb58-5d95-482d-8521-174baeae30e7",
   "metadata": {
    "deletable": false,
    "editable": false,
    "slideshow": {
     "slide_type": ""
    },
    "tags": []
   },
   "source": [
    "## Task 6 (1 point)\n",
    "In Task 7 we are going to train a Lasso model. Before doing so, we need to preprocess our data using the sklearn [`StandardScaler`](https://scikit-learn.org/stable/modules/generated/sklearn.preprocessing.StandardScaler.html) which will be part of a sklearn [`pipeline`](https://scikit-learn.org/stable/modules/generated/sklearn.pipeline.Pipeline.html).\n",
    "\n",
    "Explain what the `StandardScaler` does to the data and **why** it is necessary to perform this step before training a Lasso model."
   ]
  },
  {
   "cell_type": "markdown",
   "id": "14e43e16-48ec-4e07-ae02-7be70552ede0",
   "metadata": {
    "deletable": false,
    "editable": true,
    "slideshow": {
     "slide_type": ""
    },
    "tags": []
   },
   "source": [
    "*Your explanation here*"
   ]
  },
  {
   "cell_type": "markdown",
   "id": "6c9db4fa-5758-4f12-9152-7c23e9186413",
   "metadata": {
    "deletable": false,
    "editable": false,
    "slideshow": {
     "slide_type": ""
    },
    "tags": []
   },
   "source": [
    "## Task 7 (1 point)\n",
    "In the cell below, a vector `cv_err_Lasso` is computed. Run the cell. Then provide a detailed explanation of the entries of this vector."
   ]
  },
  {
   "cell_type": "code",
   "execution_count": null,
   "id": "7aa18587-8560-4e64-9284-9198ed9ef320",
   "metadata": {
    "deletable": false,
    "editable": false,
    "slideshow": {
     "slide_type": ""
    },
    "tags": []
   },
   "outputs": [],
   "source": [
    "# Just run this cell. Do not change it.\n",
    "alphas_L = np.arange(0.5, 2, 0.01)\n",
    "n = len(alphas_L)\n",
    "cv_err_Lasso = np.zeros(len(alphas_L))\n",
    "\n",
    "cv = KFold(n_splits = 5,\n",
    "                  shuffle = True,\n",
    "                  random_state = 42)\n",
    "\n",
    "X = dwd.drop(['MEAN_ANNUAL_RAINFALL'], axis=1)\n",
    "\n",
    "for i in range(n):\n",
    "    a = alphas_L[i]\n",
    "    model = make_pipeline(StandardScaler(), Lasso(alpha=a))\n",
    "    cv_results = cross_validate(model,\n",
    "                               X,\n",
    "                               y,\n",
    "                               cv = cv,\n",
    "                               scoring = 'neg_mean_squared_error')\n",
    "    cv_err_Lasso[i] = - np.mean(cv_results['test_score'])"
   ]
  },
  {
   "cell_type": "markdown",
   "id": "34bec373-35cf-4e44-bf85-dcd718171eb8",
   "metadata": {
    "deletable": false,
    "editable": true,
    "slideshow": {
     "slide_type": ""
    },
    "tags": []
   },
   "source": [
    "*Your explanation here*"
   ]
  },
  {
   "cell_type": "markdown",
   "id": "cd89aa2b-fcfb-4231-8a21-11e0ed8d8919",
   "metadata": {
    "deletable": false,
    "editable": false,
    "slideshow": {
     "slide_type": ""
    },
    "tags": []
   },
   "source": [
    "## Task 8 (1 point)\n",
    "Based on what you have seen above: Which model would you use to predict `MEAN_ANNUAL_RAINFALL` with the predictors given in the `DWD` dataset? Provide all parameters necessary to train this model."
   ]
  },
  {
   "cell_type": "code",
   "execution_count": null,
   "id": "7afaf781-d800-491e-836f-3f961ad2571d",
   "metadata": {
    "editable": true,
    "slideshow": {
     "slide_type": ""
    },
    "tags": []
   },
   "outputs": [],
   "source": [
    "# Free space for code if needed"
   ]
  },
  {
   "cell_type": "markdown",
   "id": "8a4839f1-dfbe-42a5-9867-f7a956b832db",
   "metadata": {
    "deletable": false,
    "editable": true,
    "slideshow": {
     "slide_type": ""
    },
    "tags": []
   },
   "source": [
    "*Your answer here*"
   ]
  },
  {
   "cell_type": "markdown",
   "id": "d7ab7080-9d82-46f8-b53a-1b18e055486a",
   "metadata": {
    "deletable": true,
    "editable": true,
    "slideshow": {
     "slide_type": ""
    },
    "tags": []
   },
   "source": [
    "# Part 4: Conceptual questions"
   ]
  },
  {
   "cell_type": "markdown",
   "id": "1b2523cb-e0d8-43e0-b972-996139fe938f",
   "metadata": {
    "deletable": false,
    "editable": false,
    "slideshow": {
     "slide_type": ""
    },
    "tags": []
   },
   "source": [
    "## Task 9 (2 points)\n",
    "Assume you train a logistic regression model to predict if it is raining in the following day ($y=1$) or not ($y=0$) based on three predictors: \n",
    "- $x_1 = \\text{cumulated amount of rain in the past 24 hours}$,\n",
    "- $x_2 = \\text{summer}$ (dummy-encoded with $1$ meaning it is currently summer) and\n",
    "- $x_3 = \\text{percentage of cloud cover in the past 24 hours}$. \n",
    "\n",
    "The estimated coefficients of your model are $\\beta_0  = 0, \\beta_1 = 0.02, \\beta_2 = 0.015, \\beta_3 = 0.02$. What does your model predict on a winter day if $x_1 = 10$ and $x_3 = 80$? Justify your answer."
   ]
  },
  {
   "cell_type": "code",
   "execution_count": null,
   "id": "deee669a-3e47-4a53-b11a-016897099718",
   "metadata": {
    "deletable": false,
    "editable": true,
    "slideshow": {
     "slide_type": ""
    },
    "tags": []
   },
   "outputs": [],
   "source": [
    "# Free space for code if needed"
   ]
  },
  {
   "cell_type": "markdown",
   "id": "ad0045f1-01cc-416e-ad38-3c875525ed8e",
   "metadata": {
    "deletable": false,
    "editable": true,
    "slideshow": {
     "slide_type": ""
    },
    "tags": []
   },
   "source": [
    "*Your answer here*"
   ]
  },
  {
   "cell_type": "markdown",
   "id": "be80a1a5-97f7-4317-9440-dfb66d87840b",
   "metadata": {
    "deletable": false,
    "editable": false,
    "slideshow": {
     "slide_type": ""
    },
    "tags": []
   },
   "source": [
    "## Task 10 (3 points)\n",
    "Assume you have trained a simple linear regression model to estimate the mean yearly rainfall depending of a location based on its altitude. Explain carefully all steps you would need to perform in oder to estimate the standard deviation of your model's prediction for the city of Ingolstadt located a an altitude of 374m using **the bootstrap**."
   ]
  },
  {
   "cell_type": "markdown",
   "id": "2f4eab05-e348-4765-8658-500e364ffb20",
   "metadata": {
    "deletable": false,
    "editable": true,
    "slideshow": {
     "slide_type": ""
    },
    "tags": []
   },
   "source": [
    "*Your answer here*"
   ]
  },
  {
   "cell_type": "markdown",
   "id": "b19ed8d1-c750-4da0-b792-1b86331e9287",
   "metadata": {
    "deletable": false,
    "editable": false,
    "slideshow": {
     "slide_type": ""
    },
    "tags": []
   },
   "source": [
    "# Part 5: Handing your exam in"
   ]
  },
  {
   "cell_type": "markdown",
   "id": "ea2fea34-05a6-4501-af60-05b40c261301",
   "metadata": {
    "deletable": false,
    "editable": false,
    "slideshow": {
     "slide_type": ""
    },
    "tags": []
   },
   "source": [
    "## Task 11 (0 points)\n",
    "Save your final Notebook by pressing \"File\"->\"Save Notebook\". Make sure you assigned your 8 digits matriculation number as a string to the variable `matriculation_number` in one of the first cells of this notebook.  \n",
    "\n",
    "After this, run the cell below to export you Notebook to PDF format."
   ]
  },
  {
   "cell_type": "code",
   "execution_count": null,
   "id": "4a8c7e4f-924c-4e7a-a6dd-9dff2d52b36d",
   "metadata": {
    "deletable": false,
    "editable": false,
    "slideshow": {
     "slide_type": ""
    },
    "tags": []
   },
   "outputs": [],
   "source": [
    "filename = str(matriculation_number) + '_exam.pdf'\n",
    "!jupyter nbconvert Exam.ipynb --to pdf --output $filename"
   ]
  },
  {
   "cell_type": "markdown",
   "id": "d5b30a56-eaef-4332-8356-a47d479a273b",
   "metadata": {
    "deletable": false,
    "editable": false,
    "slideshow": {
     "slide_type": ""
    },
    "tags": []
   },
   "source": [
    "---\n",
    "\n",
    "**Copyright note**: The dataset, the prerpocessing and the idea for this case study are taken from the SOGA-Py project of the Department of Earth Sciences from Freie Universität Berlin by Annette Rudolph, Joachim Krios and Kai Hartmann. They are shared under a Creative Commons license."
   ]
  }
 ],
 "metadata": {
  "kernelspec": {
   "display_name": "Python 3 (ipykernel)",
   "language": "python",
   "name": "python3"
  },
  "language_info": {
   "codemirror_mode": {
    "name": "ipython",
    "version": 3
   },
   "file_extension": ".py",
   "mimetype": "text/x-python",
   "name": "python",
   "nbconvert_exporter": "python",
   "pygments_lexer": "ipython3",
   "version": "3.9.7"
  }
 },
 "nbformat": 4,
 "nbformat_minor": 5
}
