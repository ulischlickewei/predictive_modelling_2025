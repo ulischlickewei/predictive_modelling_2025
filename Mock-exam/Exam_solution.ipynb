{
 "cells": [
  {
   "cell_type": "markdown",
   "id": "e11bc03b-53d9-406d-8542-e3a75821e123",
   "metadata": {
    "deletable": false,
    "editable": false,
    "slideshow": {
     "slide_type": ""
    },
    "tags": []
   },
   "source": [
    "# Predictive modeling - final exam summer term 2024"
   ]
  },
  {
   "cell_type": "markdown",
   "id": "4e4190cd-8dd7-49f4-b17b-0b571c600aeb",
   "metadata": {
    "deletable": false,
    "editable": false,
    "slideshow": {
     "slide_type": ""
    },
    "tags": []
   },
   "source": [
    "**Date**: 6.7.2024"
   ]
  },
  {
   "cell_type": "markdown",
   "id": "afc617b9-1a7e-4c30-9ae0-ba7c40031645",
   "metadata": {
    "deletable": false,
    "editable": false,
    "slideshow": {
     "slide_type": ""
    },
    "tags": []
   },
   "source": [
    "**Matriculation number**: Please assign your matriculation number to the variable `matriculation_number` by replacing the digits `123` in the cell below with your 8 digits matriculation number. Please do not delete the quotation marks so that the variable is a `string` and not an `int`."
   ]
  },
  {
   "cell_type": "code",
   "execution_count": 1,
   "id": "724c1905-bc24-48ab-b5e9-6e57710eefe8",
   "metadata": {
    "deletable": false,
    "editable": true,
    "slideshow": {
     "slide_type": ""
    },
    "tags": []
   },
   "outputs": [],
   "source": [
    "# your 8-digits matriculation number between the quotation marks, then run the cell\n",
    "matriculation_number = \"12345678\""
   ]
  },
  {
   "cell_type": "markdown",
   "id": "c0554997-8e31-4c78-abd6-1054a085fee6",
   "metadata": {
    "deletable": false,
    "editable": false,
    "slideshow": {
     "slide_type": ""
    },
    "tags": []
   },
   "source": [
    "## Instructions (please read this part carefully)\n",
    "- This exam is carried out in this Jupyter Notebook. All tasks are part of the notebook, all your answers are saved in this notebook.\n",
    "- Please make sure that you enter your **matriculation number** in the cell above.\n",
    "- At the end of the exam **please run the last cell of this notebook** to make sure the notebook is **exported to PDF**. It is not a problem if you run this cell more than 1 time, each time you run it, the current version of the notebook is exported to PDF while the previous one is overwritten."
   ]
  },
  {
   "cell_type": "code",
   "execution_count": 2,
   "id": "95520673-4d44-46ce-b4f9-ea35b0bcf4a2",
   "metadata": {
    "deletable": false,
    "editable": true,
    "slideshow": {
     "slide_type": ""
    },
    "tags": []
   },
   "outputs": [],
   "source": [
    "import pandas as pd\n",
    "import seaborn as sns\n",
    "import numpy as np\n",
    "import matplotlib.pyplot as plt\n",
    "import seaborn as sns\n",
    "import statsmodels.api as sm\n",
    "\n",
    "from ISLP.models import ModelSpec as MS\n",
    "\n",
    "from sklearn.model_selection import(\n",
    "    KFold,\n",
    "    cross_validate\n",
    ")\n",
    "\n",
    "from sklearn.linear_model import(\n",
    "    LinearRegression,\n",
    "    Lasso\n",
    ")\n",
    "\n",
    "from sklearn.pipeline import make_pipeline\n",
    "from sklearn.preprocessing import StandardScaler\n",
    "\n",
    "\n",
    "import warnings\n",
    "warnings.filterwarnings('ignore')"
   ]
  },
  {
   "cell_type": "markdown",
   "id": "f19de40b-e9fb-43c0-9c0e-b1cdde64a6b0",
   "metadata": {
    "editable": false,
    "slideshow": {
     "slide_type": ""
    },
    "tags": []
   },
   "source": [
    "## Introducing the dataset\n",
    "In this exam we are going to work with the `DWD` dataset which contains wheather information from different wheather stations in Germany."
   ]
  },
  {
   "cell_type": "markdown",
   "id": "36af3108-458d-46a3-96ae-28d36349c325",
   "metadata": {
    "editable": true,
    "slideshow": {
     "slide_type": ""
    },
    "tags": []
   },
   "source": [
    "Our objective is to predict the variable **`MEAN ANNUAL RAINFALL`** based on the other variables in the dataset."
   ]
  },
  {
   "cell_type": "markdown",
   "id": "33e1e6a3-951e-43cd-bd6b-0019b17b66c2",
   "metadata": {
    "editable": true,
    "slideshow": {
     "slide_type": ""
    },
    "tags": []
   },
   "source": [
    "The DWD data set consists of 599 rows, each of them representing a particular weather station in Germany, and 21 columns, each of them corresponding to a variable/feature related to that particular weather station. These self-explaining variables are: \n",
    "- 'DWD_ID',\n",
    "- 'STATION NAME',\n",
    "- 'FEDERAL STATE',\n",
    "- 'LAT',\n",
    "- 'LON',\n",
    "- 'ALTITUDE' above NHN, in m,\n",
    "- 'PERIOD',\n",
    "- 'RECORD LENGTH',\n",
    "- 'MEAN ANNUAL AIR TEMP' in degree Celsius,\n",
    "- 'MEAN MONTHLY MAX TEMP' in degree Celsius,\n",
    "- 'MEAN MONTHLY MIN TEMP' in degree Celsius,\n",
    "- 'MEAN ANNUAL WIND SPEED',\n",
    "- 'MEAN CLOUD COVER',\n",
    "- 'MEAN ANNUAL SUNSHINE',\n",
    "- 'MEAN ANNUAL RAINFALL' in mm,\n",
    "- 'MAX MONTHLY WIND SPEED',\n",
    "- 'MAX AIR TEMP' in degree Celsius,\n",
    "- 'MAX WIND SPEED',\n",
    "- 'MAX RAINFALL' in mm,\n",
    "- 'MIN AIR TEMP',\n",
    "- 'MEAN RANGE AIR TEMP'."
   ]
  },
  {
   "cell_type": "markdown",
   "id": "85c5c6fc-aabc-4af3-a6db-44378b39090d",
   "metadata": {
    "editable": true,
    "slideshow": {
     "slide_type": ""
    },
    "tags": []
   },
   "source": [
    "The data was downloaded from the DWD (German Weather Service) data portal on April 21, 2017. Please note that the data set was preprocessed and columns have been renamed."
   ]
  },
  {
   "cell_type": "code",
   "execution_count": 3,
   "id": "e847e899-a609-4ffd-8f18-46ac6e577524",
   "metadata": {
    "deletable": false,
    "editable": false,
    "slideshow": {
     "slide_type": ""
    },
    "tags": []
   },
   "outputs": [
    {
     "data": {
      "text/html": [
       "<div>\n",
       "<style scoped>\n",
       "    .dataframe tbody tr th:only-of-type {\n",
       "        vertical-align: middle;\n",
       "    }\n",
       "\n",
       "    .dataframe tbody tr th {\n",
       "        vertical-align: top;\n",
       "    }\n",
       "\n",
       "    .dataframe thead th {\n",
       "        text-align: right;\n",
       "    }\n",
       "</style>\n",
       "<table border=\"1\" class=\"dataframe\">\n",
       "  <thead>\n",
       "    <tr style=\"text-align: right;\">\n",
       "      <th></th>\n",
       "      <th>DWD_ID</th>\n",
       "      <th>STATION_NAME</th>\n",
       "      <th>FEDERAL_STATE</th>\n",
       "      <th>LAT</th>\n",
       "      <th>LON</th>\n",
       "      <th>ALTITUDE</th>\n",
       "      <th>PERIOD</th>\n",
       "      <th>RECORD_LENGTH</th>\n",
       "      <th>MEAN_ANNUAL_AIR_TEMP</th>\n",
       "      <th>MEAN_MONTHLY_MAX_TEMP</th>\n",
       "      <th>...</th>\n",
       "      <th>MEAN_ANNUAL_WIND_SPEED</th>\n",
       "      <th>MEAN_CLOUD_COVER</th>\n",
       "      <th>MEAN_ANNUAL_SUNSHINE</th>\n",
       "      <th>MEAN_ANNUAL_RAINFALL</th>\n",
       "      <th>MAX_MONTHLY_WIND_SPEED</th>\n",
       "      <th>MAX_AIR_TEMP</th>\n",
       "      <th>MAX_WIND_SPEED</th>\n",
       "      <th>MAX_RAINFALL</th>\n",
       "      <th>MIN_AIR_TEMP</th>\n",
       "      <th>MEAN_RANGE_AIR_TEMP</th>\n",
       "    </tr>\n",
       "    <tr>\n",
       "      <th>ID</th>\n",
       "      <th></th>\n",
       "      <th></th>\n",
       "      <th></th>\n",
       "      <th></th>\n",
       "      <th></th>\n",
       "      <th></th>\n",
       "      <th></th>\n",
       "      <th></th>\n",
       "      <th></th>\n",
       "      <th></th>\n",
       "      <th></th>\n",
       "      <th></th>\n",
       "      <th></th>\n",
       "      <th></th>\n",
       "      <th></th>\n",
       "      <th></th>\n",
       "      <th></th>\n",
       "      <th></th>\n",
       "      <th></th>\n",
       "      <th></th>\n",
       "      <th></th>\n",
       "    </tr>\n",
       "  </thead>\n",
       "  <tbody>\n",
       "    <tr>\n",
       "      <th>0</th>\n",
       "      <td>1</td>\n",
       "      <td>Aach</td>\n",
       "      <td>Baden-Württemberg</td>\n",
       "      <td>47.8413</td>\n",
       "      <td>8.8493</td>\n",
       "      <td>478.0</td>\n",
       "      <td>1931-1986</td>\n",
       "      <td>55</td>\n",
       "      <td>8.2</td>\n",
       "      <td>13.1</td>\n",
       "      <td>...</td>\n",
       "      <td>2.0</td>\n",
       "      <td>67.0</td>\n",
       "      <td>NaN</td>\n",
       "      <td>755.0</td>\n",
       "      <td>2.0</td>\n",
       "      <td>32.5</td>\n",
       "      <td>NaN</td>\n",
       "      <td>39.0</td>\n",
       "      <td>-16.3</td>\n",
       "      <td>9.6</td>\n",
       "    </tr>\n",
       "    <tr>\n",
       "      <th>1</th>\n",
       "      <td>3</td>\n",
       "      <td>Aachen</td>\n",
       "      <td>Nordrhein-Westfalen</td>\n",
       "      <td>50.7827</td>\n",
       "      <td>6.0941</td>\n",
       "      <td>202.0</td>\n",
       "      <td>1851-2011</td>\n",
       "      <td>160</td>\n",
       "      <td>9.8</td>\n",
       "      <td>13.6</td>\n",
       "      <td>...</td>\n",
       "      <td>3.0</td>\n",
       "      <td>67.0</td>\n",
       "      <td>1531.0</td>\n",
       "      <td>820.0</td>\n",
       "      <td>3.0</td>\n",
       "      <td>32.3</td>\n",
       "      <td>30.2</td>\n",
       "      <td>36.0</td>\n",
       "      <td>-10.9</td>\n",
       "      <td>7.3</td>\n",
       "    </tr>\n",
       "    <tr>\n",
       "      <th>2</th>\n",
       "      <td>44</td>\n",
       "      <td>Großenkneten</td>\n",
       "      <td>Niedersachsen</td>\n",
       "      <td>52.9335</td>\n",
       "      <td>8.2370</td>\n",
       "      <td>44.0</td>\n",
       "      <td>1971-2016</td>\n",
       "      <td>45</td>\n",
       "      <td>9.2</td>\n",
       "      <td>13.2</td>\n",
       "      <td>...</td>\n",
       "      <td>2.0</td>\n",
       "      <td>67.0</td>\n",
       "      <td>1459.0</td>\n",
       "      <td>759.0</td>\n",
       "      <td>3.0</td>\n",
       "      <td>32.4</td>\n",
       "      <td>29.9</td>\n",
       "      <td>32.0</td>\n",
       "      <td>-12.6</td>\n",
       "      <td>7.8</td>\n",
       "    </tr>\n",
       "    <tr>\n",
       "      <th>6</th>\n",
       "      <td>71</td>\n",
       "      <td>Albstadt-Badkap</td>\n",
       "      <td>Baden-Württemberg</td>\n",
       "      <td>48.2156</td>\n",
       "      <td>8.9784</td>\n",
       "      <td>759.0</td>\n",
       "      <td>1986-2016</td>\n",
       "      <td>30</td>\n",
       "      <td>7.4</td>\n",
       "      <td>12.2</td>\n",
       "      <td>...</td>\n",
       "      <td>2.0</td>\n",
       "      <td>66.0</td>\n",
       "      <td>1725.0</td>\n",
       "      <td>919.0</td>\n",
       "      <td>2.0</td>\n",
       "      <td>30.2</td>\n",
       "      <td>NaN</td>\n",
       "      <td>43.0</td>\n",
       "      <td>-15.5</td>\n",
       "      <td>8.9</td>\n",
       "    </tr>\n",
       "    <tr>\n",
       "      <th>8</th>\n",
       "      <td>73</td>\n",
       "      <td>Aldersbach-Kriestorf</td>\n",
       "      <td>Bayern</td>\n",
       "      <td>48.6159</td>\n",
       "      <td>13.0506</td>\n",
       "      <td>340.0</td>\n",
       "      <td>1952-2016</td>\n",
       "      <td>64</td>\n",
       "      <td>8.4</td>\n",
       "      <td>13.4</td>\n",
       "      <td>...</td>\n",
       "      <td>1.0</td>\n",
       "      <td>65.0</td>\n",
       "      <td>1595.0</td>\n",
       "      <td>790.0</td>\n",
       "      <td>2.0</td>\n",
       "      <td>33.0</td>\n",
       "      <td>NaN</td>\n",
       "      <td>43.0</td>\n",
       "      <td>-19.2</td>\n",
       "      <td>9.5</td>\n",
       "    </tr>\n",
       "    <tr>\n",
       "      <th>...</th>\n",
       "      <td>...</td>\n",
       "      <td>...</td>\n",
       "      <td>...</td>\n",
       "      <td>...</td>\n",
       "      <td>...</td>\n",
       "      <td>...</td>\n",
       "      <td>...</td>\n",
       "      <td>...</td>\n",
       "      <td>...</td>\n",
       "      <td>...</td>\n",
       "      <td>...</td>\n",
       "      <td>...</td>\n",
       "      <td>...</td>\n",
       "      <td>...</td>\n",
       "      <td>...</td>\n",
       "      <td>...</td>\n",
       "      <td>...</td>\n",
       "      <td>...</td>\n",
       "      <td>...</td>\n",
       "      <td>...</td>\n",
       "      <td>...</td>\n",
       "    </tr>\n",
       "    <tr>\n",
       "      <th>999</th>\n",
       "      <td>6314</td>\n",
       "      <td>Nossen</td>\n",
       "      <td>Sachsen</td>\n",
       "      <td>51.0507</td>\n",
       "      <td>13.3003</td>\n",
       "      <td>308.0</td>\n",
       "      <td>1949-2016</td>\n",
       "      <td>67</td>\n",
       "      <td>8.5</td>\n",
       "      <td>12.7</td>\n",
       "      <td>...</td>\n",
       "      <td>3.0</td>\n",
       "      <td>57.0</td>\n",
       "      <td>1605.0</td>\n",
       "      <td>657.0</td>\n",
       "      <td>3.0</td>\n",
       "      <td>32.6</td>\n",
       "      <td>25.5</td>\n",
       "      <td>41.0</td>\n",
       "      <td>-17.8</td>\n",
       "      <td>8.2</td>\n",
       "    </tr>\n",
       "    <tr>\n",
       "      <th>1009</th>\n",
       "      <td>7135</td>\n",
       "      <td>Aulendorf-Haslach</td>\n",
       "      <td>Baden-Württemberg</td>\n",
       "      <td>47.9655</td>\n",
       "      <td>9.6804</td>\n",
       "      <td>565.0</td>\n",
       "      <td>1950-2004</td>\n",
       "      <td>54</td>\n",
       "      <td>7.8</td>\n",
       "      <td>12.3</td>\n",
       "      <td>...</td>\n",
       "      <td>2.0</td>\n",
       "      <td>70.0</td>\n",
       "      <td>1635.0</td>\n",
       "      <td>875.0</td>\n",
       "      <td>3.0</td>\n",
       "      <td>31.1</td>\n",
       "      <td>NaN</td>\n",
       "      <td>42.0</td>\n",
       "      <td>-17.5</td>\n",
       "      <td>8.6</td>\n",
       "    </tr>\n",
       "    <tr>\n",
       "      <th>1011</th>\n",
       "      <td>7244</td>\n",
       "      <td>Neuglobsow (HM)</td>\n",
       "      <td>Brandenburg</td>\n",
       "      <td>53.1424</td>\n",
       "      <td>13.0319</td>\n",
       "      <td>62.0</td>\n",
       "      <td>1967-2004</td>\n",
       "      <td>37</td>\n",
       "      <td>8.2</td>\n",
       "      <td>12.4</td>\n",
       "      <td>...</td>\n",
       "      <td>2.0</td>\n",
       "      <td>68.0</td>\n",
       "      <td>1325.0</td>\n",
       "      <td>567.0</td>\n",
       "      <td>2.0</td>\n",
       "      <td>32.0</td>\n",
       "      <td>22.3</td>\n",
       "      <td>34.0</td>\n",
       "      <td>-14.9</td>\n",
       "      <td>8.0</td>\n",
       "    </tr>\n",
       "    <tr>\n",
       "      <th>1054</th>\n",
       "      <td>14311</td>\n",
       "      <td>Hersdorf-Weißenseifen</td>\n",
       "      <td>Rheinland-Pfalz</td>\n",
       "      <td>50.1505</td>\n",
       "      <td>6.5526</td>\n",
       "      <td>530.0</td>\n",
       "      <td>1958-2005</td>\n",
       "      <td>47</td>\n",
       "      <td>7.3</td>\n",
       "      <td>11.1</td>\n",
       "      <td>...</td>\n",
       "      <td>2.0</td>\n",
       "      <td>73.0</td>\n",
       "      <td>1428.0</td>\n",
       "      <td>997.0</td>\n",
       "      <td>3.0</td>\n",
       "      <td>29.7</td>\n",
       "      <td>NaN</td>\n",
       "      <td>38.0</td>\n",
       "      <td>-13.3</td>\n",
       "      <td>7.1</td>\n",
       "    </tr>\n",
       "    <tr>\n",
       "      <th>1058</th>\n",
       "      <td>15526</td>\n",
       "      <td>Hamburg (Deutsche Seewarte)</td>\n",
       "      <td>Hamburg</td>\n",
       "      <td>53.5467</td>\n",
       "      <td>9.9716</td>\n",
       "      <td>29.0</td>\n",
       "      <td>1881-1935</td>\n",
       "      <td>54</td>\n",
       "      <td>8.6</td>\n",
       "      <td>11.8</td>\n",
       "      <td>...</td>\n",
       "      <td>3.0</td>\n",
       "      <td>69.0</td>\n",
       "      <td>NaN</td>\n",
       "      <td>734.0</td>\n",
       "      <td>4.0</td>\n",
       "      <td>30.3</td>\n",
       "      <td>NaN</td>\n",
       "      <td>34.0</td>\n",
       "      <td>-11.2</td>\n",
       "      <td>6.3</td>\n",
       "    </tr>\n",
       "  </tbody>\n",
       "</table>\n",
       "<p>599 rows × 21 columns</p>\n",
       "</div>"
      ],
      "text/plain": [
       "      DWD_ID                 STATION_NAME        FEDERAL_STATE      LAT  \\\n",
       "ID                                                                        \n",
       "0          1                         Aach    Baden-Württemberg  47.8413   \n",
       "1          3                       Aachen  Nordrhein-Westfalen  50.7827   \n",
       "2         44                 Großenkneten        Niedersachsen  52.9335   \n",
       "6         71              Albstadt-Badkap    Baden-Württemberg  48.2156   \n",
       "8         73         Aldersbach-Kriestorf               Bayern  48.6159   \n",
       "...      ...                          ...                  ...      ...   \n",
       "999     6314                       Nossen              Sachsen  51.0507   \n",
       "1009    7135            Aulendorf-Haslach    Baden-Württemberg  47.9655   \n",
       "1011    7244              Neuglobsow (HM)          Brandenburg  53.1424   \n",
       "1054   14311        Hersdorf-Weißenseifen      Rheinland-Pfalz  50.1505   \n",
       "1058   15526  Hamburg (Deutsche Seewarte)              Hamburg  53.5467   \n",
       "\n",
       "          LON  ALTITUDE     PERIOD  RECORD_LENGTH  MEAN_ANNUAL_AIR_TEMP  \\\n",
       "ID                                                                        \n",
       "0      8.8493     478.0  1931-1986             55                   8.2   \n",
       "1      6.0941     202.0  1851-2011            160                   9.8   \n",
       "2      8.2370      44.0  1971-2016             45                   9.2   \n",
       "6      8.9784     759.0  1986-2016             30                   7.4   \n",
       "8     13.0506     340.0  1952-2016             64                   8.4   \n",
       "...       ...       ...        ...            ...                   ...   \n",
       "999   13.3003     308.0  1949-2016             67                   8.5   \n",
       "1009   9.6804     565.0  1950-2004             54                   7.8   \n",
       "1011  13.0319      62.0  1967-2004             37                   8.2   \n",
       "1054   6.5526     530.0  1958-2005             47                   7.3   \n",
       "1058   9.9716      29.0  1881-1935             54                   8.6   \n",
       "\n",
       "      MEAN_MONTHLY_MAX_TEMP  ...  MEAN_ANNUAL_WIND_SPEED  MEAN_CLOUD_COVER  \\\n",
       "ID                           ...                                             \n",
       "0                      13.1  ...                     2.0              67.0   \n",
       "1                      13.6  ...                     3.0              67.0   \n",
       "2                      13.2  ...                     2.0              67.0   \n",
       "6                      12.2  ...                     2.0              66.0   \n",
       "8                      13.4  ...                     1.0              65.0   \n",
       "...                     ...  ...                     ...               ...   \n",
       "999                    12.7  ...                     3.0              57.0   \n",
       "1009                   12.3  ...                     2.0              70.0   \n",
       "1011                   12.4  ...                     2.0              68.0   \n",
       "1054                   11.1  ...                     2.0              73.0   \n",
       "1058                   11.8  ...                     3.0              69.0   \n",
       "\n",
       "      MEAN_ANNUAL_SUNSHINE  MEAN_ANNUAL_RAINFALL  MAX_MONTHLY_WIND_SPEED  \\\n",
       "ID                                                                         \n",
       "0                      NaN                 755.0                     2.0   \n",
       "1                   1531.0                 820.0                     3.0   \n",
       "2                   1459.0                 759.0                     3.0   \n",
       "6                   1725.0                 919.0                     2.0   \n",
       "8                   1595.0                 790.0                     2.0   \n",
       "...                    ...                   ...                     ...   \n",
       "999                 1605.0                 657.0                     3.0   \n",
       "1009                1635.0                 875.0                     3.0   \n",
       "1011                1325.0                 567.0                     2.0   \n",
       "1054                1428.0                 997.0                     3.0   \n",
       "1058                   NaN                 734.0                     4.0   \n",
       "\n",
       "      MAX_AIR_TEMP  MAX_WIND_SPEED  MAX_RAINFALL  MIN_AIR_TEMP  \\\n",
       "ID                                                               \n",
       "0             32.5             NaN          39.0         -16.3   \n",
       "1             32.3            30.2          36.0         -10.9   \n",
       "2             32.4            29.9          32.0         -12.6   \n",
       "6             30.2             NaN          43.0         -15.5   \n",
       "8             33.0             NaN          43.0         -19.2   \n",
       "...            ...             ...           ...           ...   \n",
       "999           32.6            25.5          41.0         -17.8   \n",
       "1009          31.1             NaN          42.0         -17.5   \n",
       "1011          32.0            22.3          34.0         -14.9   \n",
       "1054          29.7             NaN          38.0         -13.3   \n",
       "1058          30.3             NaN          34.0         -11.2   \n",
       "\n",
       "      MEAN_RANGE_AIR_TEMP  \n",
       "ID                         \n",
       "0                     9.6  \n",
       "1                     7.3  \n",
       "2                     7.8  \n",
       "6                     8.9  \n",
       "8                     9.5  \n",
       "...                   ...  \n",
       "999                   8.2  \n",
       "1009                  8.6  \n",
       "1011                  8.0  \n",
       "1054                  7.1  \n",
       "1058                  6.3  \n",
       "\n",
       "[599 rows x 21 columns]"
      ]
     },
     "execution_count": 3,
     "metadata": {},
     "output_type": "execute_result"
    }
   ],
   "source": [
    "# please run this cell to load the data\n",
    "dwd = pd.read_csv(\n",
    "    'DWD.csv',\n",
    "    index_col=0,\n",
    "    sep=',',\n",
    ")\n",
    "dwd"
   ]
  },
  {
   "cell_type": "markdown",
   "id": "9d783fd3-bde0-46d8-a023-cf4a6aca8d15",
   "metadata": {
    "deletable": false,
    "editable": false,
    "slideshow": {
     "slide_type": ""
    },
    "tags": []
   },
   "source": [
    "# Part 1: Data Preprocessing and Data Exploration"
   ]
  },
  {
   "cell_type": "markdown",
   "id": "3b18069c-1910-4077-a543-cfc969289d5f",
   "metadata": {
    "deletable": false,
    "editable": false,
    "slideshow": {
     "slide_type": ""
    },
    "tags": []
   },
   "source": [
    "## Task 1 (2 points)\n",
    "In the two code cells below some very basic data preprocessing is performed. Describe the preprocessing steps and explain why these steps seem reasonable with the objective in mind that we want to predict the variable `MEAN_ANNUAL_RAINFALL`.\n",
    "\n",
    "*Hint*: The documentation of the Pandas method [`dropna`](https://pandas.pydata.org/pandas-docs/stable/reference/api/pandas.DataFrame.dropna.html) might be useful."
   ]
  },
  {
   "cell_type": "code",
   "execution_count": 4,
   "id": "3cf47b15-9ea6-4556-bf2b-530bec3ebbf0",
   "metadata": {
    "deletable": false,
    "editable": false,
    "slideshow": {
     "slide_type": ""
    },
    "tags": []
   },
   "outputs": [
    {
     "name": "stdout",
     "output_type": "stream",
     "text": [
      "<class 'pandas.core.frame.DataFrame'>\n",
      "Int64Index: 599 entries, 0 to 1058\n",
      "Data columns (total 21 columns):\n",
      " #   Column                  Non-Null Count  Dtype  \n",
      "---  ------                  --------------  -----  \n",
      " 0   DWD_ID                  599 non-null    int64  \n",
      " 1   STATION_NAME            599 non-null    object \n",
      " 2   FEDERAL_STATE           599 non-null    object \n",
      " 3   LAT                     599 non-null    float64\n",
      " 4   LON                     599 non-null    float64\n",
      " 5   ALTITUDE                599 non-null    float64\n",
      " 6   PERIOD                  599 non-null    object \n",
      " 7   RECORD_LENGTH           599 non-null    int64  \n",
      " 8   MEAN_ANNUAL_AIR_TEMP    598 non-null    float64\n",
      " 9   MEAN_MONTHLY_MAX_TEMP   597 non-null    float64\n",
      " 10  MEAN_MONTHLY_MIN_TEMP   595 non-null    float64\n",
      " 11  MEAN_ANNUAL_WIND_SPEED  588 non-null    float64\n",
      " 12  MEAN_CLOUD_COVER        588 non-null    float64\n",
      " 13  MEAN_ANNUAL_SUNSHINE    406 non-null    float64\n",
      " 14  MEAN_ANNUAL_RAINFALL    586 non-null    float64\n",
      " 15  MAX_MONTHLY_WIND_SPEED  588 non-null    float64\n",
      " 16  MAX_AIR_TEMP            597 non-null    float64\n",
      " 17  MAX_WIND_SPEED          219 non-null    float64\n",
      " 18  MAX_RAINFALL            585 non-null    float64\n",
      " 19  MIN_AIR_TEMP            597 non-null    float64\n",
      " 20  MEAN_RANGE_AIR_TEMP     599 non-null    float64\n",
      "dtypes: float64(16), int64(2), object(3)\n",
      "memory usage: 103.0+ KB\n"
     ]
    }
   ],
   "source": [
    "dwd.info()"
   ]
  },
  {
   "cell_type": "code",
   "execution_count": 5,
   "id": "f8a7e35a-d0cb-427d-baf9-cae8eddb3f83",
   "metadata": {
    "deletable": false,
    "editable": false,
    "slideshow": {
     "slide_type": ""
    },
    "tags": []
   },
   "outputs": [
    {
     "data": {
      "text/plain": [
       "(204, 17)"
      ]
     },
     "execution_count": 5,
     "metadata": {},
     "output_type": "execute_result"
    }
   ],
   "source": [
    "# Please run this cell to perform the data preprocessing\n",
    "dwd = dwd.drop(['DWD_ID', 'STATION_NAME', 'FEDERAL_STATE', 'PERIOD'], axis=1)\n",
    "dwd = dwd.dropna()\n",
    "dwd.shape"
   ]
  },
  {
   "cell_type": "markdown",
   "id": "a73741e1-463b-4c98-9559-49c2e31f031f",
   "metadata": {
    "deletable": false,
    "editable": true,
    "slideshow": {
     "slide_type": ""
    },
    "tags": []
   },
   "source": [
    "*Put your description here*\n",
    "\n",
    "**SOLUTION**:\n",
    "- First we drop 4 qualitative columns (`DWD_ID`, `STATION_NAME`, `FEDERAL_STATE` and `PERIOD`) which are likely not to be related to our target variable.\n",
    "- Secondly, we drop all samples which have missing values. This is we do not know how to use samples with missing data when training a model. "
   ]
  },
  {
   "cell_type": "markdown",
   "id": "1bdeade3-7913-46f3-9611-52479fe23c4f",
   "metadata": {
    "deletable": false,
    "editable": false,
    "slideshow": {
     "slide_type": ""
    },
    "tags": []
   },
   "source": [
    "## Task 2 (2 points)\n",
    "Use the Pandas method [`corr`](https://pandas.pydata.org/docs/reference/api/pandas.DataFrame.corr.html) to compute the (Pearson) correlation coefficients between the variables remaining after preprocessing and our target variable `MEAN_ANNUAL_RAINFALL`.\n",
    "\n",
    "Based on this, which are your 3 top choices you would include into a regression model to predict `MEAN_ANNUAL_RAINFALL`?"
   ]
  },
  {
   "cell_type": "code",
   "execution_count": 6,
   "id": "0e11353f-c89f-4a92-82a0-a8849183e548",
   "metadata": {
    "deletable": false,
    "editable": true,
    "slideshow": {
     "slide_type": ""
    },
    "tags": []
   },
   "outputs": [
    {
     "data": {
      "text/plain": [
       "MEAN_ANNUAL_AIR_TEMP     -0.647005\n",
       "MAX_AIR_TEMP             -0.591738\n",
       "MEAN_MONTHLY_MAX_TEMP    -0.585887\n",
       "MEAN_MONTHLY_MIN_TEMP    -0.564027\n",
       "LAT                      -0.441395\n",
       "LON                      -0.278280\n",
       "MEAN_RANGE_AIR_TEMP      -0.215098\n",
       "MIN_AIR_TEMP             -0.158892\n",
       "RECORD_LENGTH            -0.043960\n",
       "MEAN_ANNUAL_SUNSHINE     -0.006196\n",
       "MAX_MONTHLY_WIND_SPEED    0.142531\n",
       "MEAN_ANNUAL_WIND_SPEED    0.148666\n",
       "MAX_WIND_SPEED            0.200972\n",
       "MEAN_CLOUD_COVER          0.302243\n",
       "ALTITUDE                  0.758532\n",
       "MAX_RAINFALL              0.858771\n",
       "MEAN_ANNUAL_RAINFALL      1.000000\n",
       "Name: MEAN_ANNUAL_RAINFALL, dtype: float64"
      ]
     },
     "execution_count": 6,
     "metadata": {},
     "output_type": "execute_result"
    }
   ],
   "source": [
    "# Your code here\n",
    "\n",
    "# SOLUTION \n",
    "dwd.corr()['MEAN_ANNUAL_RAINFALL'].sort_values()"
   ]
  },
  {
   "cell_type": "markdown",
   "id": "5af8b602-945d-4d5f-8673-827b1bf2b975",
   "metadata": {
    "deletable": false,
    "editable": true,
    "slideshow": {
     "slide_type": ""
    },
    "tags": []
   },
   "source": [
    "*Your top 3 variables here*\n",
    "\n",
    "**SOLUTION**: The three variables with the strongest (positive or negative) correlation are:\n",
    "1. `MAX_RAINFALL`\n",
    "2. `ALTITUDE`\n",
    "3. `MEAN_ANNUAL_AIR_TEMP`"
   ]
  },
  {
   "cell_type": "markdown",
   "id": "03521488-2fd0-4464-8f2c-92e934a6c65a",
   "metadata": {
    "deletable": false,
    "editable": false,
    "slideshow": {
     "slide_type": ""
    },
    "tags": []
   },
   "source": [
    "# Part 2: Modeling\n",
    "We are now going to create a baseline regression model to predict `MEAN_ANNUAL_RAINFALL`."
   ]
  },
  {
   "cell_type": "markdown",
   "id": "bfe88551-d6d7-41e6-b245-75beb2899b7f",
   "metadata": {
    "deletable": false,
    "editable": false,
    "slideshow": {
     "slide_type": ""
    },
    "tags": []
   },
   "source": [
    "## Task 3 (2 points)\n",
    "Create a simple linear regression model for the response variable `MEAN_ANNUAL_RAINFALL` using `ALTITUDE` as unique predictor. Use [`statsmodels.OLS`](https://www.statsmodels.org/dev/generated/statsmodels.regression.linear_model.OLS.html) for creating your model and use the [`summary()`](https://www.statsmodels.org/dev/generated/statsmodels.regression.linear_model.OLSResults.summary.html) method to output the summary information on your model."
   ]
  },
  {
   "cell_type": "code",
   "execution_count": 6,
   "id": "88105adc-bf4c-46ec-96a0-f54d2892c894",
   "metadata": {
    "deletable": false,
    "editable": true,
    "slideshow": {
     "slide_type": ""
    },
    "tags": []
   },
   "outputs": [
    {
     "data": {
      "text/html": [
       "<table class=\"simpletable\">\n",
       "<caption>OLS Regression Results</caption>\n",
       "<tr>\n",
       "  <th>Dep. Variable:</th>    <td>MEAN_ANNUAL_RAINFALL</td> <th>  R-squared:         </th> <td>   0.575</td>\n",
       "</tr>\n",
       "<tr>\n",
       "  <th>Model:</th>                     <td>OLS</td>         <th>  Adj. R-squared:    </th> <td>   0.573</td>\n",
       "</tr>\n",
       "<tr>\n",
       "  <th>Method:</th>               <td>Least Squares</td>    <th>  F-statistic:       </th> <td>   273.7</td>\n",
       "</tr>\n",
       "<tr>\n",
       "  <th>Date:</th>               <td>Tue, 01 Jul 2025</td>   <th>  Prob (F-statistic):</th> <td>1.98e-39</td>\n",
       "</tr>\n",
       "<tr>\n",
       "  <th>Time:</th>                   <td>08:33:55</td>       <th>  Log-Likelihood:    </th> <td> -1313.0</td>\n",
       "</tr>\n",
       "<tr>\n",
       "  <th>No. Observations:</th>        <td>   204</td>        <th>  AIC:               </th> <td>   2630.</td>\n",
       "</tr>\n",
       "<tr>\n",
       "  <th>Df Residuals:</th>            <td>   202</td>        <th>  BIC:               </th> <td>   2637.</td>\n",
       "</tr>\n",
       "<tr>\n",
       "  <th>Df Model:</th>                <td>     1</td>        <th>                     </th>     <td> </td>   \n",
       "</tr>\n",
       "<tr>\n",
       "  <th>Covariance Type:</th>        <td>nonrobust</td>      <th>                     </th>     <td> </td>   \n",
       "</tr>\n",
       "</table>\n",
       "<table class=\"simpletable\">\n",
       "<tr>\n",
       "      <td></td>         <th>coef</th>     <th>std err</th>      <th>t</th>      <th>P>|t|</th>  <th>[0.025</th>    <th>0.975]</th>  \n",
       "</tr>\n",
       "<tr>\n",
       "  <th>intercept</th> <td>  594.4032</td> <td>   14.015</td> <td>   42.411</td> <td> 0.000</td> <td>  566.768</td> <td>  622.038</td>\n",
       "</tr>\n",
       "<tr>\n",
       "  <th>ALTITUDE</th>  <td>    0.5935</td> <td>    0.036</td> <td>   16.544</td> <td> 0.000</td> <td>    0.523</td> <td>    0.664</td>\n",
       "</tr>\n",
       "</table>\n",
       "<table class=\"simpletable\">\n",
       "<tr>\n",
       "  <th>Omnibus:</th>       <td>25.146</td> <th>  Durbin-Watson:     </th> <td>   1.859</td>\n",
       "</tr>\n",
       "<tr>\n",
       "  <th>Prob(Omnibus):</th> <td> 0.000</td> <th>  Jarque-Bera (JB):  </th> <td>  34.672</td>\n",
       "</tr>\n",
       "<tr>\n",
       "  <th>Skew:</th>          <td> 0.760</td> <th>  Prob(JB):          </th> <td>2.96e-08</td>\n",
       "</tr>\n",
       "<tr>\n",
       "  <th>Kurtosis:</th>      <td> 4.329</td> <th>  Cond. No.          </th> <td>    515.</td>\n",
       "</tr>\n",
       "</table><br/><br/>Notes:<br/>[1] Standard Errors assume that the covariance matrix of the errors is correctly specified."
      ],
      "text/latex": [
       "\\begin{center}\n",
       "\\begin{tabular}{lclc}\n",
       "\\toprule\n",
       "\\textbf{Dep. Variable:}    & MEAN\\_ANNUAL\\_RAINFALL & \\textbf{  R-squared:         } &     0.575   \\\\\n",
       "\\textbf{Model:}            &          OLS           & \\textbf{  Adj. R-squared:    } &     0.573   \\\\\n",
       "\\textbf{Method:}           &     Least Squares      & \\textbf{  F-statistic:       } &     273.7   \\\\\n",
       "\\textbf{Date:}             &    Tue, 01 Jul 2025    & \\textbf{  Prob (F-statistic):} &  1.98e-39   \\\\\n",
       "\\textbf{Time:}             &        08:33:55        & \\textbf{  Log-Likelihood:    } &   -1313.0   \\\\\n",
       "\\textbf{No. Observations:} &            204         & \\textbf{  AIC:               } &     2630.   \\\\\n",
       "\\textbf{Df Residuals:}     &            202         & \\textbf{  BIC:               } &     2637.   \\\\\n",
       "\\textbf{Df Model:}         &              1         & \\textbf{                     } &             \\\\\n",
       "\\textbf{Covariance Type:}  &       nonrobust        & \\textbf{                     } &             \\\\\n",
       "\\bottomrule\n",
       "\\end{tabular}\n",
       "\\begin{tabular}{lcccccc}\n",
       "                   & \\textbf{coef} & \\textbf{std err} & \\textbf{t} & \\textbf{P$> |$t$|$} & \\textbf{[0.025} & \\textbf{0.975]}  \\\\\n",
       "\\midrule\n",
       "\\textbf{intercept} &     594.4032  &       14.015     &    42.411  &         0.000        &      566.768    &      622.038     \\\\\n",
       "\\textbf{ALTITUDE}  &       0.5935  &        0.036     &    16.544  &         0.000        &        0.523    &        0.664     \\\\\n",
       "\\bottomrule\n",
       "\\end{tabular}\n",
       "\\begin{tabular}{lclc}\n",
       "\\textbf{Omnibus:}       & 25.146 & \\textbf{  Durbin-Watson:     } &    1.859  \\\\\n",
       "\\textbf{Prob(Omnibus):} &  0.000 & \\textbf{  Jarque-Bera (JB):  } &   34.672  \\\\\n",
       "\\textbf{Skew:}          &  0.760 & \\textbf{  Prob(JB):          } & 2.96e-08  \\\\\n",
       "\\textbf{Kurtosis:}      &  4.329 & \\textbf{  Cond. No.          } &     515.  \\\\\n",
       "\\bottomrule\n",
       "\\end{tabular}\n",
       "%\\caption{OLS Regression Results}\n",
       "\\end{center}\n",
       "\n",
       "Notes: \\newline\n",
       " [1] Standard Errors assume that the covariance matrix of the errors is correctly specified."
      ],
      "text/plain": [
       "<class 'statsmodels.iolib.summary.Summary'>\n",
       "\"\"\"\n",
       "                             OLS Regression Results                             \n",
       "================================================================================\n",
       "Dep. Variable:     MEAN_ANNUAL_RAINFALL   R-squared:                       0.575\n",
       "Model:                              OLS   Adj. R-squared:                  0.573\n",
       "Method:                   Least Squares   F-statistic:                     273.7\n",
       "Date:                  Tue, 01 Jul 2025   Prob (F-statistic):           1.98e-39\n",
       "Time:                          08:33:55   Log-Likelihood:                -1313.0\n",
       "No. Observations:                   204   AIC:                             2630.\n",
       "Df Residuals:                       202   BIC:                             2637.\n",
       "Df Model:                             1                                         \n",
       "Covariance Type:              nonrobust                                         \n",
       "==============================================================================\n",
       "                 coef    std err          t      P>|t|      [0.025      0.975]\n",
       "------------------------------------------------------------------------------\n",
       "intercept    594.4032     14.015     42.411      0.000     566.768     622.038\n",
       "ALTITUDE       0.5935      0.036     16.544      0.000       0.523       0.664\n",
       "==============================================================================\n",
       "Omnibus:                       25.146   Durbin-Watson:                   1.859\n",
       "Prob(Omnibus):                  0.000   Jarque-Bera (JB):               34.672\n",
       "Skew:                           0.760   Prob(JB):                     2.96e-08\n",
       "Kurtosis:                       4.329   Cond. No.                         515.\n",
       "==============================================================================\n",
       "\n",
       "Notes:\n",
       "[1] Standard Errors assume that the covariance matrix of the errors is correctly specified.\n",
       "\"\"\""
      ]
     },
     "execution_count": 6,
     "metadata": {},
     "output_type": "execute_result"
    }
   ],
   "source": [
    "# Your code here\n",
    "\n",
    "# SOLUTION\n",
    "predictors = ['ALTITUDE']\n",
    "design = MS(predictors)\n",
    "design.fit(dwd)\n",
    "X = design.transform(dwd)\n",
    "y = dwd['MEAN_ANNUAL_RAINFALL']\n",
    "\n",
    "model = sm.OLS(y,X)\n",
    "results = model.fit()\n",
    "results.summary()"
   ]
  },
  {
   "cell_type": "markdown",
   "id": "d8734e5b-d6b7-4fd5-8371-b079245adc2f",
   "metadata": {
    "deletable": false,
    "editable": false,
    "slideshow": {
     "slide_type": ""
    },
    "tags": []
   },
   "source": [
    "## Task 4 (4 points)\n",
    "In this task we investigate further our baseline model."
   ]
  },
  {
   "cell_type": "markdown",
   "id": "96e0d4a0-dc26-4466-8d34-68652d16a7b1",
   "metadata": {
    "deletable": false,
    "editable": false,
    "slideshow": {
     "slide_type": ""
    },
    "tags": []
   },
   "source": [
    "### Task 4.1 (1 point)\n",
    "What is the regression coefficient for the predictor variable `ALTITUDE`? How would you explain this coefficient to a fellow student who has never heard of linear regression models?"
   ]
  },
  {
   "cell_type": "code",
   "execution_count": 8,
   "id": "1dd676c1-e1d2-4975-acfd-28abf30bcb5a",
   "metadata": {
    "deletable": false,
    "editable": true,
    "slideshow": {
     "slide_type": ""
    },
    "tags": []
   },
   "outputs": [
    {
     "data": {
      "text/plain": [
       "0.5934938365335676"
      ]
     },
     "execution_count": 8,
     "metadata": {},
     "output_type": "execute_result"
    }
   ],
   "source": [
    "# Your coefficient here\n",
    "\n",
    "# SOLUTION\n",
    "altitude_coefficient = results.params['ALTITUDE']\n",
    "altitude_coefficient"
   ]
  },
  {
   "cell_type": "markdown",
   "id": "a2112638-7465-4a02-ad82-538615efbc27",
   "metadata": {
    "deletable": false,
    "editable": true,
    "slideshow": {
     "slide_type": ""
    },
    "tags": []
   },
   "source": [
    "*Your explanation of the coefficient here*\n",
    "\n",
    "**SOLUTION**:\n",
    "The coefficient is approximately 0.59. This means that our model predicts that for each additional meter of altitude, the yearly mean rainfall increases by 0.59mm."
   ]
  },
  {
   "cell_type": "markdown",
   "id": "7556d499-763c-4236-9052-9b85c003d83d",
   "metadata": {
    "editable": false,
    "slideshow": {
     "slide_type": ""
    },
    "tags": []
   },
   "source": [
    "### Task 4.2 (1 point)\n",
    "Is there statistical evidence that there is a relationship between the predictor variable `ALTITUDE` and the response variable `MEAN_ANNUAL_RAINFALL`? Justify your answer."
   ]
  },
  {
   "cell_type": "markdown",
   "id": "880361c1-8c0a-4af0-b7f2-f2013a6412c2",
   "metadata": {
    "deletable": false,
    "editable": true,
    "slideshow": {
     "slide_type": ""
    },
    "tags": []
   },
   "source": [
    "*Your answer here*\n",
    "\n",
    "**SOLUTION**:\n",
    "The $p$-value for the regression coefficient of `ALTITUDE` estimated by our model is smaller than $10^{-3}$. Thus, we can confidently say that there is statistical evidence of a positive relationship between `ALTITUDE` and `MEAN_ANNUAL_RAINFALL`."
   ]
  },
  {
   "cell_type": "markdown",
   "id": "6a5f3e4e-96bc-4c4a-b3ee-307a7b4e55fe",
   "metadata": {
    "deletable": false,
    "editable": false,
    "slideshow": {
     "slide_type": ""
    },
    "tags": []
   },
   "source": [
    "### Task 4.3 (1 point)\n",
    "Ingolstadt lies on an average altitude of 374m above NHN. Compute your model's prediction of the yearly average rainfall at Ingolstadt.\n",
    "\n",
    "(As a side note not relevant for your answer: The true mean yearly rainfall in Ingolstadt based on average data from 2005-2015 is 574.1 mm)."
   ]
  },
  {
   "cell_type": "code",
   "execution_count": 9,
   "id": "de0e0d4b-8f58-4847-a69a-14b9fba9cefc",
   "metadata": {
    "deletable": false,
    "editable": true,
    "slideshow": {
     "slide_type": ""
    },
    "tags": []
   },
   "outputs": [
    {
     "data": {
      "text/plain": [
       "0    816.369908\n",
       "dtype: float64"
      ]
     },
     "execution_count": 9,
     "metadata": {},
     "output_type": "execute_result"
    }
   ],
   "source": [
    "# Your code here\n",
    "\n",
    "# SOLUTION\n",
    "new_data = pd.DataFrame({\n",
    "    'ALTITUDE' : [374]\n",
    "})\n",
    "newX = design.transform(new_data)\n",
    "IN_prediction = results.predict(newX)\n",
    "IN_prediction"
   ]
  },
  {
   "cell_type": "markdown",
   "id": "da8537de-6f90-457b-a642-fd2449dfdf7b",
   "metadata": {
    "editable": false,
    "slideshow": {
     "slide_type": ""
    },
    "tags": []
   },
   "source": [
    "### Task 4.4 (1 point)\n",
    "What is your overall assessment of the model (taking into account the model summary produced in Task 3, the regression plot and the residual plot produced by running the two cells below)?"
   ]
  },
  {
   "cell_type": "code",
   "execution_count": 7,
   "id": "10d75972-8e98-4112-822d-6d3f2003f1bf",
   "metadata": {
    "deletable": false,
    "editable": true,
    "slideshow": {
     "slide_type": ""
    },
    "tags": []
   },
   "outputs": [
    {
     "data": {
      "image/png": "[encoded data removed]",
      "text/plain": [
       "<Figure size 1000x600 with 1 Axes>"
      ]
     },
     "metadata": {},
     "output_type": "display_data"
    }
   ],
   "source": [
    "# Run this cell to produce a regression plot\n",
    "fig, ax = plt.subplots(figsize=(10,6))\n",
    "resid = results.resid\n",
    "y_true = y\n",
    "sns.regplot(x = 'ALTITUDE',\n",
    "            y = 'MEAN_ANNUAL_RAINFALL',\n",
    "            data = dwd,\n",
    "            ci = 0,\n",
    "            label = 'Data');\n",
    "sm.graphics.abline_plot(model_results=results, ax=ax, color=\"red\", label=\"Regression line\")\n",
    "ax.set_xlabel('Altitude');\n",
    "ax.set_ylabel('Annual rainfall');\n",
    "ax.legend(loc=\"best\");\n",
    "ax.set_title(\"Regression plot\");\n",
    "plt.savefig('regression_plot.png')"
   ]
  },
  {
   "cell_type": "code",
   "execution_count": 8,
   "id": "63ac5711-4823-407b-b0e1-bdee29ae8168",
   "metadata": {
    "deletable": false,
    "slideshow": {
     "slide_type": ""
    },
    "tags": []
   },
   "outputs": [
    {
     "data": {
      "image/png": "[encoded data removed]",
      "text/plain": [
       "<Figure size 1000x600 with 1 Axes>"
      ]
     },
     "metadata": {},
     "output_type": "display_data"
    }
   ],
   "source": [
    "fig, ax = plt.subplots(figsize=(10,6))\n",
    "resid = results.resid\n",
    "y_true = y\n",
    "sns.residplot(x = y_true,\n",
    "              y = resid,\n",
    "              lowess = True); #fits a curve through the residuals\n",
    "ax.set_xlabel('True mean annual rainfall');\n",
    "ax.set_ylabel('Residuals: y_predicted - y_true');\n",
    "ax.set_title('Residual plot');\n",
    "plt.savefig('residual_plot.png')"
   ]
  },
  {
   "cell_type": "markdown",
   "id": "e3c11909-703e-4e6b-824f-929f4f5f7621",
   "metadata": {
    "deletable": false,
    "editable": true,
    "slideshow": {
     "slide_type": ""
    },
    "tags": []
   },
   "source": [
    "*Your assessment here*\n",
    "\n",
    "**SOLUTION**:\n",
    "Taking into account the $R$-value of 0.575 and the two plots, the model looks like a valid baseline model.\n",
    "\n",
    "However, the two plots also show some deficiencies of the model. For example, it seems that there are many datapoints with `ALTITUDE` value close to zero. The model's predictive power is obviously not very strong for these datapoints."
   ]
  },
  {
   "cell_type": "markdown",
   "id": "03217015-de30-4327-8f1b-aa7d749280df",
   "metadata": {
    "deletable": false,
    "editable": false,
    "slideshow": {
     "slide_type": ""
    },
    "tags": []
   },
   "source": [
    "# Part 3: Comparing various models\n",
    "In this section we compare different models with $5$-fold cross validation."
   ]
  },
  {
   "cell_type": "markdown",
   "id": "0a1a8f9e-4d4a-46ab-b518-5764a61f004e",
   "metadata": {
    "deletable": false,
    "editable": false,
    "slideshow": {
     "slide_type": ""
    },
    "tags": []
   },
   "source": [
    "## Task 5 (2 points)\n",
    "Estimate the test error of our baseline model from Part 2 (simple linear regression to predict `MEAN_ANNUAL_RAINFALL` based on the single predictor `ALTITUDE`) using $5$-fold cross validation. Make sure your data is shuffled before doing cross validation.\n",
    "\n",
    "*Comments*: \n",
    "- We use [`sklearn.model_selection.KFold`](https://scikit-learn.org/stable/modules/generated/sklearn.model_selection.KFold.html) as a cross validator.\n",
    "- We use [`sklearn.model_selection.cross_validate`](https://scikit-learn.org/stable/modules/generated/sklearn.model_selection.cross_validate.html) to compute the cross validation test errors.\n",
    "- Note that we use the scoring metric `neg_mean_squared_error` (see the [overview of Metrics and scoring](https://scikit-learn.org/stable/modules/model_evaluation.html)) which produces negative values for reasons of consistency within ScikitLearn.\n",
    "- For consistency with subsequent tasks we use [`sklearn.linearmodels.LinearRegression`](https://scikit-learn.org/stable/modules/generated/sklearn.linear_model.LinearRegression.html) instead of `sm.OLS` for the simple linear regression model."
   ]
  },
  {
   "cell_type": "code",
   "execution_count": 13,
   "id": "7f8e5ee5-7b6a-4065-b251-f6870e819ba1",
   "metadata": {
    "deletable": false,
    "editable": true,
    "slideshow": {
     "slide_type": ""
    },
    "tags": []
   },
   "outputs": [
    {
     "data": {
      "text/plain": [
       "23171.92008598669"
      ]
     },
     "execution_count": 13,
     "metadata": {},
     "output_type": "execute_result"
    }
   ],
   "source": [
    "# In this cell, replace ... with your code\n",
    "#cross_val = KFold(...)\n",
    "cross_val = KFold(n_splits = 5, # SOLUTION\n",
    "                  shuffle = True,\n",
    "                  random_state = 42)\n",
    "model = LinearRegression()\n",
    "X = dwd[['ALTITUDE']] # note: Sklearn wants a DataFrame not a Series as X, which is why we use a double square bracket\n",
    "y = dwd.MEAN_ANNUAL_RAINFALL\n",
    "cv_results = cross_validate(model,\n",
    "                           X,\n",
    "                           y,\n",
    "                           cv = cross_val,\n",
    "                           scoring = 'neg_mean_squared_error')\n",
    "#cv_err_baseline = ...\n",
    "cv_err_baseline = -np.mean(cv_results['test_score']) # SOLUTION\n",
    "cv_err_baseline"
   ]
  },
  {
   "cell_type": "markdown",
   "id": "9f67bb58-5d95-482d-8521-174baeae30e7",
   "metadata": {
    "deletable": false,
    "editable": true,
    "slideshow": {
     "slide_type": ""
    },
    "tags": []
   },
   "source": [
    "## Task 6 (1 point)\n",
    "In Task 7 we are going to train a Lasso model. Before doing so, we need to preprocess our data using the sklearn [`StandardScaler`](https://scikit-learn.org/stable/modules/generated/sklearn.preprocessing.StandardScaler.html) which will be part of a sklearn [`pipeline`](https://scikit-learn.org/stable/modules/generated/sklearn.pipeline.Pipeline.html).\n",
    "\n",
    "Explain what the `StandardScaler` does to the data and **why** it is necessary to perform this step before training a Lasso model."
   ]
  },
  {
   "cell_type": "markdown",
   "id": "14e43e16-48ec-4e07-ae02-7be70552ede0",
   "metadata": {
    "deletable": false,
    "editable": true,
    "slideshow": {
     "slide_type": ""
    },
    "tags": []
   },
   "source": [
    "*Your explanation here*\n",
    "\n",
    "**SOLUTION**:\n",
    "The standard scaler standardizes each variable, that is, from each variable it subtracts the mean and divides by the standard deviation so that all variables have mean 0 and standard deviation 1. This is necessary to make sure that all variables are on the same scale which is important because otherwise the Lasso functional penalizes variables on different scales differently, i.e. Lasso would inherently prefer to include variables on a bigger scale as opposed to variables on a smaller scale."
   ]
  },
  {
   "cell_type": "markdown",
   "id": "6c9db4fa-5758-4f12-9152-7c23e9186413",
   "metadata": {
    "deletable": false,
    "editable": false,
    "slideshow": {
     "slide_type": ""
    },
    "tags": []
   },
   "source": [
    "## Task 7 (1 point)\n",
    "In the cell below, a vector `cv_err_Lasso` is computed. Provide a detailed explanation of the entries of this vector."
   ]
  },
  {
   "cell_type": "code",
   "execution_count": 13,
   "id": "7aa18587-8560-4e64-9284-9198ed9ef320",
   "metadata": {
    "deletable": false,
    "editable": false,
    "slideshow": {
     "slide_type": ""
    },
    "tags": []
   },
   "outputs": [],
   "source": [
    "# Just run this cell. Do not change it.\n",
    "alphas_L = np.arange(0.5, 2, 0.01)\n",
    "n = len(alphas_L)\n",
    "cv_err_Lasso = np.zeros(len(alphas_L))\n",
    "\n",
    "cv = KFold(n_splits = 5,\n",
    "                  shuffle = True,\n",
    "                  random_state = 42)\n",
    "\n",
    "X = dwd.drop(['MEAN_ANNUAL_RAINFALL'], axis=1)\n",
    "\n",
    "for i in range(n):\n",
    "    a = alphas_L[i]\n",
    "    model = make_pipeline(StandardScaler(), Lasso(alpha=a))\n",
    "    cv_results = cross_validate(model,\n",
    "                               X,\n",
    "                               y,\n",
    "                               cv = cv,\n",
    "                               scoring = 'neg_mean_squared_error')\n",
    "    cv_err_Lasso[i] = - np.mean(cv_results['test_score'])"
   ]
  },
  {
   "cell_type": "markdown",
   "id": "34bec373-35cf-4e44-bf85-dcd718171eb8",
   "metadata": {
    "deletable": false,
    "editable": true,
    "slideshow": {
     "slide_type": ""
    },
    "tags": []
   },
   "source": [
    "*Your explanation here*\n",
    "\n",
    "**Solution**:\n",
    "The vector contains the estimated test MSE using 5-fold cross validation of Lasso models using all variables as predictors for values of $\\lambda$ ranging from $0.5$ to $2$ in steps of $0.01$."
   ]
  },
  {
   "cell_type": "markdown",
   "id": "cd89aa2b-fcfb-4231-8a21-11e0ed8d8919",
   "metadata": {
    "deletable": false,
    "editable": false,
    "slideshow": {
     "slide_type": ""
    },
    "tags": []
   },
   "source": [
    "## Task 8 (1 point)\n",
    "Based on what you have seen above: Which model would you use to predict `MEAN_ANNUAL_RAINFALL` with the predictors given in the `DWD` dataset? Provide all parameters necessary to train this model."
   ]
  },
  {
   "cell_type": "code",
   "execution_count": 14,
   "id": "7afaf781-d800-491e-836f-3f961ad2571d",
   "metadata": {
    "editable": true,
    "slideshow": {
     "slide_type": ""
    },
    "tags": []
   },
   "outputs": [
    {
     "data": {
      "text/plain": [
       "5873.111736188736"
      ]
     },
     "execution_count": 14,
     "metadata": {},
     "output_type": "execute_result"
    }
   ],
   "source": [
    "# Space for code if needed\n",
    "\n",
    "## SOLUTION\n",
    "alpha = alphas_L[np.argmin(cv_err_Lasso)]\n",
    "alpha\n",
    "\n",
    "cv_err_Lasso[np.argmin(cv_err_Lasso)]"
   ]
  },
  {
   "cell_type": "markdown",
   "id": "8a4839f1-dfbe-42a5-9867-f7a956b832db",
   "metadata": {
    "editable": true,
    "slideshow": {
     "slide_type": ""
    },
    "tags": []
   },
   "source": [
    "*Your answer here*\n",
    "\n",
    "**SOLUTION**\n",
    "The best model is a Lasso model involving all predictors and using the parameter $\\lambda = 1.88$. This model has an estimated test MSE of 5.873 compared to 23.172 for the baseline mode."
   ]
  },
  {
   "cell_type": "markdown",
   "id": "d7ab7080-9d82-46f8-b53a-1b18e055486a",
   "metadata": {
    "editable": true,
    "slideshow": {
     "slide_type": ""
    },
    "tags": []
   },
   "source": [
    "# Part 4: Conceptual questions"
   ]
  },
  {
   "cell_type": "markdown",
   "id": "1b2523cb-e0d8-43e0-b972-996139fe938f",
   "metadata": {
    "deletable": false,
    "editable": false,
    "slideshow": {
     "slide_type": ""
    },
    "tags": []
   },
   "source": [
    "## Task 9 (2 points)\n",
    "Assume you train a logistic regression model to predict if it is raining in the following day ($y=1$) or not ($y=0$) based on three predictors: \n",
    "- $x_1 = \\text{cumulated amount of rain in the past 24 hours}$,\n",
    "- $x_2 = \\text{summer}$ (dummy-encoded with $1$ meaning it is currently summer) and\n",
    "- $x_3 = \\text{percentage of cloud cover in the past 24 hours}$. \n",
    "\n",
    "The estimated coefficients of your model are $\\beta_0  = 0, \\beta_1 = 0.02, \\beta_2 = 0.015, \\beta_3 = 0.02$. What does your model predict on a winter day if $x_1 = 10$ and $x_3 = 80$? Justify your answer."
   ]
  },
  {
   "cell_type": "code",
   "execution_count": 15,
   "id": "deee669a-3e47-4a53-b11a-016897099718",
   "metadata": {
    "deletable": false,
    "editable": true,
    "slideshow": {
     "slide_type": ""
    },
    "tags": []
   },
   "outputs": [
    {
     "data": {
      "text/plain": [
       "0.8581489350995122"
      ]
     },
     "execution_count": 15,
     "metadata": {},
     "output_type": "execute_result"
    }
   ],
   "source": [
    "# free space for code if needed\n",
    "\n",
    "# SOLUTION\n",
    "import math\n",
    "beta0 = 0\n",
    "beta1 = 0.02\n",
    "beta2 = 0.015\n",
    "beta3 = 0.02\n",
    "\n",
    "x1 = 10\n",
    "x2 = 0\n",
    "x3 = 80\n",
    "\n",
    "your_models_predicted_probability = math.exp(beta0 + beta1*x1 + beta2*x2 + beta3*x3)/(1+math.exp(beta0 + beta1*x1 + beta2*x2 + beta3*x3))\n",
    "your_models_predicted_probability"
   ]
  },
  {
   "cell_type": "markdown",
   "id": "ad0045f1-01cc-416e-ad38-3c875525ed8e",
   "metadata": {
    "deletable": false,
    "editable": true,
    "slideshow": {
     "slide_type": ""
    },
    "tags": []
   },
   "source": [
    "*Your answer here*\n",
    "\n",
    "**Solution**:\n",
    "The model predicts a probability of $85.8\\%$ of rain. Since we would typically cut at $50\\%$ we would interpret this as the model predicting rain on the following day."
   ]
  },
  {
   "cell_type": "markdown",
   "id": "be80a1a5-97f7-4317-9440-dfb66d87840b",
   "metadata": {
    "deletable": false,
    "editable": false,
    "slideshow": {
     "slide_type": ""
    },
    "tags": []
   },
   "source": [
    "## Task 10 (2 points)\n",
    "Assume you have trained a simple linear regression model to estimate the mean yearly rainfall depending of a location based on its altitude. Explain carefully all steps you would need to perform in oder to estimate the standard deviation of your model's prediction for the city of Ingolstadt located a an altitude of 374m using **the bootstrap**."
   ]
  },
  {
   "cell_type": "markdown",
   "id": "2f4eab05-e348-4765-8658-500e364ffb20",
   "metadata": {
    "deletable": false,
    "editable": true,
    "slideshow": {
     "slide_type": ""
    },
    "tags": []
   },
   "source": [
    "*Your answer here*\n",
    "**Solution**:\n",
    "\n",
    "1. Create 1,000 bootstrap samples from the training set (same size, sampling with replacement)\n",
    "2. For each of these bootstrapped training samples, train a linear regression model to predict the mean annual rainfall based on the predictor ALTITUDE.\n",
    "3. For each of the models trained in Step 2, compute the mean annual rainfall for a new datapoint with ALTITUDE 374.\n",
    "4. Compute the sample standard deviation of the 1,000 estimates for the mean annual rainfall from Step 3. This value is our estimate of the standard deviation."
   ]
  },
  {
   "cell_type": "markdown",
   "id": "b19ed8d1-c750-4da0-b792-1b86331e9287",
   "metadata": {
    "deletable": false,
    "editable": false,
    "slideshow": {
     "slide_type": ""
    },
    "tags": []
   },
   "source": [
    "# Part 5: Handing your exam in"
   ]
  },
  {
   "cell_type": "markdown",
   "id": "ea2fea34-05a6-4501-af60-05b40c261301",
   "metadata": {
    "deletable": false,
    "editable": false,
    "slideshow": {
     "slide_type": ""
    },
    "tags": []
   },
   "source": [
    "## Task 11 (0 points)\n",
    "Save your final Notebook by pressing \"File\"->\"Save Notebook\". Make sure you assigned your 8 digits matriculation number as a string to the variable `matriculation_number` in one of the first cells of this notebook.  \n",
    "\n",
    "After this, run the cell below to export you Notebook to PDF format."
   ]
  },
  {
   "cell_type": "code",
   "execution_count": 16,
   "id": "4a8c7e4f-924c-4e7a-a6dd-9dff2d52b36d",
   "metadata": {
    "deletable": false,
    "editable": false,
    "slideshow": {
     "slide_type": ""
    },
    "tags": []
   },
   "outputs": [
    {
     "name": "stdout",
     "output_type": "stream",
     "text": [
      "[NbConvertApp] Converting notebook Exam.ipynb to pdf\n",
      "[NbConvertApp] Support files will be in 12345678_exam_files/\n",
      "[NbConvertApp] Making directory ./12345678_exam_files\n",
      "[NbConvertApp] Writing 41601 bytes to notebook.tex\n",
      "[NbConvertApp] Building PDF\n",
      "[NbConvertApp] Running xelatex 3 times: ['xelatex', 'notebook.tex', '-quiet']\n",
      "[NbConvertApp] Running bibtex 1 time: ['bibtex', 'notebook']\n",
      "[NbConvertApp] WARNING | bibtex had problems, most likely because there were no citations\n",
      "[NbConvertApp] PDF successfully created\n",
      "[NbConvertApp] Writing 163813 bytes to 12345678_exam.pdf\n"
     ]
    }
   ],
   "source": [
    "filename = str(matriculation_number) + '_exam.pdf'\n",
    "!jupyter nbconvert Exam.ipynb --to pdf --output $filename"
   ]
  },
  {
   "cell_type": "markdown",
   "id": "d5b30a56-eaef-4332-8356-a47d479a273b",
   "metadata": {
    "deletable": false,
    "editable": false,
    "slideshow": {
     "slide_type": ""
    },
    "tags": []
   },
   "source": [
    "---\n",
    "\n",
    "**Copyright note**: The dataset, the prerpocessing and the idea for this case study are taken from the SOGA-Py project of the Department of Earth Sciences from Freie Universität Berlin by Annette Rudolph, Joachim Krios and Kai Hartmann. They are shared under a Creative Commons license."
   ]
  }
 ],
 "metadata": {
  "kernelspec": {
   "display_name": "Python 3 (ipykernel)",
   "language": "python",
   "name": "python3"
  },
  "language_info": {
   "codemirror_mode": {
    "name": "ipython",
    "version": 3
   },
   "file_extension": ".py",
   "mimetype": "text/x-python",
   "name": "python",
   "nbconvert_exporter": "python",
   "pygments_lexer": "ipython3",
   "version": "3.9.7"
  }
 },
 "nbformat": 4,
 "nbformat_minor": 5
}
