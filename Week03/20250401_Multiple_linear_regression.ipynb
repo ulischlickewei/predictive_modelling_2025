{
 "cells": [
  {
   "cell_type": "markdown",
   "metadata": {
    "id": "WkrWKXfF5AL3"
   },
   "source": [
    "# Preparing the environment"
   ]
  },
  {
   "cell_type": "code",
   "execution_count": null,
   "metadata": {
    "id": "UO5wcrqe4671"
   },
   "outputs": [],
   "source": [
    "# import all needed packages\n",
    "import numpy as np\n",
    "import pandas as pd\n",
    "\n",
    "import statsmodels.api as sm\n",
    "\n",
    "import matplotlib.pyplot as plt\n",
    "import seaborn as sns\n",
    "\n",
    "from statsmodels.stats.outliers_influence \\\n",
    "     import variance_inflation_factor as VIF\n",
    "from statsmodels.stats.anova import anova_lm\n",
    "\n",
    "from ISLP import load_data\n",
    "from ISLP.models import (ModelSpec as MS,\n",
    "                         summarize,\n",
    "                         poly)"
   ]
  },
  {
   "cell_type": "markdown",
   "metadata": {
    "id": "PmQ-fEimxClo"
   },
   "source": [
    "# A) Case study\n",
    "(see textbook Exercise 3.7.9)\n",
    "\n",
    "*Information on the dataset*\n",
    "\n",
    "Gas mileage, horsepower, and other information for 392 vehicles.\n",
    "\n",
    "A data frame with 392 observations on the following 9 variables.\n",
    "\n",
    "- `mpg`: miles per gallon\n",
    "- `cylinders`: Number of cylinders between 4 and 8\n",
    "- `displacement`: Engine displacement (cu. inches)\n",
    "- `horsepower`: Engine horsepower\n",
    "- `weight`: Vehicle weight (lbs.)\n",
    "- `acceleration`: Time to accelerate from 0 to 60 mph (sec.)\n",
    "- `year`: Model year (modulo 100)\n",
    "- `origin`: Origin of car (1. American, 2. European, 3. Japanese)\n",
    "- `name`: Vehicle name"
   ]
  },
  {
   "cell_type": "code",
   "execution_count": null,
   "metadata": {
    "id": "GOzJ-i9CxFKi"
   },
   "outputs": [],
   "source": [
    "# run this cell to load the data\n",
    "Auto = load_data('Auto')\n",
    "Auto"
   ]
  },
  {
   "cell_type": "markdown",
   "metadata": {
    "id": "rxKG_NJg-qC6"
   },
   "source": [
    "## Task A.1\n",
    "Produce a scatterplot matrix which includes all of the variables in the data set."
   ]
  },
  {
   "cell_type": "code",
   "execution_count": null,
   "metadata": {
    "id": "1UYc669H_Ugq"
   },
   "outputs": [],
   "source": [
    "# your answer here"
   ]
  },
  {
   "cell_type": "markdown",
   "metadata": {
    "id": "V43Cz37gIjDz"
   },
   "source": [
    "We observe that all variables seem to be related to `mpg`. This indicates that it might be a good starting point to build a regression model with all possible predictor variables."
   ]
  },
  {
   "cell_type": "markdown",
   "metadata": {
    "id": "vAazknGd_jPs"
   },
   "source": [
    "## Task A.2\n",
    "Compute the matrix of correlations between the variables using the `DataFrame.corr()` method."
   ]
  },
  {
   "cell_type": "code",
   "execution_count": null,
   "metadata": {
    "id": "Ufno8tZM_lQX"
   },
   "outputs": [],
   "source": [
    "# your answer here"
   ]
  },
  {
   "cell_type": "markdown",
   "metadata": {
    "id": "TSMg6KEJ_vDy"
   },
   "source": [
    "## Task A.3\n",
    "Use the `sm.OLS()` function to perform a multiple linear regression with `mpg` as the response and all other variables except `name` as the predictors. Use the `summarize()` function to print the results. Comment on the output. For instance:\n",
    "\n",
    "1. Is there a relationship between the predictors and the response? Use the `summary()` function from statsmodels to answer this question.\n",
    "2. Which predictors appear to have a statistically significant relationship to the response?\n",
    "3. What does the coefficient for the `year` variable suggest?"
   ]
  },
  {
   "cell_type": "code",
   "execution_count": null,
   "metadata": {
    "id": "meDcRAddROlh"
   },
   "outputs": [],
   "source": [
    "# your answer here"
   ]
  },
  {
   "cell_type": "markdown",
   "metadata": {
    "id": "paAjcY_-ASC8",
    "tags": []
   },
   "source": [
    "### Analysis of the model\n",
    "1. Is there a relationship between the predictors and the response? Use the `summary()` function from statsmodels to answer this question."
   ]
  },
  {
   "cell_type": "code",
   "execution_count": null,
   "metadata": {
    "tags": []
   },
   "outputs": [],
   "source": [
    "# your answer here"
   ]
  },
  {
   "cell_type": "markdown",
   "metadata": {},
   "source": [
    "2. Which predictors appear to have a statistically significant relationship to the response?"
   ]
  },
  {
   "cell_type": "code",
   "execution_count": null,
   "metadata": {},
   "outputs": [],
   "source": [
    "# your answer here"
   ]
  },
  {
   "cell_type": "markdown",
   "metadata": {},
   "source": [
    "3. What does the coefficient for the `year` variable suggest?"
   ]
  },
  {
   "cell_type": "code",
   "execution_count": null,
   "metadata": {},
   "outputs": [],
   "source": [
    "#your answer here"
   ]
  }
 ],
 "metadata": {
  "colab": {
   "authorship_tag": "ABX9TyP6YCcka7bZpm0ECnhACcmG",
   "include_colab_link": true,
   "provenance": [],
   "toc_visible": true
  },
  "kernelspec": {
   "display_name": "Python 3 (ipykernel)",
   "language": "python",
   "name": "python3"
  },
  "language_info": {
   "codemirror_mode": {
    "name": "ipython",
    "version": 3
   },
   "file_extension": ".py",
   "mimetype": "text/x-python",
   "name": "python",
   "nbconvert_exporter": "python",
   "pygments_lexer": "ipython3",
   "version": "3.9.7"
  }
 },
 "nbformat": 4,
 "nbformat_minor": 4
}
